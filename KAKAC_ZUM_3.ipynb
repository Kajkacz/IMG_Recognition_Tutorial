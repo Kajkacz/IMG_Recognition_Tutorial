{
  "cells": [
    {
      "cell_type": "markdown",
      "metadata": {
        "id": "IImW6xGnwobW"
      },
      "source": [
        "# Rozpoznawanie obrazu\n",
        "Ostatnia aktualizacja: 2021.04.07"
      ]
    },
    {
      "cell_type": "markdown",
      "metadata": {
        "id": "Eh7IOzAiR_00"
      },
      "source": [
        "Zanim zaczniemy: Runtime / Change runtime type / włączamy GPU"
      ]
    },
    {
      "cell_type": "markdown",
      "metadata": {
        "id": "3qW-R-Zn3y5b"
      },
      "source": [
        "## MNIST\n",
        "Zaczniemy od zbioru MNIST (Modified National Institute of Standards and Technology), zawierającego 70 000 pisanych ręcznie cyfr (o wymiarach 28x28 pixeli w skali szarości o wartościach 0-255, czyli 1 bajt na pixel).\n",
        "Zbiór jest już podzielony na dane treningowe i testowe, jest bardzo popularny, więc łatwo jest porównać nasze wyniki z publikownaymi w internecie.  \n",
        "Do sieci neuronowych będziemy używać Keras, który jest nakładką na Tensorflow / Theano / CNTK.  \n",
        "Obecnie najczęściej do przetwarzania obrazu używa się Tensorflow, Keras, PyTorch i Caffe. Ten ostatni moim zdaniem jest najmniej przyjazny i traci na popularności, ale kiedyś był często używany do obrazu, więc ma spore 'model zoo'.  \n",
        "Na początek zaimportujmy nasz zbiór z keras.datasets i numpy.  \n",
        "Zbiory dostępne w Keras:  \n",
        "https://keras.io/datasets/\n"
      ]
    },
    {
      "cell_type": "markdown",
      "metadata": {
        "id": "v__1lKTRrJ9J"
      },
      "source": [
        "## Instructions\n",
        "Powtórz eksperyment z pierwszego notatnika (w którym klasyfikowaliśmy MNIST używając SVM i CNN) na zbiorze danych CIFAR-10: https://keras.io/datasets/\n",
        "\n",
        "Najpierw przeprowadź klasyfikację za pomocą sieci, które stworzyliśmy na zajęciach - trzeba je dostosować, bo zdjęcia w CIFAR są w RGB, czyli mają 3 kanały.\n",
        "\n",
        "Następnie wydziel zbiór walidacyjny i dodaj early stopping (https://keras.io/api/callbacks/early_stopping/)\n",
        "\n",
        "Kolejnym krokiem jest próba poprawienia wyniku. Spróbuj wprowadzić modyfikacje (np. dodawanie, usuwanie lub modyfikacja warstw Conv2D, Dense, Pooling, dodanie Dropoutu, modyfikacja hiperparametrów, itd.) do sieci, które mogłyby poprawić jej skuteczność. Stwórz co najmniej 3 takie sieci i opisz wprowadzone w nich zmiany.\n",
        "\n",
        "Dla chętnych: jakby ktoś chciałby się bardziej pobawić sieciami, można spróbować dodać jeszcze data augmentation i zrobić porównanie treningu z augmentation i bez.\n",
        "\n",
        "Wrzuć plik .ipynb ze swoimi eksperymentami i opisami stworzonych sieci.\n",
        "\n",
        "W razie pytań lub wąpliwości, proszę pisać: lukasz.wilczynski@pjwstk.edu.pl\n",
        "My work"
      ]
    },
    {
      "cell_type": "code",
      "execution_count": 2,
      "metadata": {
        "id": "j9NGgReMXoyK"
      },
      "outputs": [],
      "source": [
        "from keras.datasets import cifar10 as dataset\n",
        "import numpy as np"
      ]
    },
    {
      "cell_type": "markdown",
      "metadata": {
        "id": "K7IMFVhdaGe-"
      },
      "source": [
        "Wczytajmy dane mnist do zmiennych X_train, y_train, X_test, y_test, używając metody load_data. \n",
        "X jest dużą literą bo to macierz, y małą bo wektor."
      ]
    },
    {
      "cell_type": "code",
      "execution_count": 3,
      "metadata": {
        "colab": {
          "base_uri": "https://localhost:8080/"
        },
        "id": "wHuV5NPAXr4G",
        "outputId": "e3a47105-3125-44b1-d19a-58075c14e8c7"
      },
      "outputs": [],
      "source": [
        "(X_train, y_train), (X_test, y_test) = dataset.load_data()"
      ]
    },
    {
      "cell_type": "markdown",
      "metadata": {
        "id": "spefY_e83sZN"
      },
      "source": [
        "### Wizualizacja danych\n",
        "Zanim zaczniemy cokowliek robić z naszymi danymi, warto zobaczyć, jak wyglądają. Na dobry początek wypiszmy sobie kształty naszych zbiorów danych oraz  wydrukujmy pierwszy element zbioru treningowego (funkcja print) i jego etykietę. "
      ]
    },
    {
      "cell_type": "code",
      "execution_count": 4,
      "metadata": {
        "colab": {
          "base_uri": "https://localhost:8080/"
        },
        "id": "V3_5q9Vgbpv0",
        "outputId": "71eca8d7-1b25-4863-82f8-a8fe4005d10c"
      },
      "outputs": [
        {
          "name": "stdout",
          "output_type": "stream",
          "text": [
            "X_train: {}, y_train: {} (50000, 32, 32, 3) (50000, 1)\n",
            "X_test: {}, y_test: {} (10000, 32, 32, 3) (10000, 1)\n"
          ]
        }
      ],
      "source": [
        "print(\"X_train: {}, y_train: {}\", X_train.shape, y_train.shape)\n",
        "print(\"X_test: {}, y_test: {}\", X_test.shape, y_test.shape)"
      ]
    },
    {
      "cell_type": "markdown",
      "metadata": {
        "id": "yZpZmpJpbr87"
      },
      "source": [
        "Ponieważ nasze dane to tak naprawdę pixele w skali szarości, możemy je sobie wyświetlić jako obrazki. pyplot ma funkcję imshow, użyjmy jej do wyświetlenia pierwszego elementu zbioru treningowego. Ponieważ skala szarości, podajmy wartość argumentu cmap 'gray' lub 'Greys'. [Tutaj są różne color mapy.](   \n",
        "https://matplotlib.org/examples/color/colormaps_reference.html)"
      ]
    },
    {
      "cell_type": "code",
      "execution_count": 5,
      "metadata": {
        "colab": {
          "base_uri": "https://localhost:8080/",
          "height": 282
        },
        "id": "nIh_CbLNcRLZ",
        "outputId": "48fc65d5-145d-40c6-fa93-bd526b13d034"
      },
      "outputs": [
        {
          "data": {
            "text/plain": [
              "<matplotlib.image.AxesImage at 0x2c3e6730610>"
            ]
          },
          "execution_count": 5,
          "metadata": {},
          "output_type": "execute_result"
        },
        {
          "data": {
            "image/png": "[encoded data removed]",
            "text/plain": [
              "<Figure size 432x288 with 1 Axes>"
            ]
          },
          "metadata": {
            "needs_background": "light"
          },
          "output_type": "display_data"
        }
      ],
      "source": [
        "import matplotlib.pyplot as plt\n",
        "plt.imshow(X_train[0], cmap='bone')"
      ]
    },
    {
      "cell_type": "markdown",
      "metadata": {
        "id": "4-UKeThLcR87"
      },
      "source": [
        "Kiedy drukujemy nasz element funkcją print, nie jest to do końca czytelne, ponieważ rzędy nie mieszczą się w jednej linijce. Wydrukujmy sobie lewy górny róg pierwszego obrazka, np kwadrad 16x16 pixeli (jeśli 16 się nie zmieści, to trochę mniej). Ten sam kwadrat wydrukujmy używając imshow. Czy widać, że patrzymy na to samo? \n",
        "Podsumowując, musimy dostać się do pierwszego elementu zbioru treningowego, i przekazać jego kawałek (slice) funkcjom print i imshow. Jeśli ktoś nie wie jak, zamiast przekopywać dokumentację [możemy zerknąć na SO](https://stackoverflow.com/questions/509211/understanding-slice-notation_)"
      ]
    },
    {
      "cell_type": "code",
      "execution_count": 6,
      "metadata": {
        "colab": {
          "base_uri": "https://localhost:8080/",
          "height": 560
        },
        "id": "7y1Xy3MPKCb1",
        "outputId": "d26d529e-c4d9-4b19-e87e-6252454c722d"
      },
      "outputs": [
        {
          "name": "stdout",
          "output_type": "stream",
          "text": [
            "[[[ 59  62  63]\n",
            "  [ 43  46  45]\n",
            "  [ 50  48  43]\n",
            "  [ 68  54  42]\n",
            "  [ 98  73  52]\n",
            "  [119  91  63]\n",
            "  [139 107  75]\n",
            "  [145 110  80]\n",
            "  [149 117  89]\n",
            "  [149 120  93]\n",
            "  [131 103  77]\n",
            "  [125  99  76]\n",
            "  [142 115  91]\n",
            "  [144 112  86]\n",
            "  [137 105  79]\n",
            "  [129  97  71]]\n",
            "\n",
            " [[ 16  20  20]\n",
            "  [  0   0   0]\n",
            "  [ 18   8   0]\n",
            "  [ 51  27   8]\n",
            "  [ 88  51  21]\n",
            "  [120  82  43]\n",
            "  [128  89  45]\n",
            "  [127  86  44]\n",
            "  [126  87  50]\n",
            "  [116  79  44]\n",
            "  [106  70  37]\n",
            "  [101  67  35]\n",
            "  [105  70  36]\n",
            "  [113  74  35]\n",
            "  [109  70  33]\n",
            "  [112  72  37]]\n",
            "\n",
            " [[ 25  24  21]\n",
            "  [ 16   7   0]\n",
            "  [ 49  27   8]\n",
            "  [ 83  50  23]\n",
            "  [110  72  41]\n",
            "  [129  92  54]\n",
            "  [130  93  55]\n",
            "  [121  82  47]\n",
            "  [113  77  43]\n",
            "  [112  78  44]\n",
            "  [112  79  46]\n",
            "  [106  75  45]\n",
            "  [105  73  38]\n",
            "  [128  92  48]\n",
            "  [124  87  47]\n",
            "  [130  92  56]]\n",
            "\n",
            " [[ 33  25  17]\n",
            "  [ 38  20   4]\n",
            "  [ 87  54  25]\n",
            "  [106  63  28]\n",
            "  [115  70  33]\n",
            "  [117  74  35]\n",
            "  [114  72  37]\n",
            "  [105  62  33]\n",
            "  [107  68  33]\n",
            "  [121  84  45]\n",
            "  [125  90  53]\n",
            "  [109  75  40]\n",
            "  [113  77  38]\n",
            "  [146 105  58]\n",
            "  [133  91  47]\n",
            "  [127  84  45]]\n",
            "\n",
            " [[ 50  32  21]\n",
            "  [ 59  32  11]\n",
            "  [102  65  34]\n",
            "  [127  79  39]\n",
            "  [124  77  36]\n",
            "  [121  77  36]\n",
            "  [120  78  40]\n",
            "  [114  74  39]\n",
            "  [107  72  34]\n",
            "  [125  88  49]\n",
            "  [129  89  51]\n",
            "  [106  68  31]\n",
            "  [108  71  33]\n",
            "  [124  83  42]\n",
            "  [121  78  39]\n",
            "  [108  68  29]]\n",
            "\n",
            " [[ 71  48  29]\n",
            "  [ 84  53  24]\n",
            "  [110  73  37]\n",
            "  [129  82  38]\n",
            "  [136  88  45]\n",
            "  [131  84  42]\n",
            "  [129  84  43]\n",
            "  [119  77  37]\n",
            "  [108  70  33]\n",
            "  [122  82  44]\n",
            "  [123  81  39]\n",
            "  [105  65  25]\n",
            "  [107  72  31]\n",
            "  [111  77  31]\n",
            "  [108  74  34]\n",
            "  [ 98  65  27]]\n",
            "\n",
            " [[ 97  69  40]\n",
            "  [111  75  36]\n",
            "  [123  85  43]\n",
            "  [130  84  38]\n",
            "  [136  88  44]\n",
            "  [132  83  40]\n",
            "  [122  74  30]\n",
            "  [121  74  31]\n",
            "  [127  83  46]\n",
            "  [138  94  54]\n",
            "  [124  79  34]\n",
            "  [120  79  39]\n",
            "  [107  71  34]\n",
            "  [ 80  50  14]\n",
            "  [ 68  43  17]\n",
            "  [ 74  41  17]]\n",
            "\n",
            " [[115  82  49]\n",
            "  [119  76  33]\n",
            "  [130  90  47]\n",
            "  [140  97  53]\n",
            "  [133  88  48]\n",
            "  [127  81  40]\n",
            "  [138  90  47]\n",
            "  [137  89  46]\n",
            "  [131  86  48]\n",
            "  [133  89  46]\n",
            "  [134  91  46]\n",
            "  [108  70  39]\n",
            "  [ 72  39  19]\n",
            "  [ 51  26  10]\n",
            "  [ 41  22  14]\n",
            "  [ 72  31  17]]\n",
            "\n",
            " [[137 100  68]\n",
            "  [128  82  41]\n",
            "  [132  91  51]\n",
            "  [128  87  48]\n",
            "  [119  81  44]\n",
            "  [123  82  43]\n",
            "  [128  85  44]\n",
            "  [130  85  44]\n",
            "  [121  80  40]\n",
            "  [137  97  54]\n",
            "  [131  94  53]\n",
            "  [ 74  42  20]\n",
            "  [ 54  25  16]\n",
            "  [ 50  29  16]\n",
            "  [ 44  29  18]\n",
            "  [ 86  39  15]]\n",
            "\n",
            " [[154 120  89]\n",
            "  [154 112  77]\n",
            "  [156 114  82]\n",
            "  [140 100  65]\n",
            "  [123  89  53]\n",
            "  [125  86  50]\n",
            "  [126  86  48]\n",
            "  [127  91  52]\n",
            "  [133  97  60]\n",
            "  [132  97  68]\n",
            "  [ 90  60  30]\n",
            "  [ 63  35   9]\n",
            "  [ 62  33  16]\n",
            "  [ 70  39  20]\n",
            "  [ 79  50  30]\n",
            "  [103  53  26]]\n",
            "\n",
            " [[154 122  94]\n",
            "  [155 117  82]\n",
            "  [156 117  82]\n",
            "  [147 108  70]\n",
            "  [133 100  64]\n",
            "  [137 100  66]\n",
            "  [139 102  68]\n",
            "  [134 102  66]\n",
            "  [141 111  81]\n",
            "  [121  87  68]\n",
            "  [ 80  40  13]\n",
            "  [ 97  53  17]\n",
            "  [ 90  45  17]\n",
            "  [ 98  56  30]\n",
            "  [137  91  57]\n",
            "  [139  84  49]]\n",
            "\n",
            " [[145 114  89]\n",
            "  [146 109  73]\n",
            "  [146 109  69]\n",
            "  [135  97  55]\n",
            "  [127  92  57]\n",
            "  [129  94  65]\n",
            "  [117  84  55]\n",
            "  [103  74  42]\n",
            "  [130 103  70]\n",
            "  [120  83  55]\n",
            "  [111  60  14]\n",
            "  [146  86  22]\n",
            "  [136  78  23]\n",
            "  [163 116  77]\n",
            "  [169 115  69]\n",
            "  [152 100  52]]\n",
            "\n",
            " [[142 115  86]\n",
            "  [141 106  69]\n",
            "  [140 105  68]\n",
            "  [144 105  64]\n",
            "  [147 110  74]\n",
            "  [121  89  65]\n",
            "  [ 84  56  34]\n",
            "  [ 88  61  33]\n",
            "  [109  80  44]\n",
            "  [101  57  23]\n",
            "  [138  79  19]\n",
            "  [213 150  59]\n",
            "  [178 123  41]\n",
            "  [191 150  98]\n",
            "  [211 169 122]\n",
            "  [189 148  99]]\n",
            "\n",
            " [[158 131  98]\n",
            "  [154 119  82]\n",
            "  [142 107  74]\n",
            "  [143 102  65]\n",
            "  [132  92  59]\n",
            "  [ 90  59  36]\n",
            "  [ 72  44  22]\n",
            "  [ 81  52  24]\n",
            "  [ 84  47  19]\n",
            "  [107  55  25]\n",
            "  [165 106  50]\n",
            "  [229 176  92]\n",
            "  [183 137  57]\n",
            "  [191 158 103]\n",
            "  [239 216 176]\n",
            "  [219 192 149]]\n",
            "\n",
            " [[145 115  79]\n",
            "  [149 109  66]\n",
            "  [147 108  68]\n",
            "  [147 105  65]\n",
            "  [136  95  62]\n",
            "  [ 80  47  21]\n",
            "  [ 89  57  32]\n",
            "  [105  68  40]\n",
            "  [ 96  51  26]\n",
            "  [129  81  45]\n",
            "  [192 152 113]\n",
            "  [185 148 107]\n",
            "  [145 101  51]\n",
            "  [203 162 121]\n",
            "  [223 200 170]\n",
            "  [242 227 196]]\n",
            "\n",
            " [[148 116  79]\n",
            "  [146 100  54]\n",
            "  [145 100  55]\n",
            "  [147 100  51]\n",
            "  [133  96  54]\n",
            "  [ 63  42  21]\n",
            "  [ 66  43  31]\n",
            "  [ 88  50  34]\n",
            "  [113  65  37]\n",
            "  [182 146 110]\n",
            "  [220 191 169]\n",
            "  [138  94  71]\n",
            "  [162 105  63]\n",
            "  [206 156 112]\n",
            "  [196 166 135]\n",
            "  [247 234 212]]]\n"
          ]
        },
        {
          "data": {
            "text/plain": [
              "<matplotlib.image.AxesImage at 0x2c3e6831e50>"
            ]
          },
          "execution_count": 6,
          "metadata": {},
          "output_type": "execute_result"
        },
        {
          "data": {
            "image/png": "[encoded data removed]",
            "text/plain": [
              "<Figure size 432x288 with 1 Axes>"
            ]
          },
          "metadata": {
            "needs_background": "light"
          },
          "output_type": "display_data"
        }
      ],
      "source": [
        "image_slice = X_train[0][0:16, 0:16]\n",
        "print(image_slice)\n",
        "plt.imshow(image_slice, cmap='gray')"
      ]
    },
    {
      "cell_type": "markdown",
      "metadata": {
        "id": "NefTmiy_KG6o"
      },
      "source": [
        "Jeśli widzimy, że obrazek i print pokazują to samo, obejrzyjmy teraz więcej danych.  \n",
        "Narysujmy sobie pierwsze 9 lub 16 elementów. Przydadzą się funkcje subplot, imshow z pyplot i ewentualnie google. "
      ]
    },
    {
      "cell_type": "code",
      "execution_count": 7,
      "metadata": {
        "colab": {
          "base_uri": "https://localhost:8080/",
          "height": 545
        },
        "id": "ytMD79YIv8hV",
        "outputId": "48259d79-42c7-4f07-d322-cefef569f07a"
      },
      "outputs": [
        {
          "data": {
            "image/png": "[encoded data removed]",
            "text/plain": [
              "<Figure size 432x288 with 9 Axes>"
            ]
          },
          "metadata": {
            "needs_background": "light"
          },
          "output_type": "display_data"
        },
        {
          "data": {
            "image/png": "[encoded data removed]",
            "text/plain": [
              "<Figure size 432x288 with 9 Axes>"
            ]
          },
          "metadata": {
            "needs_background": "light"
          },
          "output_type": "display_data"
        }
      ],
      "source": [
        "for i in range(9):\n",
        "  plt.subplot(3, 3, i+1)\n",
        "  plt.imshow(X_train[i], cmap='gray')\n",
        "  plt.title(y_train[i])\n",
        "plt.show()\n",
        "\n",
        "for i in range(9):\n",
        "  plt.subplot(3, 3, i+1)\n",
        "  plt.title(y_test[i])\n",
        "  plt.imshow(X_test[i], cmap='gray')\n",
        "plt.show()"
      ]
    },
    {
      "cell_type": "markdown",
      "metadata": {
        "id": "_OLHtE4ULuEA"
      },
      "source": [
        "OK, czyli wiemy, jak wyglądają nasze dane. Są to pixele w skali szarości, gdzie 0 to pustka, a 255 to bardzo mocno wciśnięty długopis.  "
      ]
    },
    {
      "cell_type": "markdown",
      "metadata": {
        "id": "Oq7kIoP25Qfs"
      },
      "source": [
        "### Klasyfikacja SVM'em\n",
        "Ponieważ jest to popularny zbiór danych, możemy sobie podejrzeć, jak różne modele powinny sobie z nim poradzić.  \n",
        "https://en.wikipedia.org/wiki/MNIST_database  \n",
        "Z tabelki na tej stronie wynika, że najlepiej radzą sobie CNNy, ale SVM też wypada całkiem nieźle.  \n",
        "Problem jest taki, że na 60 000 instancji będzie się strasznie długo uczył, więc zrobimy trening na części. Chętni mogą sobie powtórzyć na pełnym zbiorze w domu.  \n",
        "Zróbmy sobie zmienną train_count i ustawmy jej wartość na 10 000 - na tylu danych będziemy ćwiczyć nasz SVM. Wydrukujmy sobie kształt naszego wycinka pierwszych 10 000 instancji treningowych. \n",
        "Zobaczmy też, jak wygląda rozkład klas - czy przypadkiem w pierwszych 10 000 instancji nie będą np. same jedynki i dwójki. Numpy ma przydatną funkcję unique. "
      ]
    },
    {
      "cell_type": "code",
      "execution_count": 8,
      "metadata": {
        "colab": {
          "base_uri": "https://localhost:8080/"
        },
        "id": "rPe5KH1KRJLa",
        "outputId": "a4fbfd20-a409-41c5-aaa3-057f5e31fb13"
      },
      "outputs": [
        {
          "data": {
            "text/plain": [
              "(array([0, 1, 2, 3, 4, 5, 6, 7, 8, 9], dtype=uint8),\n",
              " array([1005,  974, 1032, 1016,  999,  937, 1030, 1001, 1025,  981],\n",
              "       dtype=int64))"
            ]
          },
          "execution_count": 8,
          "metadata": {},
          "output_type": "execute_result"
        }
      ],
      "source": [
        "train_count = 10000\n",
        "X_train = X_train[0:train_count]\n",
        "y_train = y_train[0:train_count]\n",
        "\n",
        "np.unique(y_train, return_counts=True)"
      ]
    },
    {
      "cell_type": "markdown",
      "metadata": {
        "id": "QU83tToCOqEJ"
      },
      "source": [
        "Użyjmy SVM'a z scikit-learn'a. Deskewing sobie odpuścimy (jak ktoś bardzo chce, proponuję w domu lub na szybko znaleźć gotowy kod), tak jak w linku użyjmy 'poly' kernel, a gamma ustawmy na 0.1.\n",
        "Czyli chcemy stworzyć obiekt klasyfikatora używając svm.SVC, a następnie wytrenować go na 10000 danych treningowych (metoda fit).  \n",
        "SVM może przyjąć dane w postaci wektora liczb, więc przyda się metoda reshape, która pozwoli nam przekształcić 2-wymiarowe macierze w wektory."
      ]
    },
    {
      "cell_type": "code",
      "execution_count": 9,
      "metadata": {},
      "outputs": [
        {
          "data": {
            "text/plain": [
              "(10000, 32, 32, 3)"
            ]
          },
          "execution_count": 9,
          "metadata": {},
          "output_type": "execute_result"
        }
      ],
      "source": [
        "X_train.shape"
      ]
    },
    {
      "cell_type": "code",
      "execution_count": 10,
      "metadata": {
        "colab": {
          "base_uri": "https://localhost:8080/"
        },
        "id": "Cu9obJdl5OqR",
        "outputId": "4ae2f9e5-8cbe-4f42-c88f-6aa5a3545c6c"
      },
      "outputs": [
        {
          "data": {
            "text/plain": [
              "SVC(gamma=0.1, kernel='poly')"
            ]
          },
          "execution_count": 10,
          "metadata": {},
          "output_type": "execute_result"
        }
      ],
      "source": [
        "from sklearn import svm\n",
        "classifier = svm.SVC(kernel='poly', gamma=0.1)\n",
        "classifier.fit(X_train.reshape(X_train.shape[0], X_train.shape[1]*X_train.shape[2]*X_train.shape[3]), y_train)"
      ]
    },
    {
      "cell_type": "markdown",
      "metadata": {
        "id": "mLX2i2RSxmzm"
      },
      "source": [
        "Jeśli wszystko się udało, teraz zobaczmy, jak mu pójdzie z danymi testowymi. Użyjmy metody 'predict' naszego wytrenowanego już klasyfikatora i zapiszmy sobie wynik do zmiennej y_pred (dostaniemy wektor 'predykcji')."
      ]
    },
    {
      "cell_type": "code",
      "execution_count": 11,
      "metadata": {
        "id": "6_iH8g-Kxd63"
      },
      "outputs": [],
      "source": [
        "y_pred = classifier.predict(X_test.reshape(X_test.shape[0], X_train.shape[1]*X_train.shape[2]*X_train.shape[3]))"
      ]
    },
    {
      "cell_type": "markdown",
      "metadata": {
        "id": "NU9H7eorS7Ha"
      },
      "source": [
        "Teraz porównajmy sobie nasze predykcje z prawidłowymi etykietami. Wypiszmy sobie może pierwsze 10 wyników i 10 etykiet. "
      ]
    },
    {
      "cell_type": "code",
      "execution_count": 12,
      "metadata": {
        "colab": {
          "base_uri": "https://localhost:8080/"
        },
        "id": "1stg6wqhTGs9",
        "outputId": "6406cd39-ad01-4d7d-89d9-efcfa68785b8"
      },
      "outputs": [
        {
          "name": "stdout",
          "output_type": "stream",
          "text": [
            "[3 8 8 8 4 6 1 4 2 1 8 1 5 7 1 8 3 7 8 6]\n",
            "[[3]\n",
            " [8]\n",
            " [8]\n",
            " [0]\n",
            " [6]\n",
            " [6]\n",
            " [1]\n",
            " [6]\n",
            " [3]\n",
            " [1]\n",
            " [0]\n",
            " [9]\n",
            " [5]\n",
            " [7]\n",
            " [9]\n",
            " [8]\n",
            " [5]\n",
            " [7]\n",
            " [8]\n",
            " [6]]\n"
          ]
        }
      ],
      "source": [
        "print(y_pred[:20])\n",
        "print(y_test[:20])"
      ]
    },
    {
      "cell_type": "markdown",
      "metadata": {
        "id": "OkHw_vdbTJFc"
      },
      "source": [
        "Świetnie. sklearn ma sporo funkcji do analizowania wyników predykcji, użyjmy accuracy_score i confusion_matrix (powinny być w skearn.metrics). "
      ]
    },
    {
      "cell_type": "code",
      "execution_count": 13,
      "metadata": {
        "colab": {
          "base_uri": "https://localhost:8080/"
        },
        "id": "ziWuhDdov3SB",
        "outputId": "6c36892a-1ae4-4ceb-a75d-4d16bb0f3a65"
      },
      "outputs": [
        {
          "name": "stdout",
          "output_type": "stream",
          "text": [
            "0.4166\n",
            "[[504  84  98  42  61  37  30  64 130  80]\n",
            " [ 37 488  14  32  27  14  17  39  85 216]\n",
            " [ 86  33 355 147 191 122 140  87  39  15]\n",
            " [ 35  47  95 295  95 216 152  83  32  43]\n",
            " [ 44  27 141  70 371  87 140 107  32  26]\n",
            " [ 22  33  84 180  63 326  56  87  22  31]\n",
            " [ 18  19  95 103  85  66 402  30   9  24]\n",
            " [ 34  25  71  51  70  75  28 443  21  58]\n",
            " [173  82  30  40  27  35  15  17 576 101]\n",
            " [ 47 162  17  40  10  22  20  43  54 406]]\n"
          ]
        }
      ],
      "source": [
        "from sklearn.metrics import accuracy_score, confusion_matrix\n",
        "print(accuracy_score(y_pred, y_test))\n",
        "print(confusion_matrix(y_pred, y_test))"
      ]
    },
    {
      "cell_type": "markdown",
      "metadata": {
        "id": "RXXQRGG0Uic_"
      },
      "source": [
        "Patrząc na confusion matrix widzimy, co się najczęściej myli, np 1 i 7, 3 i 5, itp. Jak widzieliśmy, SVM przyjmuje wektor zamiast macierzy, czyli nasze dane przestały być 2D. Nasz obrazek teraz ma 28*28 na 1 pixeli. "
      ]
    },
    {
      "cell_type": "markdown",
      "metadata": {
        "id": "faTkzRg5Zaw5"
      },
      "source": [
        "[Tutaj](https://scikit-learn.org/stable/modules/model_persistence.html) jest opisana serializacja wytrenowanych modeli w sklearn, teraz nie mamy takiej potrzeby."
      ]
    },
    {
      "cell_type": "markdown",
      "metadata": {
        "id": "KB_KdxGDYqk7"
      },
      "source": [
        "### Mnist fashion i inne\n",
        "Teraz zmieńmy zbiór danych z mnist na mnist_fashion i zobaczmy jak sobie \n",
        "poradzi z ubraniami. Możemy albo skopiować komórki powyżej, albo zmienić tylko import mnist na fashion_mnist w pierwszej początkowej komórce kodu i uruchomić wszystkie pozostałe jeszcze raz na nowym zbiorze danych (są kompatybilne).  \n",
        "\n",
        "Jak komuś się bardzo spodobało rozpoznawanie cyfr, to jest jeszcze zbiór emnist:  \n",
        "https://www.nist.gov/node/1298471/emnist-dataset  \n",
        "https://www.kaggle.com/crawford/emnist  \n",
        "\n",
        "Przy okazji - na kaggle są bardzo ciekawe zbiory danych: \n",
        "https://www.kaggle.com/datasets  "
      ]
    },
    {
      "cell_type": "markdown",
      "metadata": {
        "id": "0lOBeLJYcAGN"
      },
      "source": [
        "### Klasyfikacja CNN'em\n",
        "SVM poradził sobie całkiem nieźle, zobaczmy jak poradzi sobie CNN.  \n",
        "Spróbujmy zrobić i wytrenować niewielką sieć - taką, która wytrenuje się w kilka minut. "
      ]
    },
    {
      "cell_type": "markdown",
      "metadata": {
        "id": "nlW4Jyg_A85O"
      },
      "source": [
        "####Przygotowanie danych"
      ]
    },
    {
      "cell_type": "markdown",
      "metadata": {
        "id": "YVO3VSVgcNFs"
      },
      "source": [
        "Dla porządku wczytajmy jeszcze raz dane, czyli wczytujemy je do X_train, y_train, X_test, y_test używając metody load_data.  "
      ]
    },
    {
      "cell_type": "code",
      "execution_count": 14,
      "metadata": {
        "colab": {
          "base_uri": "https://localhost:8080/"
        },
        "id": "PZJEJjc8nzJl",
        "outputId": "24553c35-c8c0-460c-fa6f-89f9e0a8fef4"
      },
      "outputs": [],
      "source": [
        "\n",
        "(X_train, y_train), (X_test, y_test) = dataset.load_data()"
      ]
    },
    {
      "cell_type": "code",
      "execution_count": 15,
      "metadata": {},
      "outputs": [],
      "source": [
        "# shuffler = np.random.permutation(len(X_train))\n",
        "# X_train = X_train[shuffler]\n",
        "# y_train = y_train[shuffler]\n",
        "# (X_train, X_validation) = np.split(X_train, [int(0.8*len(X_train))])\n",
        "# (y_train, y_validation) = np.split(y_train, [int(0.8*len(y_train))])\n"
      ]
    },
    {
      "cell_type": "markdown",
      "metadata": {
        "id": "D_fKB_MOrv27"
      },
      "source": [
        "Sprawdźmy kształty naszych danych (metoda shape) i sprawdźmy jakiego typu są nasze dane (funkcja type). Sprawdźmy zarówno typ zbioru treningowego jak i pojedynczego pixela. "
      ]
    },
    {
      "cell_type": "code",
      "execution_count": 16,
      "metadata": {},
      "outputs": [
        {
          "name": "stdout",
          "output_type": "stream",
          "text": [
            "50000\n",
            "50000\n"
          ]
        }
      ],
      "source": [
        "print(len(y_train))\n",
        "print(len(X_train))\n",
        "# print(len(y_validation))\n",
        "# print(len(X_validation))"
      ]
    },
    {
      "cell_type": "code",
      "execution_count": 17,
      "metadata": {
        "colab": {
          "base_uri": "https://localhost:8080/"
        },
        "id": "g_AnZ15Nr7e8",
        "outputId": "4f72212a-afcc-48f7-c118-0eb46f247387"
      },
      "outputs": [
        {
          "name": "stdout",
          "output_type": "stream",
          "text": [
            "X_train: {}, y_train: {} (50000, 32, 32, 3) (50000, 1)\n",
            "X_test: {}, y_test: {} (10000, 32, 32, 3) (10000, 1)\n",
            "<class 'numpy.ndarray'>\n",
            "<class 'numpy.ndarray'>\n",
            "<class 'numpy.ndarray'>\n"
          ]
        }
      ],
      "source": [
        "print(\"X_train: {}, y_train: {}\", X_train.shape, y_train.shape)\n",
        "print(\"X_test: {}, y_test: {}\", X_test.shape, y_test.shape)\n",
        "\n",
        "print(type(X_train[0]))\n",
        "print(type(X_train[0][0]))\n",
        "print(type(X_train[0][0][0]))"
      ]
    },
    {
      "cell_type": "markdown",
      "metadata": {
        "id": "s6hmMA0Tobxz"
      },
      "source": [
        "Sieć szybciej się nauczy na danych o wartościach w zakresie 0-1 niż 0-255, więc musimy je znormalizować. Przeróbmy dane treningowe i testowe tak, żeby miały wartości w zakresie 0-1 zamiast 0-255. Następnie sprawdźmy typ pojedynczego pixela. \n"
      ]
    },
    {
      "cell_type": "code",
      "execution_count": 18,
      "metadata": {
        "id": "sVwm01xOoOBo"
      },
      "outputs": [],
      "source": [
        "X_train = X_train / 255 # przechodzimy z przedziału 0-255 na 0-1\n",
        "X_test = X_test / 255"
      ]
    },
    {
      "cell_type": "markdown",
      "metadata": {
        "id": "qvZBo76asgIr"
      },
      "source": [
        "Domyślna konfiguracja Keras korzysta z 32-bitowych float'ów. Jak w trakcie treningu będziemy podawać sieci 64-bitowe tablice, będzie dużo niepotrzebnego kopiowania, alokowania pamięci, itp. Dlatego przed treningiem zadbajmy o to, żeby nasze dane treningowe i testowe były w formacie 32-bitowym (numpy, metoda astype). \n"
      ]
    },
    {
      "cell_type": "code",
      "execution_count": 19,
      "metadata": {
        "colab": {
          "base_uri": "https://localhost:8080/"
        },
        "id": "F0tgFmGlV7eB",
        "outputId": "8acbf0ef-a2ca-410e-93bb-16dd827cda5c"
      },
      "outputs": [
        {
          "name": "stdout",
          "output_type": "stream",
          "text": [
            "<class 'numpy.ndarray'>\n",
            "<class 'numpy.ndarray'>\n"
          ]
        }
      ],
      "source": [
        "print(type(X_train[0][0][0]))\n",
        "X_train = X_train.astype('float32')\n",
        "X_test = X_test.astype('float32')\n",
        "print(type(X_train[0][0][0]))"
      ]
    },
    {
      "cell_type": "markdown",
      "metadata": {
        "id": "HQJvnE8NeDgT"
      },
      "source": [
        "Przygotowaliśmy dane treningowe, teraz jeszcze etykiety.  W tej chwili jest to wektor liczb - dla każdej instancji mamy jedną liczbę. Nasza sieć będzie miała na wyjściu 10 wartości (score dla każdej klasy), więc musimy przerobić nasze liczby do postaci one-hot. Jeśli klasy trzech instancji to np. [0, 3, 5], w postaci one-hot zamiast tego będziemy mieć na przykład coś takiego:  \n",
        "[1000000000]  \n",
        "[0001000000]  \n",
        "[0000010000]\n",
        "\n",
        "w keras.utils.np_utils mamy funcję to_categorical, która nam zrobi konwersję. Wyniki wpiszmy do zmiennych Y_train i Y_test (duże litery bo macierze). "
      ]
    },
    {
      "cell_type": "code",
      "execution_count": 20,
      "metadata": {
        "id": "xQUGyHL2cLBp"
      },
      "outputs": [],
      "source": [
        "# [1000000000] -> score dla cyfry 0\n",
        "# [0.1 0.2 0.4 ... 0.7 0.1] max 0.7; zwyciezca - cyfra 8\n"
      ]
    },
    {
      "cell_type": "code",
      "execution_count": 21,
      "metadata": {
        "id": "-vNhEFy1eYkc"
      },
      "outputs": [],
      "source": [
        "from keras.utils import np_utils\n",
        "Y_train = np_utils.to_categorical(y_train)\n",
        "# y_validation = np_utils.to_categorical(y_validation)\n",
        "Y_test = np_utils.to_categorical(y_test)"
      ]
    },
    {
      "cell_type": "markdown",
      "metadata": {
        "id": "x4s1Inr0BTaY"
      },
      "source": [
        "Ostatnia sprawa. Conv2D przyjmuje obrazki w postaci tablicy wielowymiarowej - nie spłaszczamy danych do postaci wektora tak jak w przypadku SVM'a, bo nasz filtr / kernel działa na danych 'przestrzennych' - szerokość x wysokość x liczba kanałów.  \n",
        "W przypadku zdjęć 200 x 200 pixeli w RGB, każdy obrazek byłby tablicą o wymiarach 200 x 200 x 3 (lub 3 x 200 x 200 zależnie od tego jak przechowujemy dane).  \n",
        "Tutaj mamy 1 bajt na pixel i obrazek o wymiarach przestrzennych 28 x 28. Zatem nasze dane powinny mieć wymiary 28 x 28 x 1 (czyli ostatnia wartość nie może być liczbą, tylko tablicą przechowującą liczbę).\n",
        "\n",
        "Czyli musimy wcisnąć 1 wymiar. Gdzie go wciskamy, zależy od konfiguracji. \n",
        "\n",
        "```python\n",
        "from keras import backend as K\n",
        "if K.image_data_format() == 'channels_first':\n",
        "    X_train = X_train.reshape(X_train.shape[0], 1, X_train.shape[1], X_train.shape[2])\n",
        "    X_test = X_test.reshape(X_test.shape[0], 1, X_train.shape[1], X_train.shape[2])\n",
        "    input_shape = (1, X_train.shape[1], X_train.shape[2])\n",
        "else: # channels_last\n",
        "    X_train = X_train.reshape(X_train.shape[0], X_train.shape[1], X_train.shape[2], 1)\n",
        "    X_test = X_test.reshape(X_test.shape[0], X_train.shape[1], X_train.shape[2], 1)\n",
        "    input_shape = (X_train.shape[1], X_train.shape[2], 1)\n",
        " ```\n",
        " "
      ]
    },
    {
      "cell_type": "code",
      "execution_count": 22,
      "metadata": {
        "id": "Iz7s9gTEcQDQ"
      },
      "outputs": [],
      "source": [
        "from keras import backend as K\n",
        "if K.image_data_format() == 'channels_first':\n",
        "    X_train = X_train.reshape(X_train.shape[0], X_train.shape[2], X_train.shape[1])\n",
        "    X_test = X_test.reshape(X_test.shape[0],X_train.shape[2], X_train.shape[1])\n",
        "    input_shape = (1, X_train.shape[1], X_train.shape[2])\n",
        "else: # channels_last\n",
        "    X_train = X_train.reshape(X_train.shape[0], X_train.shape[1], X_train.shape[2], 3)\n",
        "    X_test = X_test.reshape(X_test.shape[0], X_train.shape[1], X_train.shape[2], 3)\n",
        "    input_shape = (X_train.shape[1], X_train.shape[2], 3)"
      ]
    },
    {
      "cell_type": "markdown",
      "metadata": {
        "id": "C_wFFlj0gNpP"
      },
      "source": [
        "#### Przygotowanie sieci\n",
        "\n",
        "We wszystkich Conv2D zrobimy kernel 3x3 i aktywację 'relu'.\n",
        "We wszystkich MaxPooling2D robimy pool_size 2x2\n",
        "\n",
        "Zróbmy sobie taki model (może być Sequential): \n",
        "- Na wejściu Conv2D (musimy podać input_shape - mamy go w zmiennej input_shape)\n",
        "- MaxPooling2D\n",
        "- Conv2D, 32 filtry\n",
        "- MaxPooling2D\n",
        "- Flatten (spłaszczamy dane do 1-wymiarowego wektora)\n",
        "- [Dense (czyli tzw. fully connected)](https://keras.io/layers/core/), 128 units, activation [relu](https://cs-cheatsheet.readthedocs.io/en/latest/_images/activation_functions.png)\n",
        "- Na wyjściu Dense, units tyle, co klas, [aktywacja softmax](https://qph.fs.quoracdn.net/main-qimg-fda2f008df90ed5d7b6aff89b881e1ac)\n",
        "\n",
        "Na pewno przydadzą się te importy: \n",
        "```python\n",
        "from keras.models import Sequential\n",
        "from keras.layers import Dense, Flatten\n",
        "from keras.layers.convolutional import Conv2D, MaxPooling2D\n",
        "```"
      ]
    },
    {
      "cell_type": "code",
      "execution_count": 23,
      "metadata": {
        "colab": {
          "base_uri": "https://localhost:8080/"
        },
        "id": "JLL64i0Ditf3",
        "outputId": "71eb9d0d-cd51-4126-da63-33f83d537108"
      },
      "outputs": [
        {
          "data": {
            "text/plain": [
              "array([[0., 0., 0., 0., 0., 0., 1., 0., 0., 0.],\n",
              "       [0., 0., 0., 0., 0., 0., 0., 0., 0., 1.],\n",
              "       [0., 0., 0., 0., 0., 0., 0., 0., 0., 1.],\n",
              "       [0., 0., 0., 0., 1., 0., 0., 0., 0., 0.],\n",
              "       [0., 1., 0., 0., 0., 0., 0., 0., 0., 0.],\n",
              "       [0., 1., 0., 0., 0., 0., 0., 0., 0., 0.],\n",
              "       [0., 0., 1., 0., 0., 0., 0., 0., 0., 0.],\n",
              "       [0., 0., 0., 0., 0., 0., 0., 1., 0., 0.],\n",
              "       [0., 0., 0., 0., 0., 0., 0., 0., 1., 0.],\n",
              "       [0., 0., 0., 1., 0., 0., 0., 0., 0., 0.]], dtype=float32)"
            ]
          },
          "execution_count": 23,
          "metadata": {},
          "output_type": "execute_result"
        }
      ],
      "source": [
        "Y_train[0:10]"
      ]
    },
    {
      "cell_type": "code",
      "execution_count": 24,
      "metadata": {
        "id": "L9_nnUIchprg"
      },
      "outputs": [],
      "source": [
        "from keras.models import Sequential\n",
        "from keras.layers import Dense, Flatten\n",
        "from keras.layers.convolutional import Conv2D, MaxPooling2D\n",
        "\n",
        "model_basic = Sequential([\n",
        "  Conv2D(32, kernel_size=(3, 3), activation='relu', input_shape=input_shape),\n",
        "  MaxPooling2D(pool_size=(2,2)), \n",
        "  Conv2D(32, kernel_size=(3,3), activation='relu'),\n",
        "  MaxPooling2D(pool_size=(2,2)), \n",
        "  Flatten(), # tutaj 2-wymiarowe, wielo kanalowe 'obrazki' staja sie wektorem\n",
        "  Dense(128, activation='relu'),\n",
        "  Dense(10, activation='softmax')\n",
        "])"
      ]
    },
    {
      "cell_type": "markdown",
      "metadata": {
        "id": "m4w8gGsElbVG"
      },
      "source": [
        "Mamy obiekt 'model', teraz musimy uruchomić metodę 'compile', która przygotuje nas do treningu. Spróbujmy loss 'categorical_crossentropy', optimizer 'adam'. Argument metric przyjmuje tablicę stringów, będziemy chcieli 'accuracy'. "
      ]
    },
    {
      "cell_type": "code",
      "execution_count": 25,
      "metadata": {
        "id": "3ki1a29Zl65r"
      },
      "outputs": [],
      "source": [
        "model_basic.compile(loss='categorical_crossentropy', optimizer='adam', metrics=['accuracy'])"
      ]
    },
    {
      "cell_type": "markdown",
      "metadata": {
        "id": "7DEM-xKbmFNO"
      },
      "source": [
        "#### Trening\n",
        "Podobnie jak w scikit-learn uruchamiamy metodę fit, podając jej nasze dane treningowe i etykiety w postaci one-hot.  \n",
        "\n",
        "20 epok, batch_size np. 128 lub 256  "
      ]
    },
    {
      "cell_type": "code",
      "execution_count": 26,
      "metadata": {
        "colab": {
          "base_uri": "https://localhost:8080/"
        },
        "id": "m1DvkEW2JOA5",
        "outputId": "1ab78f0c-69ac-4d52-c297-cda26d92f7ac"
      },
      "outputs": [
        {
          "name": "stdout",
          "output_type": "stream",
          "text": [
            "Epoch 1/30\n",
            "157/157 [==============================] - 11s 67ms/step - loss: 1.8110 - accuracy: 0.3478 - val_loss: 1.5984 - val_accuracy: 0.4351\n",
            "Epoch 2/30\n",
            "157/157 [==============================] - 10s 66ms/step - loss: 1.4567 - accuracy: 0.4788 - val_loss: 1.3742 - val_accuracy: 0.5179\n",
            "Epoch 3/30\n",
            "157/157 [==============================] - 10s 66ms/step - loss: 1.3240 - accuracy: 0.5309 - val_loss: 1.3045 - val_accuracy: 0.5437\n",
            "Epoch 4/30\n",
            "157/157 [==============================] - 10s 66ms/step - loss: 1.2316 - accuracy: 0.5654 - val_loss: 1.2853 - val_accuracy: 0.5471\n",
            "Epoch 5/30\n",
            "157/157 [==============================] - 10s 67ms/step - loss: 1.1574 - accuracy: 0.5915 - val_loss: 1.2048 - val_accuracy: 0.5783\n",
            "Epoch 6/30\n",
            "157/157 [==============================] - 10s 66ms/step - loss: 1.1036 - accuracy: 0.6112 - val_loss: 1.2067 - val_accuracy: 0.5759\n",
            "Epoch 7/30\n",
            "157/157 [==============================] - 10s 66ms/step - loss: 1.0485 - accuracy: 0.6303 - val_loss: 1.1498 - val_accuracy: 0.6006\n",
            "Epoch 8/30\n",
            "157/157 [==============================] - 10s 67ms/step - loss: 1.0022 - accuracy: 0.6489 - val_loss: 1.0908 - val_accuracy: 0.6244\n",
            "Epoch 9/30\n",
            "157/157 [==============================] - 10s 67ms/step - loss: 0.9630 - accuracy: 0.6636 - val_loss: 1.0599 - val_accuracy: 0.6337\n",
            "Epoch 10/30\n",
            "157/157 [==============================] - 10s 67ms/step - loss: 0.9267 - accuracy: 0.6765 - val_loss: 1.0375 - val_accuracy: 0.6404\n",
            "Epoch 11/30\n",
            "157/157 [==============================] - 10s 66ms/step - loss: 0.8942 - accuracy: 0.6873 - val_loss: 1.0237 - val_accuracy: 0.6469\n",
            "Epoch 12/30\n",
            "157/157 [==============================] - 10s 66ms/step - loss: 0.8704 - accuracy: 0.6969 - val_loss: 1.0140 - val_accuracy: 0.6489\n",
            "Epoch 13/30\n",
            "157/157 [==============================] - 10s 66ms/step - loss: 0.8380 - accuracy: 0.7069 - val_loss: 0.9980 - val_accuracy: 0.6551\n",
            "Epoch 14/30\n",
            "157/157 [==============================] - 11s 67ms/step - loss: 0.8099 - accuracy: 0.7184 - val_loss: 0.9936 - val_accuracy: 0.6590\n",
            "Epoch 15/30\n",
            "157/157 [==============================] - 11s 70ms/step - loss: 0.7807 - accuracy: 0.7298 - val_loss: 0.9988 - val_accuracy: 0.6589\n",
            "Epoch 16/30\n",
            "157/157 [==============================] - 11s 68ms/step - loss: 0.7589 - accuracy: 0.7365 - val_loss: 1.0399 - val_accuracy: 0.6456\n",
            "Epoch 17/30\n",
            "157/157 [==============================] - 11s 68ms/step - loss: 0.7428 - accuracy: 0.7429 - val_loss: 0.9883 - val_accuracy: 0.6673\n",
            "Epoch 18/30\n",
            "157/157 [==============================] - 11s 68ms/step - loss: 0.7109 - accuracy: 0.7537 - val_loss: 1.0186 - val_accuracy: 0.6547\n",
            "Epoch 19/30\n",
            "157/157 [==============================] - 11s 68ms/step - loss: 0.6971 - accuracy: 0.7580 - val_loss: 1.0123 - val_accuracy: 0.6605\n",
            "Epoch 20/30\n",
            "157/157 [==============================] - 11s 69ms/step - loss: 0.6655 - accuracy: 0.7701 - val_loss: 1.0429 - val_accuracy: 0.6547\n",
            "Epoch 21/30\n",
            "157/157 [==============================] - 11s 68ms/step - loss: 0.6495 - accuracy: 0.7763 - val_loss: 1.0420 - val_accuracy: 0.6578\n",
            "Epoch 22/30\n",
            "157/157 [==============================] - 11s 68ms/step - loss: 0.6225 - accuracy: 0.7843 - val_loss: 1.0150 - val_accuracy: 0.6706\n",
            "Epoch 23/30\n",
            "157/157 [==============================] - 11s 69ms/step - loss: 0.6059 - accuracy: 0.7915 - val_loss: 1.0335 - val_accuracy: 0.6654\n",
            "Epoch 24/30\n",
            "157/157 [==============================] - 11s 69ms/step - loss: 0.5921 - accuracy: 0.7966 - val_loss: 1.0736 - val_accuracy: 0.6588\n",
            "Epoch 25/30\n",
            "157/157 [==============================] - 11s 67ms/step - loss: 0.5700 - accuracy: 0.8052 - val_loss: 1.0774 - val_accuracy: 0.6648\n",
            "Epoch 26/30\n",
            "157/157 [==============================] - 10s 67ms/step - loss: 0.5492 - accuracy: 0.8101 - val_loss: 1.0600 - val_accuracy: 0.6691\n",
            "Epoch 27/30\n",
            "157/157 [==============================] - 11s 67ms/step - loss: 0.5235 - accuracy: 0.8212 - val_loss: 1.0878 - val_accuracy: 0.6674\n",
            "Epoch 28/30\n",
            "157/157 [==============================] - 11s 67ms/step - loss: 0.5120 - accuracy: 0.8242 - val_loss: 1.0999 - val_accuracy: 0.6644\n",
            "Epoch 29/30\n",
            "157/157 [==============================] - 10s 67ms/step - loss: 0.4881 - accuracy: 0.8336 - val_loss: 1.1084 - val_accuracy: 0.6694\n",
            "Epoch 30/30\n",
            "157/157 [==============================] - 11s 68ms/step - loss: 0.4736 - accuracy: 0.8391 - val_loss: 1.1284 - val_accuracy: 0.6684\n"
          ]
        },
        {
          "data": {
            "text/plain": [
              "<keras.callbacks.History at 0x2c3e21fabe0>"
            ]
          },
          "execution_count": 26,
          "metadata": {},
          "output_type": "execute_result"
        }
      ],
      "source": [
        "model_basic.fit(X_train, Y_train, epochs=30, batch_size=256, validation_split=0.2)"
      ]
    },
    {
      "cell_type": "markdown",
      "metadata": {
        "id": "fgxalzmim4Hl"
      },
      "source": [
        "#### Ewaluacja\n",
        "Zobaczmy, jak nasz model sobie radzi: model.evaluate()"
      ]
    },
    {
      "cell_type": "code",
      "execution_count": 27,
      "metadata": {
        "colab": {
          "base_uri": "https://localhost:8080/"
        },
        "id": "HDCHLqc4m4qX",
        "outputId": "16f77572-f19f-4e9f-8ebc-7c445823ec41"
      },
      "outputs": [
        {
          "name": "stdout",
          "output_type": "stream",
          "text": [
            "313/313 [==============================] - 1s 4ms/step - loss: 1.1155 - accuracy: 0.6712\n"
          ]
        }
      ],
      "source": [
        "scores = model_basic.evaluate(X_test, Y_test)"
      ]
    },
    {
      "cell_type": "code",
      "execution_count": 28,
      "metadata": {
        "colab": {
          "base_uri": "https://localhost:8080/"
        },
        "id": "zZ55SBiWkr3y",
        "outputId": "b0dba25f-7e6d-4e0f-a016-6c3f211a639b"
      },
      "outputs": [
        {
          "name": "stdout",
          "output_type": "stream",
          "text": [
            "0.6711999773979187\n"
          ]
        }
      ],
      "source": [
        "print(scores[1])"
      ]
    },
    {
      "cell_type": "markdown",
      "metadata": {
        "id": "dUYwh9zjrp6-"
      },
      "source": [
        "Przyjrzyjmy się konkretnym przypadkom: model.predict_classes, zapiszmy sobie do wektora y_pred"
      ]
    },
    {
      "cell_type": "code",
      "execution_count": 29,
      "metadata": {
        "colab": {
          "base_uri": "https://localhost:8080/"
        },
        "id": "dvck7YSXpUbk",
        "outputId": "22f10176-442a-4d37-b975-e1e583bff03a"
      },
      "outputs": [
        {
          "name": "stdout",
          "output_type": "stream",
          "text": [
            "[3 1 8 0 4 6 1 2 3 1 4 9 5 7 9 6 5 7 8 6]\n",
            "[[3]\n",
            " [8]\n",
            " [8]\n",
            " [0]\n",
            " [6]\n",
            " [6]\n",
            " [1]\n",
            " [6]\n",
            " [3]\n",
            " [1]\n",
            " [0]\n",
            " [9]\n",
            " [5]\n",
            " [7]\n",
            " [9]\n",
            " [8]\n",
            " [5]\n",
            " [7]\n",
            " [8]\n",
            " [6]]\n"
          ]
        }
      ],
      "source": [
        "y_pred = model_basic.predict(X_test)\n",
        "y_pred = np.argmax(y_pred, axis=1)\n",
        "print(y_pred[:20])\n",
        "print(y_test[:20])"
      ]
    },
    {
      "cell_type": "markdown",
      "metadata": {
        "id": "3psthgTBsqq5"
      },
      "source": [
        "Zobaczmy, na których instancjach testowych sobie nie radzi. Możemy na przykład porównać y_pred z y_test (operator !=). W wyciągnięciu indeksów pomyłkowych instancji pomoże nam funkcja numpy nonzero. Zapiszmy sobie te indeksy do zmiennej false_pred i wypiszmy jej zawartość. "
      ]
    },
    {
      "cell_type": "code",
      "execution_count": 30,
      "metadata": {
        "colab": {
          "base_uri": "https://localhost:8080/"
        },
        "id": "PRCzkluipzN9",
        "outputId": "5a657b5a-981e-4915-8ad8-f2c565fc69ac"
      },
      "outputs": [
        {
          "name": "stdout",
          "output_type": "stream",
          "text": [
            "[0 0 0 0 0 0 0 0 0 0]\n"
          ]
        }
      ],
      "source": [
        "false_pred = np.nonzero(y_pred != y_test)[0]\n",
        "print(false_pred[0:10])"
      ]
    },
    {
      "cell_type": "markdown",
      "metadata": {
        "id": "gXOAhzBuuwA_"
      },
      "source": [
        "Teraz narysujmy sobie te cyfry, np 9 pierwszych. Możemy użyć kodu z wcześniejszego ćwiczenia, tylko: \n",
        "- ponieważ przerabialiśmy dane treningowe, wczytajmy je jeszcze raz\n",
        "- rysujemy elementy zbioru testowego o indeksach z wektora false_pred"
      ]
    },
    {
      "cell_type": "code",
      "execution_count": 31,
      "metadata": {
        "colab": {
          "base_uri": "https://localhost:8080/",
          "height": 297
        },
        "id": "S4e3_jY9satJ",
        "outputId": "7d54aeeb-8244-4b46-c5b2-c9e7275805d1"
      },
      "outputs": [
        {
          "data": {
            "image/png": "[encoded data removed]",
            "text/plain": [
              "<Figure size 432x288 with 9 Axes>"
            ]
          },
          "metadata": {
            "needs_background": "light"
          },
          "output_type": "display_data"
        }
      ],
      "source": [
        "import matplotlib.pyplot as plt\n",
        "\n",
        "for i in range(9):\n",
        "  instance_index = false_pred[i] # indeks instancji do narysowania\n",
        "  plt.subplot(3, 3, i + 1)\n",
        "  plt.tight_layout()\n",
        "  plt.imshow(X_test[instance_index].reshape(X_train.shape[1], X_train.shape[2],X_train.shape[3] ), cmap='gray')\n",
        "  plt.title(\"l:{} p:{}\".format(y_test[instance_index], y_pred[instance_index]))\n",
        "\n"
      ]
    },
    {
      "cell_type": "markdown",
      "metadata": {
        "id": "v__1lKTRrJ9J"
      },
      "source": [
        "## Instructions\n",
        "Powtórz eksperyment z pierwszego notatnika (w którym klasyfikowaliśmy MNIST używając SVM i CNN) na zbiorze danych CIFAR-10: https://keras.io/datasets/\n",
        "\n",
        "Najpierw przeprowadź klasyfikację za pomocą sieci, które stworzyliśmy na zajęciach - trzeba je dostosować, bo zdjęcia w CIFAR są w RGB, czyli mają 3 kanały.\n",
        "\n",
        "Następnie wydziel zbiór walidacyjny i dodaj early stopping (https://keras.io/api/callbacks/early_stopping/)\n",
        "\n",
        "Kolejnym krokiem jest próba poprawienia wyniku. Spróbuj wprowadzić modyfikacje (np. dodawanie, usuwanie lub modyfikacja warstw Conv2D, Dense, Pooling, dodanie Dropoutu, modyfikacja hiperparametrów, itd.) do sieci, które mogłyby poprawić jej skuteczność. Stwórz co najmniej 3 takie sieci i opisz wprowadzone w nich zmiany.\n",
        "\n",
        "Dla chętnych: jakby ktoś chciałby się bardziej pobawić sieciami, można spróbować dodać jeszcze data augmentation i zrobić porównanie treningu z augmentation i bez.\n",
        "\n",
        "Wrzuć plik .ipynb ze swoimi eksperymentami i opisami stworzonych sieci.\n",
        "\n",
        "W razie pytań lub wąpliwości, proszę pisać: lukasz.wilczynski@pjwstk.edu.pl\n",
        "My work"
      ]
    },
    {
      "cell_type": "markdown",
      "metadata": {},
      "source": [
        "## Dodawanie Early stopping\n",
        "Dodajemy early stopping dla tej samej sieci co poprzednio"
      ]
    },
    {
      "cell_type": "code",
      "execution_count": 32,
      "metadata": {
        "id": "fEfVO_KEnFrf"
      },
      "outputs": [],
      "source": [
        "from keras.callbacks import EarlyStopping\n",
        "model_basic_es = Sequential([\n",
        "  Conv2D(32, kernel_size=(3, 3), activation='relu', input_shape=input_shape),\n",
        "  MaxPooling2D(pool_size=(2,2)), \n",
        "  Conv2D(32, kernel_size=(3,3), activation='relu'),\n",
        "  MaxPooling2D(pool_size=(2,2)), \n",
        "  Flatten(), # tutaj 2-wymiarowe, wielo kanalowe 'obrazki' staja sie wektorem\n",
        "  Dense(128, activation='relu'),\n",
        "  Dense(10, activation='softmax')\n",
        "])\n",
        "model_basic_es.compile(loss='categorical_crossentropy', optimizer='adam', metrics=['accuracy'])\n",
        "es = EarlyStopping(\n",
        "    monitor=\"val_accuracy\",\n",
        "    patience=3,\n",
        "    mode=\"auto\",\n",
        ")"
      ]
    },
    {
      "cell_type": "code",
      "execution_count": 33,
      "metadata": {},
      "outputs": [
        {
          "name": "stdout",
          "output_type": "stream",
          "text": [
            "Epoch 1/100\n",
            "157/157 [==============================] - 11s 67ms/step - loss: 1.7518 - accuracy: 0.3667 - val_loss: 1.5024 - val_accuracy: 0.4732\n",
            "Epoch 2/100\n",
            "157/157 [==============================] - 11s 69ms/step - loss: 1.3850 - accuracy: 0.5098 - val_loss: 1.3570 - val_accuracy: 0.5167\n",
            "Epoch 3/100\n",
            "157/157 [==============================] - 11s 72ms/step - loss: 1.2666 - accuracy: 0.5533 - val_loss: 1.2551 - val_accuracy: 0.5588\n",
            "Epoch 4/100\n",
            "157/157 [==============================] - 12s 74ms/step - loss: 1.1810 - accuracy: 0.5860 - val_loss: 1.1997 - val_accuracy: 0.5851\n",
            "Epoch 5/100\n",
            "157/157 [==============================] - 11s 69ms/step - loss: 1.1239 - accuracy: 0.6068 - val_loss: 1.1397 - val_accuracy: 0.6038\n",
            "Epoch 6/100\n",
            "157/157 [==============================] - 11s 69ms/step - loss: 1.0604 - accuracy: 0.6311 - val_loss: 1.1192 - val_accuracy: 0.6112\n",
            "Epoch 7/100\n",
            "157/157 [==============================] - 11s 68ms/step - loss: 1.0251 - accuracy: 0.6425 - val_loss: 1.0732 - val_accuracy: 0.6306\n",
            "Epoch 8/100\n",
            "157/157 [==============================] - 11s 68ms/step - loss: 0.9841 - accuracy: 0.6597 - val_loss: 1.0575 - val_accuracy: 0.6348\n",
            "Epoch 9/100\n",
            "157/157 [==============================] - 11s 68ms/step - loss: 0.9445 - accuracy: 0.6713 - val_loss: 1.0357 - val_accuracy: 0.6449\n",
            "Epoch 10/100\n",
            "157/157 [==============================] - 11s 70ms/step - loss: 0.9197 - accuracy: 0.6811 - val_loss: 1.0044 - val_accuracy: 0.6527\n",
            "Epoch 11/100\n",
            "157/157 [==============================] - 11s 69ms/step - loss: 0.8907 - accuracy: 0.6905 - val_loss: 0.9867 - val_accuracy: 0.6588\n",
            "Epoch 12/100\n",
            "157/157 [==============================] - 11s 71ms/step - loss: 0.8613 - accuracy: 0.7004 - val_loss: 0.9699 - val_accuracy: 0.6676\n",
            "Epoch 13/100\n",
            "157/157 [==============================] - 11s 71ms/step - loss: 0.8394 - accuracy: 0.7086 - val_loss: 1.0333 - val_accuracy: 0.6451\n",
            "Epoch 14/100\n",
            "157/157 [==============================] - 11s 70ms/step - loss: 0.8204 - accuracy: 0.7150 - val_loss: 0.9648 - val_accuracy: 0.6680\n",
            "Epoch 15/100\n",
            "157/157 [==============================] - 11s 69ms/step - loss: 0.7911 - accuracy: 0.7252 - val_loss: 0.9611 - val_accuracy: 0.6715\n",
            "Epoch 16/100\n",
            "157/157 [==============================] - 11s 69ms/step - loss: 0.7682 - accuracy: 0.7336 - val_loss: 0.9339 - val_accuracy: 0.6823\n",
            "Epoch 17/100\n",
            "157/157 [==============================] - 11s 69ms/step - loss: 0.7507 - accuracy: 0.7403 - val_loss: 0.9718 - val_accuracy: 0.6708\n",
            "Epoch 18/100\n",
            "157/157 [==============================] - 11s 69ms/step - loss: 0.7256 - accuracy: 0.7490 - val_loss: 0.9525 - val_accuracy: 0.6795\n",
            "Epoch 19/100\n",
            "157/157 [==============================] - 11s 69ms/step - loss: 0.6984 - accuracy: 0.7596 - val_loss: 0.9499 - val_accuracy: 0.6774\n"
          ]
        }
      ],
      "source": [
        "history_basic = model_basic_es.fit(X_train, Y_train, epochs=100, batch_size=256,validation_split=0.2, callbacks = [es])"
      ]
    },
    {
      "cell_type": "markdown",
      "metadata": {},
      "source": [
        "## Sieć nr. 1 - głębsza\n"
      ]
    },
    {
      "cell_type": "markdown",
      "metadata": {},
      "source": [
        "Teraz sprwadzę na kilku sieciach zmianiając pojedyncze cechy. Dla pierwszej dodam więcej warstw konwolucyjnych "
      ]
    },
    {
      "cell_type": "code",
      "execution_count": 34,
      "metadata": {},
      "outputs": [
        {
          "name": "stdout",
          "output_type": "stream",
          "text": [
            "Model: \"sequential_2\"\n",
            "_________________________________________________________________\n",
            " Layer (type)                Output Shape              Param #   \n",
            "=================================================================\n",
            " conv2d_4 (Conv2D)           (None, 32, 32, 32)        896       \n",
            "                                                                 \n",
            " max_pooling2d_4 (MaxPooling  (None, 16, 16, 32)       0         \n",
            " 2D)                                                             \n",
            "                                                                 \n",
            " conv2d_5 (Conv2D)           (None, 16, 16, 32)        9248      \n",
            "                                                                 \n",
            " conv2d_6 (Conv2D)           (None, 16, 16, 32)        9248      \n",
            "                                                                 \n",
            " conv2d_7 (Conv2D)           (None, 16, 16, 32)        9248      \n",
            "                                                                 \n",
            " conv2d_8 (Conv2D)           (None, 16, 16, 32)        9248      \n",
            "                                                                 \n",
            " conv2d_9 (Conv2D)           (None, 16, 16, 32)        9248      \n",
            "                                                                 \n",
            " conv2d_10 (Conv2D)          (None, 16, 16, 32)        9248      \n",
            "                                                                 \n",
            " max_pooling2d_5 (MaxPooling  (None, 8, 8, 32)         0         \n",
            " 2D)                                                             \n",
            "                                                                 \n",
            " conv2d_11 (Conv2D)          (None, 8, 8, 32)          9248      \n",
            "                                                                 \n",
            " flatten_2 (Flatten)         (None, 2048)              0         \n",
            "                                                                 \n",
            " dense_4 (Dense)             (None, 128)               262272    \n",
            "                                                                 \n",
            " dense_5 (Dense)             (None, 10)                1290      \n",
            "                                                                 \n",
            "=================================================================\n",
            "Total params: 329,194\n",
            "Trainable params: 329,194\n",
            "Non-trainable params: 0\n",
            "_________________________________________________________________\n"
          ]
        }
      ],
      "source": [
        "model_1 = Sequential([\n",
        "  Conv2D(32, kernel_size=(3, 3), activation='relu', padding=\"same\", input_shape=input_shape),\n",
        "  MaxPooling2D(pool_size=(2,2)), \n",
        "  Conv2D(32, kernel_size=(3,3), padding=\"same\", activation='relu'),\n",
        "  Conv2D(32, kernel_size=(3,3),  padding=\"same\",activation='relu'),\n",
        "  Conv2D(32, kernel_size=(3,3),  padding=\"same\",activation='relu'),\n",
        "  Conv2D(32, kernel_size=(3,3),  padding=\"same\",activation='relu'),\n",
        "  Conv2D(32, kernel_size=(3,3),  padding=\"same\",activation='relu'),\n",
        "  Conv2D(32, kernel_size=(3,3),  padding=\"same\",activation='relu'),\n",
        "  MaxPooling2D(pool_size=(2,2)), \n",
        "  Conv2D(32, kernel_size=(3,3),  padding=\"same\",activation='relu'),\n",
        "  Flatten(), # tutaj 2-wymiarowe, wielo kanalowe 'obrazki' staja sie wektorem\n",
        "  Dense(128, activation='relu'),\n",
        "  Dense(10, activation='softmax')\n",
        "])\n",
        "model_1.compile(loss='categorical_crossentropy', optimizer='adam', metrics=['accuracy'])\n",
        "model_1.summary()"
      ]
    },
    {
      "cell_type": "code",
      "execution_count": 35,
      "metadata": {},
      "outputs": [
        {
          "name": "stdout",
          "output_type": "stream",
          "text": [
            "Epoch 1/200\n",
            "157/157 [==============================] - 39s 244ms/step - loss: 1.7741 - accuracy: 0.3496 - val_loss: 1.4824 - val_accuracy: 0.4615\n",
            "Epoch 2/200\n",
            "157/157 [==============================] - 38s 240ms/step - loss: 1.3993 - accuracy: 0.4944 - val_loss: 1.3301 - val_accuracy: 0.5176\n",
            "Epoch 3/200\n",
            "157/157 [==============================] - 37s 238ms/step - loss: 1.2129 - accuracy: 0.5651 - val_loss: 1.1727 - val_accuracy: 0.5810\n",
            "Epoch 4/200\n",
            "157/157 [==============================] - 37s 235ms/step - loss: 1.0864 - accuracy: 0.6119 - val_loss: 1.1070 - val_accuracy: 0.6110\n",
            "Epoch 5/200\n",
            "157/157 [==============================] - 40s 252ms/step - loss: 0.9733 - accuracy: 0.6568 - val_loss: 1.0489 - val_accuracy: 0.6325\n",
            "Epoch 6/200\n",
            "157/157 [==============================] - 40s 256ms/step - loss: 0.8896 - accuracy: 0.6873 - val_loss: 1.0071 - val_accuracy: 0.6462\n",
            "Epoch 7/200\n",
            "157/157 [==============================] - 39s 247ms/step - loss: 0.8051 - accuracy: 0.7172 - val_loss: 1.0163 - val_accuracy: 0.6505\n",
            "Epoch 8/200\n",
            "157/157 [==============================] - 38s 244ms/step - loss: 0.7407 - accuracy: 0.7405 - val_loss: 0.9594 - val_accuracy: 0.6725\n",
            "Epoch 9/200\n",
            "157/157 [==============================] - 38s 244ms/step - loss: 0.6672 - accuracy: 0.7682 - val_loss: 1.0166 - val_accuracy: 0.6641\n",
            "Epoch 10/200\n",
            "157/157 [==============================] - 38s 244ms/step - loss: 0.5992 - accuracy: 0.7889 - val_loss: 0.9993 - val_accuracy: 0.6711\n",
            "Epoch 11/200\n",
            "157/157 [==============================] - 39s 245ms/step - loss: 0.5298 - accuracy: 0.8134 - val_loss: 1.0290 - val_accuracy: 0.6792\n",
            "Epoch 12/200\n",
            "157/157 [==============================] - 39s 246ms/step - loss: 0.4790 - accuracy: 0.8312 - val_loss: 1.0393 - val_accuracy: 0.6844\n",
            "Epoch 13/200\n",
            "157/157 [==============================] - 40s 255ms/step - loss: 0.4318 - accuracy: 0.8468 - val_loss: 1.1687 - val_accuracy: 0.6660\n",
            "Epoch 14/200\n",
            "157/157 [==============================] - 40s 253ms/step - loss: 0.3621 - accuracy: 0.8728 - val_loss: 1.2715 - val_accuracy: 0.6602\n",
            "Epoch 15/200\n",
            "157/157 [==============================] - 40s 254ms/step - loss: 0.3240 - accuracy: 0.8844 - val_loss: 1.3782 - val_accuracy: 0.6758\n"
          ]
        }
      ],
      "source": [
        "history_1 = model_1.fit(X_train, Y_train, epochs=200, batch_size=256,validation_split=0.2, callbacks = [es])"
      ]
    },
    {
      "cell_type": "markdown",
      "metadata": {},
      "source": [
        "## Sieć nr. 2 - więcej feature map na jedną warstwę"
      ]
    },
    {
      "cell_type": "markdown",
      "metadata": {},
      "source": [
        "Druga warstwa ma podwojoną ilość feature map w każdej warstwie"
      ]
    },
    {
      "cell_type": "code",
      "execution_count": 36,
      "metadata": {},
      "outputs": [],
      "source": [
        "model_2 = Sequential([\n",
        "  Conv2D(128, kernel_size=(3, 3), activation='relu', input_shape=input_shape),\n",
        "  MaxPooling2D(pool_size=(2,2)), \n",
        "  Conv2D(128, kernel_size=(3,3), activation='relu'),\n",
        "  MaxPooling2D(pool_size=(2,2)), \n",
        "  Flatten(), # tutaj 2-wymiarowe, wielo kanalowe 'obrazki' staja sie wektorem\n",
        "  Dense(512, activation='relu'),\n",
        "  Dense(10, activation='softmax')\n",
        "])\n",
        "model_2.compile(loss='categorical_crossentropy', optimizer='adam', metrics=['accuracy'])"
      ]
    },
    {
      "cell_type": "code",
      "execution_count": 37,
      "metadata": {},
      "outputs": [
        {
          "name": "stdout",
          "output_type": "stream",
          "text": [
            "Epoch 1/100\n",
            "157/157 [==============================] - 48s 303ms/step - loss: 1.5487 - accuracy: 0.4396 - val_loss: 1.3603 - val_accuracy: 0.5221\n",
            "Epoch 2/100\n",
            "157/157 [==============================] - 47s 297ms/step - loss: 1.1811 - accuracy: 0.5857 - val_loss: 1.0963 - val_accuracy: 0.6216\n",
            "Epoch 3/100\n",
            "157/157 [==============================] - 45s 288ms/step - loss: 1.0000 - accuracy: 0.6524 - val_loss: 1.0610 - val_accuracy: 0.6264\n",
            "Epoch 4/100\n",
            "157/157 [==============================] - 45s 285ms/step - loss: 0.9013 - accuracy: 0.6892 - val_loss: 0.9454 - val_accuracy: 0.6769\n",
            "Epoch 5/100\n",
            "157/157 [==============================] - 44s 281ms/step - loss: 0.8099 - accuracy: 0.7233 - val_loss: 0.9106 - val_accuracy: 0.6896\n",
            "Epoch 6/100\n",
            "157/157 [==============================] - 44s 282ms/step - loss: 0.7314 - accuracy: 0.7479 - val_loss: 0.8763 - val_accuracy: 0.7039\n",
            "Epoch 7/100\n",
            "157/157 [==============================] - 44s 283ms/step - loss: 0.6594 - accuracy: 0.7717 - val_loss: 0.8605 - val_accuracy: 0.7082\n",
            "Epoch 8/100\n",
            "157/157 [==============================] - 44s 281ms/step - loss: 0.5675 - accuracy: 0.8064 - val_loss: 0.8726 - val_accuracy: 0.7116\n",
            "Epoch 9/100\n",
            "157/157 [==============================] - 45s 285ms/step - loss: 0.5066 - accuracy: 0.8268 - val_loss: 0.8721 - val_accuracy: 0.7181\n",
            "Epoch 10/100\n",
            "157/157 [==============================] - 45s 286ms/step - loss: 0.4251 - accuracy: 0.8568 - val_loss: 0.8854 - val_accuracy: 0.7187\n",
            "Epoch 11/100\n",
            "157/157 [==============================] - 46s 294ms/step - loss: 0.3464 - accuracy: 0.8854 - val_loss: 0.9514 - val_accuracy: 0.7081\n",
            "Epoch 12/100\n",
            "157/157 [==============================] - 48s 309ms/step - loss: 0.2847 - accuracy: 0.9052 - val_loss: 0.9499 - val_accuracy: 0.7250\n",
            "Epoch 13/100\n",
            "157/157 [==============================] - 45s 290ms/step - loss: 0.2268 - accuracy: 0.9268 - val_loss: 1.0526 - val_accuracy: 0.7141\n",
            "Epoch 14/100\n",
            "157/157 [==============================] - 46s 291ms/step - loss: 0.1682 - accuracy: 0.9487 - val_loss: 1.0866 - val_accuracy: 0.7201\n",
            "Epoch 15/100\n",
            "157/157 [==============================] - 45s 288ms/step - loss: 0.1266 - accuracy: 0.9624 - val_loss: 1.1294 - val_accuracy: 0.7222\n"
          ]
        }
      ],
      "source": [
        "history_2 = model_2.fit(X_train, Y_train, epochs=100, batch_size=256, validation_split=0.2, callbacks = [es])"
      ]
    },
    {
      "cell_type": "markdown",
      "metadata": {},
      "source": [
        "## Sieć nr. 3 - z dropoutem"
      ]
    },
    {
      "cell_type": "markdown",
      "metadata": {},
      "source": [
        "Trzecia sieć dodaje warstwę dropout dla zmniejszenia overfittingu"
      ]
    },
    {
      "cell_type": "code",
      "execution_count": 38,
      "metadata": {},
      "outputs": [],
      "source": [
        "from keras.layers import Dropout\n",
        "model_3 = Sequential([\n",
        "  Conv2D(32, kernel_size=(3, 3), activation='relu', input_shape=input_shape),\n",
        "  MaxPooling2D(pool_size=(2,2)), \n",
        "  Dropout(.2),\n",
        "  Conv2D(32, kernel_size=(3,3), activation='relu'),\n",
        "  MaxPooling2D(pool_size=(2,2)), \n",
        "  Flatten(),\n",
        "  Dense(128, activation='relu'),\n",
        "  Dense(10, activation='softmax')\n",
        "])\n",
        "model_3.compile(loss='categorical_crossentropy', optimizer='adam', metrics=['accuracy'])"
      ]
    },
    {
      "cell_type": "code",
      "execution_count": 39,
      "metadata": {},
      "outputs": [
        {
          "name": "stdout",
          "output_type": "stream",
          "text": [
            "Epoch 1/100\n",
            "157/157 [==============================] - 13s 81ms/step - loss: 1.8138 - accuracy: 0.3454 - val_loss: 1.5880 - val_accuracy: 0.4402\n",
            "Epoch 2/100\n",
            "157/157 [==============================] - 12s 79ms/step - loss: 1.4738 - accuracy: 0.4712 - val_loss: 1.3935 - val_accuracy: 0.5083\n",
            "Epoch 3/100\n",
            "157/157 [==============================] - 12s 79ms/step - loss: 1.3427 - accuracy: 0.5230 - val_loss: 1.3254 - val_accuracy: 0.5353\n",
            "Epoch 4/100\n",
            "157/157 [==============================] - 12s 79ms/step - loss: 1.2512 - accuracy: 0.5566 - val_loss: 1.2434 - val_accuracy: 0.5578\n",
            "Epoch 5/100\n",
            "157/157 [==============================] - 12s 79ms/step - loss: 1.1775 - accuracy: 0.5838 - val_loss: 1.1690 - val_accuracy: 0.5934\n",
            "Epoch 6/100\n",
            "157/157 [==============================] - 12s 80ms/step - loss: 1.1202 - accuracy: 0.6082 - val_loss: 1.1117 - val_accuracy: 0.6112\n",
            "Epoch 7/100\n",
            "157/157 [==============================] - 12s 79ms/step - loss: 1.0663 - accuracy: 0.6269 - val_loss: 1.0759 - val_accuracy: 0.6224\n",
            "Epoch 8/100\n",
            "157/157 [==============================] - 13s 80ms/step - loss: 1.0321 - accuracy: 0.6392 - val_loss: 1.0417 - val_accuracy: 0.6408\n",
            "Epoch 9/100\n",
            "157/157 [==============================] - 12s 77ms/step - loss: 0.9861 - accuracy: 0.6593 - val_loss: 1.0306 - val_accuracy: 0.6451\n",
            "Epoch 10/100\n",
            "157/157 [==============================] - 12s 77ms/step - loss: 0.9548 - accuracy: 0.6697 - val_loss: 0.9936 - val_accuracy: 0.6584\n",
            "Epoch 11/100\n",
            "157/157 [==============================] - 12s 78ms/step - loss: 0.9296 - accuracy: 0.6805 - val_loss: 0.9737 - val_accuracy: 0.6636\n",
            "Epoch 12/100\n",
            "157/157 [==============================] - 12s 79ms/step - loss: 0.8969 - accuracy: 0.6895 - val_loss: 0.9627 - val_accuracy: 0.6684\n",
            "Epoch 13/100\n",
            "157/157 [==============================] - 12s 79ms/step - loss: 0.8712 - accuracy: 0.7012 - val_loss: 0.9424 - val_accuracy: 0.6782\n",
            "Epoch 14/100\n",
            "157/157 [==============================] - 12s 79ms/step - loss: 0.8532 - accuracy: 0.7043 - val_loss: 0.9626 - val_accuracy: 0.6668\n",
            "Epoch 15/100\n",
            "157/157 [==============================] - 13s 81ms/step - loss: 0.8393 - accuracy: 0.7078 - val_loss: 0.9646 - val_accuracy: 0.6729\n",
            "Epoch 16/100\n",
            "157/157 [==============================] - 12s 79ms/step - loss: 0.8069 - accuracy: 0.7195 - val_loss: 0.9041 - val_accuracy: 0.6921\n",
            "Epoch 17/100\n",
            "157/157 [==============================] - 12s 79ms/step - loss: 0.7962 - accuracy: 0.7240 - val_loss: 0.9012 - val_accuracy: 0.6964\n",
            "Epoch 18/100\n",
            "157/157 [==============================] - 13s 82ms/step - loss: 0.7722 - accuracy: 0.7322 - val_loss: 0.8941 - val_accuracy: 0.6945\n",
            "Epoch 19/100\n",
            "157/157 [==============================] - 13s 80ms/step - loss: 0.7546 - accuracy: 0.7397 - val_loss: 0.9179 - val_accuracy: 0.6883\n",
            "Epoch 20/100\n",
            "157/157 [==============================] - 13s 80ms/step - loss: 0.7385 - accuracy: 0.7449 - val_loss: 0.8852 - val_accuracy: 0.7054\n",
            "Epoch 21/100\n",
            "157/157 [==============================] - 13s 81ms/step - loss: 0.7156 - accuracy: 0.7531 - val_loss: 0.9039 - val_accuracy: 0.6882\n",
            "Epoch 22/100\n",
            "157/157 [==============================] - 13s 81ms/step - loss: 0.7019 - accuracy: 0.7572 - val_loss: 0.8979 - val_accuracy: 0.6985\n",
            "Epoch 23/100\n",
            "157/157 [==============================] - 13s 81ms/step - loss: 0.6817 - accuracy: 0.7630 - val_loss: 0.8868 - val_accuracy: 0.7002\n"
          ]
        }
      ],
      "source": [
        "history_3 = model_3.fit(X_train, Y_train, epochs=100, batch_size=256,validation_split=0.2, callbacks = [es])"
      ]
    },
    {
      "cell_type": "markdown",
      "metadata": {},
      "source": [
        "## Sieć nr. 4 - Data Augmentation"
      ]
    },
    {
      "cell_type": "markdown",
      "metadata": {},
      "source": [
        "W tej sieci dodajemy 2 warstwy dla Data Augmentation - niestety nie działają one najlepiej dla tak małych obrazków, i nasze wyniki są dużo gorsze"
      ]
    },
    {
      "cell_type": "code",
      "execution_count": 40,
      "metadata": {},
      "outputs": [],
      "source": [
        "from keras.layers import RandomFlip, RandomRotation\n",
        "model_4 = Sequential([\n",
        "  RandomFlip(\"horizontal_and_vertical\"),\n",
        "  RandomRotation(0.2),\n",
        "  Conv2D(32, kernel_size=(3, 3), activation='relu', input_shape=input_shape),\n",
        "  MaxPooling2D(pool_size=(2,2)),\n",
        "  Conv2D(32, kernel_size=(3,3), activation='relu'),\n",
        "  MaxPooling2D(pool_size=(2,2)),\n",
        "  Flatten(),\n",
        "  Dense(128, activation='relu'),\n",
        "  Dense(10, activation='softmax')\n",
        "])\n",
        "model_4.compile(loss='categorical_crossentropy', optimizer='adam', metrics=['accuracy'])"
      ]
    },
    {
      "cell_type": "code",
      "execution_count": 41,
      "metadata": {},
      "outputs": [
        {
          "name": "stdout",
          "output_type": "stream",
          "text": [
            "Epoch 1/100\n",
            "157/157 [==============================] - 13s 78ms/step - loss: 1.9415 - accuracy: 0.2945 - val_loss: 1.7816 - val_accuracy: 0.3514\n",
            "Epoch 2/100\n",
            "157/157 [==============================] - 12s 76ms/step - loss: 1.7464 - accuracy: 0.3695 - val_loss: 1.6759 - val_accuracy: 0.3993\n",
            "Epoch 3/100\n",
            "157/157 [==============================] - 12s 77ms/step - loss: 1.6744 - accuracy: 0.3938 - val_loss: 1.6430 - val_accuracy: 0.4123\n",
            "Epoch 4/100\n",
            "157/157 [==============================] - 12s 77ms/step - loss: 1.6325 - accuracy: 0.4134 - val_loss: 1.5609 - val_accuracy: 0.4453\n",
            "Epoch 5/100\n",
            "157/157 [==============================] - 12s 78ms/step - loss: 1.5789 - accuracy: 0.4324 - val_loss: 1.5501 - val_accuracy: 0.4426\n",
            "Epoch 6/100\n",
            "157/157 [==============================] - 12s 77ms/step - loss: 1.5397 - accuracy: 0.4473 - val_loss: 1.5829 - val_accuracy: 0.4430\n",
            "Epoch 7/100\n",
            "157/157 [==============================] - 12s 75ms/step - loss: 1.5149 - accuracy: 0.4550 - val_loss: 1.5161 - val_accuracy: 0.4625\n",
            "Epoch 8/100\n",
            "157/157 [==============================] - 12s 76ms/step - loss: 1.4914 - accuracy: 0.4663 - val_loss: 1.4700 - val_accuracy: 0.4856\n",
            "Epoch 9/100\n",
            "157/157 [==============================] - 12s 76ms/step - loss: 1.4705 - accuracy: 0.4730 - val_loss: 1.4661 - val_accuracy: 0.4704\n",
            "Epoch 10/100\n",
            "157/157 [==============================] - 12s 76ms/step - loss: 1.4594 - accuracy: 0.4776 - val_loss: 1.4916 - val_accuracy: 0.4826\n",
            "Epoch 11/100\n",
            "157/157 [==============================] - 12s 76ms/step - loss: 1.4422 - accuracy: 0.4814 - val_loss: 1.4958 - val_accuracy: 0.4857\n",
            "Epoch 12/100\n",
            "157/157 [==============================] - 12s 76ms/step - loss: 1.4167 - accuracy: 0.4942 - val_loss: 1.4495 - val_accuracy: 0.4900\n",
            "Epoch 13/100\n",
            "157/157 [==============================] - 12s 76ms/step - loss: 1.4098 - accuracy: 0.4988 - val_loss: 1.3698 - val_accuracy: 0.5232\n",
            "Epoch 14/100\n",
            "157/157 [==============================] - 12s 77ms/step - loss: 1.3924 - accuracy: 0.5019 - val_loss: 1.4871 - val_accuracy: 0.4843\n",
            "Epoch 15/100\n",
            "157/157 [==============================] - 12s 76ms/step - loss: 1.3740 - accuracy: 0.5104 - val_loss: 1.3901 - val_accuracy: 0.5192\n",
            "Epoch 16/100\n",
            "157/157 [==============================] - 12s 76ms/step - loss: 1.3677 - accuracy: 0.5160 - val_loss: 1.3846 - val_accuracy: 0.5171\n"
          ]
        }
      ],
      "source": [
        "history_4 = model_4.fit(X_train, Y_train, epochs=100, batch_size=256, validation_split=0.2, callbacks = [es])"
      ]
    },
    {
      "cell_type": "markdown",
      "metadata": {},
      "source": [
        "## Sieć nr.5 - połączone podejścia 1-3"
      ]
    },
    {
      "cell_type": "markdown",
      "metadata": {},
      "source": [
        "Tutaj spróbowałem zrobić najbardziej skomplikowaną sieć - głębszą, z większą ilością feature map i z warstwami dropoutowymi"
      ]
    },
    {
      "cell_type": "code",
      "execution_count": 42,
      "metadata": {},
      "outputs": [],
      "source": [
        "model_5 = Sequential([\n",
        "  Conv2D(64, kernel_size=(3, 3), activation='relu', padding=\"same\", input_shape=input_shape),\n",
        "  MaxPooling2D(pool_size=(2,2)), \n",
        "  Conv2D(64, kernel_size=(3,3), padding=\"same\", activation='relu'),\n",
        "  Dropout(0.1),\n",
        "  Conv2D(64, kernel_size=(3,3),  padding=\"same\",activation='relu'),\n",
        "  Conv2D(64, kernel_size=(3,3),  padding=\"same\",activation='relu'),\n",
        "  Conv2D(64, kernel_size=(3,3),  padding=\"same\",activation='relu'),\n",
        "  MaxPooling2D(pool_size=(2,2)), \n",
        "  Dropout(0.1),\n",
        "  Conv2D(64, kernel_size=(3,3),  padding=\"same\",activation='relu'),\n",
        "  Conv2D(64, kernel_size=(3,3),  padding=\"same\",activation='relu'),\n",
        "  MaxPooling2D(pool_size=(2,2)), \n",
        "  Conv2D(64, kernel_size=(3,3),  padding=\"same\",activation='relu'),\n",
        "  Flatten(), # tutaj 2-wymiarowe, wielo kanalowe 'obrazki' staja sie wektorem\n",
        "  Dense(128, activation='relu'),\n",
        "  Dense(10, activation='softmax')\n",
        "])\n",
        "model_5.compile(loss='categorical_crossentropy', optimizer='adam', metrics=['accuracy'])\n",
        "# model_5.summary()"
      ]
    },
    {
      "cell_type": "code",
      "execution_count": 43,
      "metadata": {},
      "outputs": [
        {
          "name": "stdout",
          "output_type": "stream",
          "text": [
            "Epoch 1/100\n",
            "157/157 [==============================] - 70s 445ms/step - loss: 1.8434 - accuracy: 0.3159 - val_loss: 1.5564 - val_accuracy: 0.4252\n",
            "Epoch 2/100\n",
            "157/157 [==============================] - 72s 460ms/step - loss: 1.4316 - accuracy: 0.4745 - val_loss: 1.3314 - val_accuracy: 0.5129\n",
            "Epoch 3/100\n",
            "157/157 [==============================] - 72s 458ms/step - loss: 1.2349 - accuracy: 0.5559 - val_loss: 1.2962 - val_accuracy: 0.5422\n",
            "Epoch 4/100\n",
            "157/157 [==============================] - 71s 455ms/step - loss: 1.0958 - accuracy: 0.6088 - val_loss: 1.0713 - val_accuracy: 0.6208\n",
            "Epoch 5/100\n",
            "157/157 [==============================] - 71s 455ms/step - loss: 0.9719 - accuracy: 0.6536 - val_loss: 0.9910 - val_accuracy: 0.6503\n",
            "Epoch 6/100\n",
            "157/157 [==============================] - 74s 472ms/step - loss: 0.8817 - accuracy: 0.6889 - val_loss: 0.9620 - val_accuracy: 0.6623\n",
            "Epoch 7/100\n",
            "157/157 [==============================] - 73s 466ms/step - loss: 0.8063 - accuracy: 0.7149 - val_loss: 0.8868 - val_accuracy: 0.6985\n",
            "Epoch 8/100\n",
            "157/157 [==============================] - 72s 458ms/step - loss: 0.7376 - accuracy: 0.7402 - val_loss: 0.8662 - val_accuracy: 0.6971\n",
            "Epoch 9/100\n",
            "157/157 [==============================] - 73s 463ms/step - loss: 0.6975 - accuracy: 0.7540 - val_loss: 0.8278 - val_accuracy: 0.7146\n",
            "Epoch 10/100\n",
            "157/157 [==============================] - 72s 459ms/step - loss: 0.6292 - accuracy: 0.7793 - val_loss: 0.8851 - val_accuracy: 0.6984\n",
            "Epoch 11/100\n",
            "157/157 [==============================] - 72s 457ms/step - loss: 0.5954 - accuracy: 0.7883 - val_loss: 0.8293 - val_accuracy: 0.7243\n",
            "Epoch 12/100\n",
            "157/157 [==============================] - 73s 463ms/step - loss: 0.5360 - accuracy: 0.8101 - val_loss: 0.9429 - val_accuracy: 0.6997\n",
            "Epoch 13/100\n",
            "157/157 [==============================] - 72s 456ms/step - loss: 0.4882 - accuracy: 0.8273 - val_loss: 0.8459 - val_accuracy: 0.7237\n",
            "Epoch 14/100\n",
            "157/157 [==============================] - 72s 460ms/step - loss: 0.4420 - accuracy: 0.8446 - val_loss: 0.8572 - val_accuracy: 0.7331\n",
            "Epoch 15/100\n",
            "157/157 [==============================] - 73s 466ms/step - loss: 0.4009 - accuracy: 0.8581 - val_loss: 0.9589 - val_accuracy: 0.7096\n",
            "Epoch 16/100\n",
            "157/157 [==============================] - 74s 469ms/step - loss: 0.3875 - accuracy: 0.8618 - val_loss: 0.9337 - val_accuracy: 0.7264\n",
            "Epoch 17/100\n",
            "157/157 [==============================] - 73s 467ms/step - loss: 0.3360 - accuracy: 0.8782 - val_loss: 1.0124 - val_accuracy: 0.7227\n"
          ]
        }
      ],
      "source": [
        "history_5 = model_5.fit(X_train, Y_train, epochs=100, batch_size=256, validation_split=0.2, callbacks = [es])"
      ]
    },
    {
      "cell_type": "code",
      "execution_count": 44,
      "metadata": {},
      "outputs": [
        {
          "name": "stdout",
          "output_type": "stream",
          "text": [
            "Model: \"sequential_6\"\n",
            "_________________________________________________________________\n",
            " Layer (type)                Output Shape              Param #   \n",
            "=================================================================\n",
            " conv2d_18 (Conv2D)          (None, 32, 32, 64)        1792      \n",
            "                                                                 \n",
            " max_pooling2d_12 (MaxPoolin  (None, 16, 16, 64)       0         \n",
            " g2D)                                                            \n",
            "                                                                 \n",
            " conv2d_19 (Conv2D)          (None, 16, 16, 64)        36928     \n",
            "                                                                 \n",
            " dropout_1 (Dropout)         (None, 16, 16, 64)        0         \n",
            "                                                                 \n",
            " conv2d_20 (Conv2D)          (None, 16, 16, 64)        36928     \n",
            "                                                                 \n",
            " conv2d_21 (Conv2D)          (None, 16, 16, 64)        36928     \n",
            "                                                                 \n",
            " conv2d_22 (Conv2D)          (None, 16, 16, 64)        36928     \n",
            "                                                                 \n",
            " max_pooling2d_13 (MaxPoolin  (None, 8, 8, 64)         0         \n",
            " g2D)                                                            \n",
            "                                                                 \n",
            " dropout_2 (Dropout)         (None, 8, 8, 64)          0         \n",
            "                                                                 \n",
            " conv2d_23 (Conv2D)          (None, 8, 8, 64)          36928     \n",
            "                                                                 \n",
            " conv2d_24 (Conv2D)          (None, 8, 8, 64)          36928     \n",
            "                                                                 \n",
            " max_pooling2d_14 (MaxPoolin  (None, 4, 4, 64)         0         \n",
            " g2D)                                                            \n",
            "                                                                 \n",
            " conv2d_25 (Conv2D)          (None, 4, 4, 64)          36928     \n",
            "                                                                 \n",
            " flatten_6 (Flatten)         (None, 1024)              0         \n",
            "                                                                 \n",
            " dense_12 (Dense)            (None, 128)               131200    \n",
            "                                                                 \n",
            " dense_13 (Dense)            (None, 10)                1290      \n",
            "                                                                 \n",
            "=================================================================\n",
            "Total params: 392,778\n",
            "Trainable params: 392,778\n",
            "Non-trainable params: 0\n",
            "_________________________________________________________________\n"
          ]
        }
      ],
      "source": [
        "model_5.summary()"
      ]
    },
    {
      "cell_type": "markdown",
      "metadata": {},
      "source": [
        "## Porównanie wyników"
      ]
    },
    {
      "cell_type": "markdown",
      "metadata": {},
      "source": []
    },
    {
      "cell_type": "code",
      "execution_count": 59,
      "metadata": {},
      "outputs": [
        {
          "data": {
            "image/png": "[encoded data removed]",
            "text/plain": [
              "<Figure size 864x360 with 2 Axes>"
            ]
          },
          "metadata": {
            "needs_background": "light"
          },
          "output_type": "display_data"
        }
      ],
      "source": [
        "x = range(1, 50)\n",
        "\n",
        "plt.figure(figsize=(12, 5))\n",
        "plt.subplot(1, 2, 1)\n",
        "# plt.plot(x, history.history['_accuracy'], 'b', label='Training acc')\n",
        "plt.plot(x[:min(len(x),len(history_basic.history['val_accuracy']))], history_basic.history['val_accuracy'], 'k', label='Baseline validation acc')\n",
        "plt.plot(x[:min(len(x),len(history_1.history['val_accuracy']))], history_1.history['val_accuracy'], 'r', label='Net_1 (deeper) validation acc')\n",
        "plt.plot(x[:min(len(x),len(history_2.history['val_accuracy']))], history_2.history['val_accuracy'], 'b', label='Net_2 (wider) validation acc')\n",
        "plt.plot(x[:min(len(x),len(history_3.history['val_accuracy']))], history_3.history['val_accuracy'], 'y', label='Net_3 (dropout) validation acc')\n",
        "plt.plot(x[:min(len(x),len(history_4.history['val_accuracy']))], history_4.history['val_accuracy'], 'g', label='Net_4 (augmented) validation acc')\n",
        "plt.plot(x[:min(len(x),len(history_5.history['val_accuracy']))], history_5.history['val_accuracy'], 'm', label='Net_5 (combined) validation acc')\n",
        "plt.title('Training and validation accuracy')\n",
        "plt.legend()\n",
        "plt.subplot(1, 2, 2)\n",
        "# plt.plot(x, history.history['loss'], 'b', label='Training loss')\n",
        "plt.plot(x[:min(len(x),len(history_basic.history['val_loss']))], history_basic.history['val_loss'], 'k', label='Baseline validation loss')\n",
        "plt.plot(x[:min(len(x),len(history_1.history['val_loss']))], history_1.history['val_loss'], 'r', label='Net_1 (deeper) validation loss')\n",
        "plt.plot(x[:min(len(x),len(history_2.history['val_loss']))], history_2.history['val_loss'], 'b', label='Net_2 (wider) validation loss')\n",
        "plt.plot(x[:min(len(x),len(history_3.history['val_loss']))], history_3.history['val_loss'], 'y', label='Net_3 (dropout) validation loss')\n",
        "plt.plot(x[:min(len(x),len(history_4.history['val_loss']))], history_4.history['val_loss'], 'g', label='Net_4 (augmented) validation loss')\n",
        "plt.plot(x[:min(len(x),len(history_5.history['val_loss']))], history_5.history['val_loss'], 'm', label='Net_5 (combined) validation loss')\n",
        "plt.title('Training and validation loss')\n",
        "plt.legend()\n",
        "\n",
        "plt.show()"
      ]
    },
    {
      "cell_type": "markdown",
      "metadata": {},
      "source": [
        "Widać że najlepsze wyniki osiągamy dla sieci połączonej, i bardzo podobne dla sieci z większą ilością feature map. Pogłębienie sieci nie wpływa znacząco na wynik, za to dodanie dropouty pozwala na wyciśnięcie kilka ekstra punktów procentowych z naszej sieci"
      ]
    }
  ],
  "metadata": {
    "accelerator": "GPU",
    "colab": {
      "collapsed_sections": [],
      "name": "ZUM_img_1_22q1.ipynb",
      "provenance": [],
      "toc_visible": true
    },
    "kernelspec": {
      "display_name": "Python 3",
      "name": "python3"
    },
    "language_info": {
      "codemirror_mode": {
        "name": "ipython",
        "version": 3
      },
      "file_extension": ".py",
      "mimetype": "text/x-python",
      "name": "python",
      "nbconvert_exporter": "python",
      "pygments_lexer": "ipython3",
      "version": "3.9.5"
    }
  },
  "nbformat": 4,
  "nbformat_minor": 0
}
