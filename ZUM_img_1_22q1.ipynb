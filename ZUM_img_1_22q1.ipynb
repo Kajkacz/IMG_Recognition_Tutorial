{
  "cells": [
    {
      "cell_type": "markdown",
      "metadata": {
        "id": "IImW6xGnwobW"
      },
      "source": [
        "# Rozpoznawanie obrazu\n",
        "Ostatnia aktualizacja: 2021.04.07"
      ]
    },
    {
      "cell_type": "markdown",
      "metadata": {
        "id": "Eh7IOzAiR_00"
      },
      "source": [
        "Zanim zaczniemy: Runtime / Change runtime type / włączamy GPU"
      ]
    },
    {
      "cell_type": "markdown",
      "metadata": {
        "id": "3qW-R-Zn3y5b"
      },
      "source": [
        "## MNIST\n",
        "Zaczniemy od zbioru MNIST (Modified National Institute of Standards and Technology), zawierającego 70 000 pisanych ręcznie cyfr (o wymiarach 28x28 pixeli w skali szarości o wartościach 0-255, czyli 1 bajt na pixel).\n",
        "Zbiór jest już podzielony na dane treningowe i testowe, jest bardzo popularny, więc łatwo jest porównać nasze wyniki z publikownaymi w internecie.  \n",
        "Do sieci neuronowych będziemy używać Keras, który jest nakładką na Tensorflow / Theano / CNTK.  \n",
        "Obecnie najczęściej do przetwarzania obrazu używa się Tensorflow, Keras, PyTorch i Caffe. Ten ostatni moim zdaniem jest najmniej przyjazny i traci na popularności, ale kiedyś był często używany do obrazu, więc ma spore 'model zoo'.  \n",
        "Na początek zaimportujmy nasz zbiór z keras.datasets i numpy.  \n",
        "Zbiory dostępne w Keras:  \n",
        "https://keras.io/datasets/\n"
      ]
    },
    {
      "cell_type": "markdown",
      "metadata": {
        "id": "v__1lKTRrJ9J"
      },
      "source": [
        "## Instructions\n",
        "Powtórz eksperyment z pierwszego notatnika (w którym klasyfikowaliśmy MNIST używając SVM i CNN) na zbiorze danych CIFAR-10: https://keras.io/datasets/\n",
        "\n",
        "Najpierw przeprowadź klasyfikację za pomocą sieci, które stworzyliśmy na zajęciach - trzeba je dostosować, bo zdjęcia w CIFAR są w RGB, czyli mają 3 kanały.\n",
        "\n",
        "Następnie wydziel zbiór walidacyjny i dodaj early stopping (https://keras.io/api/callbacks/early_stopping/)\n",
        "\n",
        "Kolejnym krokiem jest próba poprawienia wyniku. Spróbuj wprowadzić modyfikacje (np. dodawanie, usuwanie lub modyfikacja warstw Conv2D, Dense, Pooling, dodanie Dropoutu, modyfikacja hiperparametrów, itd.) do sieci, które mogłyby poprawić jej skuteczność. Stwórz co najmniej 3 takie sieci i opisz wprowadzone w nich zmiany.\n",
        "\n",
        "Dla chętnych: jakby ktoś chciałby się bardziej pobawić sieciami, można spróbować dodać jeszcze data augmentation i zrobić porównanie treningu z augmentation i bez.\n",
        "\n",
        "Wrzuć plik .ipynb ze swoimi eksperymentami i opisami stworzonych sieci.\n",
        "\n",
        "W razie pytań lub wąpliwości, proszę pisać: lukasz.wilczynski@pjwstk.edu.pl\n",
        "My work"
      ]
    },
    {
      "cell_type": "code",
      "execution_count": 1,
      "metadata": {
        "id": "j9NGgReMXoyK"
      },
      "outputs": [],
      "source": [
        "from keras.datasets import cifar100 as dataset\n",
        "import numpy as np"
      ]
    },
    {
      "cell_type": "markdown",
      "metadata": {
        "id": "K7IMFVhdaGe-"
      },
      "source": [
        "Wczytajmy dane mnist do zmiennych X_train, y_train, X_test, y_test, używając metody load_data. \n",
        "X jest dużą literą bo to macierz, y małą bo wektor."
      ]
    },
    {
      "cell_type": "code",
      "execution_count": 2,
      "metadata": {
        "colab": {
          "base_uri": "https://localhost:8080/"
        },
        "id": "wHuV5NPAXr4G",
        "outputId": "e3a47105-3125-44b1-d19a-58075c14e8c7"
      },
      "outputs": [],
      "source": [
        "(X_train, y_train), (X_test, y_test) = dataset.load_data()"
      ]
    },
    {
      "cell_type": "markdown",
      "metadata": {
        "id": "spefY_e83sZN"
      },
      "source": [
        "### Wizualizacja danych\n",
        "Zanim zaczniemy cokowliek robić z naszymi danymi, warto zobaczyć, jak wyglądają. Na dobry początek wypiszmy sobie kształty naszych zbiorów danych oraz  wydrukujmy pierwszy element zbioru treningowego (funkcja print) i jego etykietę. "
      ]
    },
    {
      "cell_type": "code",
      "execution_count": 3,
      "metadata": {
        "colab": {
          "base_uri": "https://localhost:8080/"
        },
        "id": "V3_5q9Vgbpv0",
        "outputId": "71eca8d7-1b25-4863-82f8-a8fe4005d10c"
      },
      "outputs": [
        {
          "name": "stdout",
          "output_type": "stream",
          "text": [
            "X_train: {}, y_train: {} (50000, 32, 32, 3) (50000, 1)\n",
            "X_test: {}, y_test: {} (10000, 32, 32, 3) (10000, 1)\n"
          ]
        }
      ],
      "source": [
        "print(\"X_train: {}, y_train: {}\", X_train.shape, y_train.shape)\n",
        "print(\"X_test: {}, y_test: {}\", X_test.shape, y_test.shape)"
      ]
    },
    {
      "cell_type": "markdown",
      "metadata": {
        "id": "yZpZmpJpbr87"
      },
      "source": [
        "Ponieważ nasze dane to tak naprawdę pixele w skali szarości, możemy je sobie wyświetlić jako obrazki. pyplot ma funkcję imshow, użyjmy jej do wyświetlenia pierwszego elementu zbioru treningowego. Ponieważ skala szarości, podajmy wartość argumentu cmap 'gray' lub 'Greys'. [Tutaj są różne color mapy.](   \n",
        "https://matplotlib.org/examples/color/colormaps_reference.html)"
      ]
    },
    {
      "cell_type": "code",
      "execution_count": 4,
      "metadata": {
        "colab": {
          "base_uri": "https://localhost:8080/",
          "height": 282
        },
        "id": "nIh_CbLNcRLZ",
        "outputId": "48fc65d5-145d-40c6-fa93-bd526b13d034"
      },
      "outputs": [
        {
          "data": {
            "text/plain": [
              "<matplotlib.image.AxesImage at 0x19b8205a640>"
            ]
          },
          "execution_count": 4,
          "metadata": {},
          "output_type": "execute_result"
        },
        {
          "data": {
            "image/png": "[encoded data removed]",
            "text/plain": [
              "<Figure size 432x288 with 1 Axes>"
            ]
          },
          "metadata": {
            "needs_background": "light"
          },
          "output_type": "display_data"
        }
      ],
      "source": [
        "import matplotlib.pyplot as plt\n",
        "plt.imshow(X_train[0], cmap='bone')"
      ]
    },
    {
      "cell_type": "markdown",
      "metadata": {
        "id": "4-UKeThLcR87"
      },
      "source": [
        "Kiedy drukujemy nasz element funkcją print, nie jest to do końca czytelne, ponieważ rzędy nie mieszczą się w jednej linijce. Wydrukujmy sobie lewy górny róg pierwszego obrazka, np kwadrad 16x16 pixeli (jeśli 16 się nie zmieści, to trochę mniej). Ten sam kwadrat wydrukujmy używając imshow. Czy widać, że patrzymy na to samo? \n",
        "Podsumowując, musimy dostać się do pierwszego elementu zbioru treningowego, i przekazać jego kawałek (slice) funkcjom print i imshow. Jeśli ktoś nie wie jak, zamiast przekopywać dokumentację [możemy zerknąć na SO](https://stackoverflow.com/questions/509211/understanding-slice-notation_)"
      ]
    },
    {
      "cell_type": "code",
      "execution_count": 5,
      "metadata": {
        "colab": {
          "base_uri": "https://localhost:8080/",
          "height": 560
        },
        "id": "7y1Xy3MPKCb1",
        "outputId": "d26d529e-c4d9-4b19-e87e-6252454c722d"
      },
      "outputs": [
        {
          "name": "stdout",
          "output_type": "stream",
          "text": [
            "[[[255 255 255]\n",
            "  [255 255 255]\n",
            "  [255 255 255]\n",
            "  [255 255 255]\n",
            "  [255 255 255]\n",
            "  [255 255 255]\n",
            "  [255 255 255]\n",
            "  [255 255 255]\n",
            "  [255 255 255]\n",
            "  [255 255 255]\n",
            "  [255 255 255]\n",
            "  [255 255 255]\n",
            "  [255 255 255]\n",
            "  [255 255 255]\n",
            "  [255 255 255]\n",
            "  [255 255 255]]\n",
            "\n",
            " [[255 255 255]\n",
            "  [254 254 254]\n",
            "  [254 254 254]\n",
            "  [254 254 254]\n",
            "  [254 254 254]\n",
            "  [254 254 254]\n",
            "  [254 254 254]\n",
            "  [254 254 254]\n",
            "  [254 254 254]\n",
            "  [254 254 254]\n",
            "  [254 254 254]\n",
            "  [254 254 254]\n",
            "  [254 254 254]\n",
            "  [254 254 254]\n",
            "  [254 254 254]\n",
            "  [254 254 254]]\n",
            "\n",
            " [[255 255 255]\n",
            "  [254 254 254]\n",
            "  [255 255 255]\n",
            "  [255 255 255]\n",
            "  [255 255 255]\n",
            "  [255 255 255]\n",
            "  [255 255 255]\n",
            "  [255 255 255]\n",
            "  [255 255 255]\n",
            "  [255 255 255]\n",
            "  [255 255 255]\n",
            "  [255 255 255]\n",
            "  [255 255 255]\n",
            "  [255 255 255]\n",
            "  [255 255 255]\n",
            "  [254 255 255]]\n",
            "\n",
            " [[255 255 255]\n",
            "  [254 254 254]\n",
            "  [255 255 255]\n",
            "  [255 255 255]\n",
            "  [255 255 255]\n",
            "  [255 255 255]\n",
            "  [255 255 255]\n",
            "  [253 255 255]\n",
            "  [252 253 248]\n",
            "  [248 236 228]\n",
            "  [239 221 216]\n",
            "  [238 227 227]\n",
            "  [252 254 253]\n",
            "  [252 255 255]\n",
            "  [253 254 253]\n",
            "  [255 252 249]]\n",
            "\n",
            " [[255 255 255]\n",
            "  [254 254 254]\n",
            "  [255 255 255]\n",
            "  [255 255 255]\n",
            "  [255 255 255]\n",
            "  [255 255 255]\n",
            "  [255 255 255]\n",
            "  [253 253 252]\n",
            "  [232 217 208]\n",
            "  [210 166 148]\n",
            "  [200 148 133]\n",
            "  [176 142 135]\n",
            "  [214 203 199]\n",
            "  [251 250 251]\n",
            "  [254 255 255]\n",
            "  [210 209 204]]\n",
            "\n",
            " [[255 255 255]\n",
            "  [254 254 254]\n",
            "  [255 255 255]\n",
            "  [255 255 255]\n",
            "  [255 255 255]\n",
            "  [255 255 255]\n",
            "  [255 255 255]\n",
            "  [252 245 245]\n",
            "  [213 178 173]\n",
            "  [210 150 134]\n",
            "  [218 151 129]\n",
            "  [200 144 123]\n",
            "  [180 141 130]\n",
            "  [218 202 200]\n",
            "  [226 228 230]\n",
            "  [116 125 127]]\n",
            "\n",
            " [[255 255 255]\n",
            "  [254 255 254]\n",
            "  [255 255 255]\n",
            "  [255 255 255]\n",
            "  [255 255 255]\n",
            "  [255 255 255]\n",
            "  [255 255 255]\n",
            "  [254 251 251]\n",
            "  [225 200 199]\n",
            "  [204 150 140]\n",
            "  [202 130 106]\n",
            "  [211 136 104]\n",
            "  [186 128 105]\n",
            "  [178 146 140]\n",
            "  [168 163 171]\n",
            "  [ 46  55  68]]\n",
            "\n",
            " [[255 255 255]\n",
            "  [254 254 254]\n",
            "  [255 255 255]\n",
            "  [255 255 255]\n",
            "  [255 254 255]\n",
            "  [255 255 255]\n",
            "  [255 255 255]\n",
            "  [253 255 255]\n",
            "  [249 245 246]\n",
            "  [220 188 183]\n",
            "  [185 120 101]\n",
            "  [192 112  80]\n",
            "  [180 119  89]\n",
            "  [140 108  99]\n",
            "  [129 120 131]\n",
            "  [ 50  50  67]]\n",
            "\n",
            " [[255 255 255]\n",
            "  [255 253 254]\n",
            "  [254 255 255]\n",
            "  [254 255 255]\n",
            "  [255 253 254]\n",
            "  [255 254 254]\n",
            "  [255 255 255]\n",
            "  [254 253 254]\n",
            "  [254 252 254]\n",
            "  [247 242 242]\n",
            "  [220 193 183]\n",
            "  [195 143 124]\n",
            "  [208 169 153]\n",
            "  [161 149 150]\n",
            "  [ 94  94 101]\n",
            "  [ 59  54  58]]\n",
            "\n",
            " [[253 253 254]\n",
            "  [255 253 254]\n",
            "  [252 254 254]\n",
            "  [244 248 247]\n",
            "  [250 252 251]\n",
            "  [253 254 253]\n",
            "  [255 255 255]\n",
            "  [254 254 255]\n",
            "  [250 253 254]\n",
            "  [212 224 222]\n",
            "  [195 200 191]\n",
            "  [188 181 168]\n",
            "  [238 232 226]\n",
            "  [203 202 208]\n",
            "  [ 75  74  82]\n",
            "  [ 54  45  47]]\n",
            "\n",
            " [[246 248 248]\n",
            "  [254 254 254]\n",
            "  [238 244 242]\n",
            "  [179 191 187]\n",
            "  [193 203 199]\n",
            "  [242 246 245]\n",
            "  [255 255 255]\n",
            "  [251 251 251]\n",
            "  [223 230 225]\n",
            "  [148 164 154]\n",
            "  [115 134 124]\n",
            "  [108 125 118]\n",
            "  [195 207 200]\n",
            "  [191 189 192]\n",
            "  [ 53  43  51]\n",
            "  [ 41  30  35]]\n",
            "\n",
            " [[247 252 251]\n",
            "  [240 242 242]\n",
            "  [185 194 192]\n",
            "  [149 166 160]\n",
            "  [156 172 167]\n",
            "  [214 221 219]\n",
            "  [253 253 254]\n",
            "  [236 237 232]\n",
            "  [175 182 165]\n",
            "  [123 132 112]\n",
            "  [ 91 102  92]\n",
            "  [ 69  85  80]\n",
            "  [147 162 142]\n",
            "  [201 190 182]\n",
            "  [ 87  67  72]\n",
            "  [ 70  61  69]]\n",
            "\n",
            " [[244 245 248]\n",
            "  [181 187 188]\n",
            "  [130 144 142]\n",
            "  [165 184 170]\n",
            "  [139 155 155]\n",
            "  [134 145 152]\n",
            "  [210 219 214]\n",
            "  [175 187 173]\n",
            "  [140 153 132]\n",
            "  [125 135 120]\n",
            "  [ 73  80  72]\n",
            "  [ 42  52  40]\n",
            "  [155 159 133]\n",
            "  [246 222 214]\n",
            "  [191 165 165]\n",
            "  [175 150 151]]\n",
            "\n",
            " [[231 233 233]\n",
            "  [115 125 120]\n",
            "  [134 151 140]\n",
            "  [158 176 162]\n",
            "  [108 121 131]\n",
            "  [109 123 130]\n",
            "  [156 173 155]\n",
            "  [112 130 109]\n",
            "  [113 130 113]\n",
            "  [116 130 117]\n",
            "  [ 73  84  65]\n",
            "  [106 119  88]\n",
            "  [177 176 151]\n",
            "  [242 212 208]\n",
            "  [235 204 204]\n",
            "  [237 187 187]]\n",
            "\n",
            " [[236 244 240]\n",
            "  [130 143 132]\n",
            "  [107 124 105]\n",
            "  [ 88 104  96]\n",
            "  [ 57  68  84]\n",
            "  [ 82  96  93]\n",
            "  [128 147 116]\n",
            "  [110 128 105]\n",
            "  [ 93 110  97]\n",
            "  [ 98 112  96]\n",
            "  [105 118  87]\n",
            "  [130 145 101]\n",
            "  [168 169 146]\n",
            "  [236 204 202]\n",
            "  [232 195 196]\n",
            "  [226 155 160]]\n",
            "\n",
            " [[181 195 199]\n",
            "  [127 142 135]\n",
            "  [110 127 109]\n",
            "  [ 55  70  63]\n",
            "  [ 28  41  51]\n",
            "  [ 69  85  72]\n",
            "  [125 144 110]\n",
            "  [ 97 115  95]\n",
            "  [ 76  92  83]\n",
            "  [109 122 111]\n",
            "  [131 143 118]\n",
            "  [103 117  80]\n",
            "  [147 149 130]\n",
            "  [241 212 211]\n",
            "  [240 189 193]\n",
            "  [203 107 117]]]\n"
          ]
        },
        {
          "data": {
            "text/plain": [
              "<matplotlib.image.AxesImage at 0x19b82158f40>"
            ]
          },
          "execution_count": 5,
          "metadata": {},
          "output_type": "execute_result"
        },
        {
          "data": {
            "image/png": "[encoded data removed]",
            "text/plain": [
              "<Figure size 432x288 with 1 Axes>"
            ]
          },
          "metadata": {
            "needs_background": "light"
          },
          "output_type": "display_data"
        }
      ],
      "source": [
        "image_slice = X_train[0][0:16, 0:16]\n",
        "print(image_slice)\n",
        "plt.imshow(image_slice, cmap='gray')"
      ]
    },
    {
      "cell_type": "markdown",
      "metadata": {
        "id": "NefTmiy_KG6o"
      },
      "source": [
        "Jeśli widzimy, że obrazek i print pokazują to samo, obejrzyjmy teraz więcej danych.  \n",
        "Narysujmy sobie pierwsze 9 lub 16 elementów. Przydadzą się funkcje subplot, imshow z pyplot i ewentualnie google. "
      ]
    },
    {
      "cell_type": "code",
      "execution_count": 6,
      "metadata": {
        "colab": {
          "base_uri": "https://localhost:8080/",
          "height": 545
        },
        "id": "ytMD79YIv8hV",
        "outputId": "48259d79-42c7-4f07-d322-cefef569f07a"
      },
      "outputs": [
        {
          "name": "stderr",
          "output_type": "stream",
          "text": [
            "c:\\Users\\kajka\\Documents\\ProgrammingProjects\\PJATK\\Sem3\\ZUM\\Projekty\\Obrazy\\pyenv\\lib\\site-packages\\matplotlib\\text.py:1223: FutureWarning: elementwise comparison failed; returning scalar instead, but in the future will perform elementwise comparison\n",
            "  if s != self._text:\n"
          ]
        },
        {
          "data": {
            "image/png": "[encoded data removed]",
            "text/plain": [
              "<Figure size 432x288 with 9 Axes>"
            ]
          },
          "metadata": {
            "needs_background": "light"
          },
          "output_type": "display_data"
        },
        {
          "data": {
            "image/png": "[encoded data removed]",
            "text/plain": [
              "<Figure size 432x288 with 9 Axes>"
            ]
          },
          "metadata": {
            "needs_background": "light"
          },
          "output_type": "display_data"
        }
      ],
      "source": [
        "for i in range(9):\n",
        "  plt.subplot(3, 3, i+1)\n",
        "  plt.imshow(X_train[i], cmap='gray')\n",
        "  plt.title(y_train[i])\n",
        "plt.show()\n",
        "\n",
        "for i in range(9):\n",
        "  plt.subplot(3, 3, i+1)\n",
        "  plt.title(y_test[i])\n",
        "  plt.imshow(X_test[i], cmap='gray')\n",
        "plt.show()"
      ]
    },
    {
      "cell_type": "markdown",
      "metadata": {
        "id": "_OLHtE4ULuEA"
      },
      "source": [
        "OK, czyli wiemy, jak wyglądają nasze dane. Są to pixele w skali szarości, gdzie 0 to pustka, a 255 to bardzo mocno wciśnięty długopis.  "
      ]
    },
    {
      "cell_type": "markdown",
      "metadata": {
        "id": "Oq7kIoP25Qfs"
      },
      "source": [
        "### Klasyfikacja SVM'em\n",
        "Ponieważ jest to popularny zbiór danych, możemy sobie podejrzeć, jak różne modele powinny sobie z nim poradzić.  \n",
        "https://en.wikipedia.org/wiki/MNIST_database  \n",
        "Z tabelki na tej stronie wynika, że najlepiej radzą sobie CNNy, ale SVM też wypada całkiem nieźle.  \n",
        "Problem jest taki, że na 60 000 instancji będzie się strasznie długo uczył, więc zrobimy trening na części. Chętni mogą sobie powtórzyć na pełnym zbiorze w domu.  \n",
        "Zróbmy sobie zmienną train_count i ustawmy jej wartość na 10 000 - na tylu danych będziemy ćwiczyć nasz SVM. Wydrukujmy sobie kształt naszego wycinka pierwszych 10 000 instancji treningowych. \n",
        "Zobaczmy też, jak wygląda rozkład klas - czy przypadkiem w pierwszych 10 000 instancji nie będą np. same jedynki i dwójki. Numpy ma przydatną funkcję unique. "
      ]
    },
    {
      "cell_type": "code",
      "execution_count": 7,
      "metadata": {
        "colab": {
          "base_uri": "https://localhost:8080/"
        },
        "id": "rPe5KH1KRJLa",
        "outputId": "a4fbfd20-a409-41c5-aaa3-057f5e31fb13"
      },
      "outputs": [
        {
          "data": {
            "text/plain": [
              "(array([ 0,  1,  2,  3,  4,  5,  6,  7,  8,  9, 10, 11, 12, 13, 14, 15, 16,\n",
              "        17, 18, 19, 20, 21, 22, 23, 24, 25, 26, 27, 28, 29, 30, 31, 32, 33,\n",
              "        34, 35, 36, 37, 38, 39, 40, 41, 42, 43, 44, 45, 46, 47, 48, 49, 50,\n",
              "        51, 52, 53, 54, 55, 56, 57, 58, 59, 60, 61, 62, 63, 64, 65, 66, 67,\n",
              "        68, 69, 70, 71, 72, 73, 74, 75, 76, 77, 78, 79, 80, 81, 82, 83, 84,\n",
              "        85, 86, 87, 88, 89, 90, 91, 92, 93, 94, 95, 96, 97, 98, 99]),\n",
              " array([ 92,  99,  92,  95, 108, 110,  69,  99, 124,  98,  95, 114,  94,\n",
              "         92, 113,  91, 103,  67,  90, 109,  95, 109, 105,  84,  95,  97,\n",
              "        107,  96, 101,  88, 108,  94,  97, 111,  95, 104,  97,  90, 109,\n",
              "         86, 110, 112, 104,  91, 107,  89,  91, 100, 102,  98,  93, 107,\n",
              "         91, 105,  94, 107, 115, 115, 112,  96,  98,  97, 109, 123, 125,\n",
              "        101, 108, 107, 103,  90, 107, 109, 105, 100,  84,  80, 102, 106,\n",
              "        115, 103, 105,  90, 102,  95, 102, 115,  90, 108,  87, 106, 109,\n",
              "         89,  99,  84, 101, 105,  81,  98,  97, 104], dtype=int64))"
            ]
          },
          "execution_count": 7,
          "metadata": {},
          "output_type": "execute_result"
        }
      ],
      "source": [
        "train_count = 10000\n",
        "X_train = X_train[0:train_count]\n",
        "y_train = y_train[0:train_count]\n",
        "\n",
        "np.unique(y_train, return_counts=True)"
      ]
    },
    {
      "cell_type": "markdown",
      "metadata": {
        "id": "QU83tToCOqEJ"
      },
      "source": [
        "Użyjmy SVM'a z scikit-learn'a. Deskewing sobie odpuścimy (jak ktoś bardzo chce, proponuję w domu lub na szybko znaleźć gotowy kod), tak jak w linku użyjmy 'poly' kernel, a gamma ustawmy na 0.1.\n",
        "Czyli chcemy stworzyć obiekt klasyfikatora używając svm.SVC, a następnie wytrenować go na 10000 danych treningowych (metoda fit).  \n",
        "SVM może przyjąć dane w postaci wektora liczb, więc przyda się metoda reshape, która pozwoli nam przekształcić 2-wymiarowe macierze w wektory."
      ]
    },
    {
      "cell_type": "code",
      "execution_count": 8,
      "metadata": {},
      "outputs": [
        {
          "data": {
            "text/plain": [
              "(10000, 32, 32, 3)"
            ]
          },
          "execution_count": 8,
          "metadata": {},
          "output_type": "execute_result"
        }
      ],
      "source": [
        "X_train.shape"
      ]
    },
    {
      "cell_type": "code",
      "execution_count": 9,
      "metadata": {
        "colab": {
          "base_uri": "https://localhost:8080/"
        },
        "id": "Cu9obJdl5OqR",
        "outputId": "4ae2f9e5-8cbe-4f42-c88f-6aa5a3545c6c"
      },
      "outputs": [
        {
          "name": "stderr",
          "output_type": "stream",
          "text": [
            "c:\\Users\\kajka\\Documents\\ProgrammingProjects\\PJATK\\Sem3\\ZUM\\Projekty\\Obrazy\\pyenv\\lib\\site-packages\\sklearn\\utils\\validation.py:993: DataConversionWarning: A column-vector y was passed when a 1d array was expected. Please change the shape of y to (n_samples, ), for example using ravel().\n",
            "  y = column_or_1d(y, warn=True)\n"
          ]
        },
        {
          "data": {
            "text/plain": [
              "SVC(gamma=0.1, kernel='poly')"
            ]
          },
          "execution_count": 9,
          "metadata": {},
          "output_type": "execute_result"
        }
      ],
      "source": [
        "from sklearn import svm\n",
        "classifier = svm.SVC(kernel='poly', gamma=0.1)\n",
        "classifier.fit(X_train.reshape(X_train.shape[0], X_train.shape[1]*X_train.shape[2]*X_train.shape[3]), y_train)"
      ]
    },
    {
      "cell_type": "markdown",
      "metadata": {
        "id": "mLX2i2RSxmzm"
      },
      "source": [
        "Jeśli wszystko się udało, teraz zobaczmy, jak mu pójdzie z danymi testowymi. Użyjmy metody 'predict' naszego wytrenowanego już klasyfikatora i zapiszmy sobie wynik do zmiennej y_pred (dostaniemy wektor 'predykcji')."
      ]
    },
    {
      "cell_type": "code",
      "execution_count": 10,
      "metadata": {
        "id": "6_iH8g-Kxd63"
      },
      "outputs": [],
      "source": [
        "y_pred = classifier.predict(X_test.reshape(X_test.shape[0], X_train.shape[1]*X_train.shape[2]*X_train.shape[3]))"
      ]
    },
    {
      "cell_type": "markdown",
      "metadata": {
        "id": "NU9H7eorS7Ha"
      },
      "source": [
        "Teraz porównajmy sobie nasze predykcje z prawidłowymi etykietami. Wypiszmy sobie może pierwsze 10 wyników i 10 etykiet. "
      ]
    },
    {
      "cell_type": "code",
      "execution_count": 11,
      "metadata": {
        "colab": {
          "base_uri": "https://localhost:8080/"
        },
        "id": "1stg6wqhTGs9",
        "outputId": "6406cd39-ad01-4d7d-89d9-efcfa68785b8"
      },
      "outputs": [
        {
          "name": "stdout",
          "output_type": "stream",
          "text": [
            "[12  4 15 87 71 43 10  7 23 32 73  5 19 69 35 77 92 86 70 53]\n",
            "[[49]\n",
            " [33]\n",
            " [72]\n",
            " [51]\n",
            " [71]\n",
            " [92]\n",
            " [15]\n",
            " [14]\n",
            " [23]\n",
            " [ 0]\n",
            " [71]\n",
            " [75]\n",
            " [81]\n",
            " [69]\n",
            " [40]\n",
            " [43]\n",
            " [92]\n",
            " [97]\n",
            " [70]\n",
            " [53]]\n"
          ]
        }
      ],
      "source": [
        "print(y_pred[:20])\n",
        "print(y_test[:20])"
      ]
    },
    {
      "cell_type": "markdown",
      "metadata": {
        "id": "OkHw_vdbTJFc"
      },
      "source": [
        "Świetnie. sklearn ma sporo funkcji do analizowania wyników predykcji, użyjmy accuracy_score i confusion_matrix (powinny być w skearn.metrics). "
      ]
    },
    {
      "cell_type": "code",
      "execution_count": 12,
      "metadata": {
        "colab": {
          "base_uri": "https://localhost:8080/"
        },
        "id": "ziWuhDdov3SB",
        "outputId": "6c36892a-1ae4-4ceb-a75d-4d16bb0f3a65"
      },
      "outputs": [
        {
          "name": "stdout",
          "output_type": "stream",
          "text": [
            "0.156\n",
            "[[41  3  6 ...  0  3  1]\n",
            " [ 1 13  1 ...  3  0  1]\n",
            " [ 1  0 16 ...  2  7  3]\n",
            " ...\n",
            " [ 0  1  3 ...  6  1  2]\n",
            " [ 0  1  8 ...  0  5  0]\n",
            " [ 0  0  0 ...  1  1  4]]\n"
          ]
        }
      ],
      "source": [
        "from sklearn.metrics import accuracy_score, confusion_matrix\n",
        "print(accuracy_score(y_pred, y_test))\n",
        "print(confusion_matrix(y_pred, y_test))"
      ]
    },
    {
      "cell_type": "markdown",
      "metadata": {
        "id": "RXXQRGG0Uic_"
      },
      "source": [
        "Patrząc na confusion matrix widzimy, co się najczęściej myli, np 1 i 7, 3 i 5, itp. Jak widzieliśmy, SVM przyjmuje wektor zamiast macierzy, czyli nasze dane przestały być 2D. Nasz obrazek teraz ma 28*28 na 1 pixeli. "
      ]
    },
    {
      "cell_type": "markdown",
      "metadata": {
        "id": "faTkzRg5Zaw5"
      },
      "source": [
        "[Tutaj](https://scikit-learn.org/stable/modules/model_persistence.html) jest opisana serializacja wytrenowanych modeli w sklearn, teraz nie mamy takiej potrzeby."
      ]
    },
    {
      "cell_type": "markdown",
      "metadata": {
        "id": "KB_KdxGDYqk7"
      },
      "source": [
        "### Mnist fashion i inne\n",
        "Teraz zmieńmy zbiór danych z mnist na mnist_fashion i zobaczmy jak sobie \n",
        "poradzi z ubraniami. Możemy albo skopiować komórki powyżej, albo zmienić tylko import mnist na fashion_mnist w pierwszej początkowej komórce kodu i uruchomić wszystkie pozostałe jeszcze raz na nowym zbiorze danych (są kompatybilne).  \n",
        "\n",
        "Jak komuś się bardzo spodobało rozpoznawanie cyfr, to jest jeszcze zbiór emnist:  \n",
        "https://www.nist.gov/node/1298471/emnist-dataset  \n",
        "https://www.kaggle.com/crawford/emnist  \n",
        "\n",
        "Przy okazji - na kaggle są bardzo ciekawe zbiory danych: \n",
        "https://www.kaggle.com/datasets  "
      ]
    },
    {
      "cell_type": "markdown",
      "metadata": {
        "id": "0lOBeLJYcAGN"
      },
      "source": [
        "### Klasyfikacja CNN'em\n",
        "SVM poradził sobie całkiem nieźle, zobaczmy jak poradzi sobie CNN.  \n",
        "Spróbujmy zrobić i wytrenować niewielką sieć - taką, która wytrenuje się w kilka minut. "
      ]
    },
    {
      "cell_type": "markdown",
      "metadata": {
        "id": "nlW4Jyg_A85O"
      },
      "source": [
        "####Przygotowanie danych"
      ]
    },
    {
      "cell_type": "markdown",
      "metadata": {
        "id": "YVO3VSVgcNFs"
      },
      "source": [
        "Dla porządku wczytajmy jeszcze raz dane, czyli wczytujemy je do X_train, y_train, X_test, y_test używając metody load_data.  "
      ]
    },
    {
      "cell_type": "code",
      "execution_count": 143,
      "metadata": {
        "colab": {
          "base_uri": "https://localhost:8080/"
        },
        "id": "PZJEJjc8nzJl",
        "outputId": "24553c35-c8c0-460c-fa6f-89f9e0a8fef4"
      },
      "outputs": [],
      "source": [
        "\n",
        "(X_train, y_train), (X_test, y_test) = dataset.load_data()"
      ]
    },
    {
      "cell_type": "code",
      "execution_count": 144,
      "metadata": {},
      "outputs": [],
      "source": [
        "shuffler = np.random.permutation(len(X_train))\n",
        "X_train = X_train[shuffler]\n",
        "y_train = y_train[shuffler]\n",
        "(X_train, X_validation) = np.split(X_train, [int(0.8*len(X_train))])\n",
        "(y_train, y_validation) = np.split(y_train, [int(0.8*len(y_train))])\n"
      ]
    },
    {
      "cell_type": "markdown",
      "metadata": {
        "id": "D_fKB_MOrv27"
      },
      "source": [
        "Sprawdźmy kształty naszych danych (metoda shape) i sprawdźmy jakiego typu są nasze dane (funkcja type). Sprawdźmy zarówno typ zbioru treningowego jak i pojedynczego pixela. "
      ]
    },
    {
      "cell_type": "code",
      "execution_count": 145,
      "metadata": {},
      "outputs": [
        {
          "name": "stdout",
          "output_type": "stream",
          "text": [
            "40000\n",
            "40000\n",
            "10000\n",
            "10000\n"
          ]
        }
      ],
      "source": [
        "print(len(y_train))\n",
        "print(len(X_train))\n",
        "print(len(y_validation))\n",
        "print(len(X_validation))"
      ]
    },
    {
      "cell_type": "code",
      "execution_count": 146,
      "metadata": {
        "colab": {
          "base_uri": "https://localhost:8080/"
        },
        "id": "g_AnZ15Nr7e8",
        "outputId": "4f72212a-afcc-48f7-c118-0eb46f247387"
      },
      "outputs": [
        {
          "name": "stdout",
          "output_type": "stream",
          "text": [
            "X_train: {}, y_train: {} (40000, 32, 32, 3) (40000, 1)\n",
            "X_test: {}, y_test: {} (10000, 32, 32, 3) (10000, 1)\n",
            "<class 'numpy.ndarray'>\n",
            "<class 'numpy.ndarray'>\n",
            "<class 'numpy.ndarray'>\n"
          ]
        }
      ],
      "source": [
        "print(\"X_train: {}, y_train: {}\", X_train.shape, y_train.shape)\n",
        "print(\"X_test: {}, y_test: {}\", X_test.shape, y_test.shape)\n",
        "\n",
        "print(type(X_train[0]))\n",
        "print(type(X_train[0][0]))\n",
        "print(type(X_train[0][0][0]))"
      ]
    },
    {
      "cell_type": "markdown",
      "metadata": {
        "id": "s6hmMA0Tobxz"
      },
      "source": [
        "Sieć szybciej się nauczy na danych o wartościach w zakresie 0-1 niż 0-255, więc musimy je znormalizować. Przeróbmy dane treningowe i testowe tak, żeby miały wartości w zakresie 0-1 zamiast 0-255. Następnie sprawdźmy typ pojedynczego pixela. \n"
      ]
    },
    {
      "cell_type": "code",
      "execution_count": 147,
      "metadata": {
        "id": "sVwm01xOoOBo"
      },
      "outputs": [],
      "source": [
        "X_train = X_train / 255 # przechodzimy z przedziału 0-255 na 0-1\n",
        "X_test = X_test / 255"
      ]
    },
    {
      "cell_type": "markdown",
      "metadata": {
        "id": "qvZBo76asgIr"
      },
      "source": [
        "Domyślna konfiguracja Keras korzysta z 32-bitowych float'ów. Jak w trakcie treningu będziemy podawać sieci 64-bitowe tablice, będzie dużo niepotrzebnego kopiowania, alokowania pamięci, itp. Dlatego przed treningiem zadbajmy o to, żeby nasze dane treningowe i testowe były w formacie 32-bitowym (numpy, metoda astype). \n"
      ]
    },
    {
      "cell_type": "code",
      "execution_count": 148,
      "metadata": {
        "colab": {
          "base_uri": "https://localhost:8080/"
        },
        "id": "F0tgFmGlV7eB",
        "outputId": "8acbf0ef-a2ca-410e-93bb-16dd827cda5c"
      },
      "outputs": [
        {
          "name": "stdout",
          "output_type": "stream",
          "text": [
            "<class 'numpy.ndarray'>\n",
            "<class 'numpy.ndarray'>\n"
          ]
        }
      ],
      "source": [
        "print(type(X_train[0][0][0]))\n",
        "X_train = X_train.astype('float32')\n",
        "X_test = X_test.astype('float32')\n",
        "print(type(X_train[0][0][0]))"
      ]
    },
    {
      "cell_type": "markdown",
      "metadata": {
        "id": "HQJvnE8NeDgT"
      },
      "source": [
        "Przygotowaliśmy dane treningowe, teraz jeszcze etykiety.  W tej chwili jest to wektor liczb - dla każdej instancji mamy jedną liczbę. Nasza sieć będzie miała na wyjściu 10 wartości (score dla każdej klasy), więc musimy przerobić nasze liczby do postaci one-hot. Jeśli klasy trzech instancji to np. [0, 3, 5], w postaci one-hot zamiast tego będziemy mieć na przykład coś takiego:  \n",
        "[1000000000]  \n",
        "[0001000000]  \n",
        "[0000010000]\n",
        "\n",
        "w keras.utils.np_utils mamy funcję to_categorical, która nam zrobi konwersję. Wyniki wpiszmy do zmiennych Y_train i Y_test (duże litery bo macierze). "
      ]
    },
    {
      "cell_type": "code",
      "execution_count": 149,
      "metadata": {
        "id": "xQUGyHL2cLBp"
      },
      "outputs": [],
      "source": [
        "# [1000000000] -> score dla cyfry 0\n",
        "# [0.1 0.2 0.4 ... 0.7 0.1] max 0.7; zwyciezca - cyfra 8\n"
      ]
    },
    {
      "cell_type": "code",
      "execution_count": 150,
      "metadata": {
        "id": "-vNhEFy1eYkc"
      },
      "outputs": [],
      "source": [
        "from keras.utils import np_utils\n",
        "Y_train = np_utils.to_categorical(y_train)\n",
        "y_validation = np_utils.to_categorical(y_validation)\n",
        "Y_test = np_utils.to_categorical(y_test)"
      ]
    },
    {
      "cell_type": "markdown",
      "metadata": {
        "id": "x4s1Inr0BTaY"
      },
      "source": [
        "Ostatnia sprawa. Conv2D przyjmuje obrazki w postaci tablicy wielowymiarowej - nie spłaszczamy danych do postaci wektora tak jak w przypadku SVM'a, bo nasz filtr / kernel działa na danych 'przestrzennych' - szerokość x wysokość x liczba kanałów.  \n",
        "W przypadku zdjęć 200 x 200 pixeli w RGB, każdy obrazek byłby tablicą o wymiarach 200 x 200 x 3 (lub 3 x 200 x 200 zależnie od tego jak przechowujemy dane).  \n",
        "Tutaj mamy 1 bajt na pixel i obrazek o wymiarach przestrzennych 28 x 28. Zatem nasze dane powinny mieć wymiary 28 x 28 x 1 (czyli ostatnia wartość nie może być liczbą, tylko tablicą przechowującą liczbę).\n",
        "\n",
        "Czyli musimy wcisnąć 1 wymiar. Gdzie go wciskamy, zależy od konfiguracji. \n",
        "\n",
        "```python\n",
        "from keras import backend as K\n",
        "if K.image_data_format() == 'channels_first':\n",
        "    X_train = X_train.reshape(X_train.shape[0], 1, X_train.shape[1], X_train.shape[2])\n",
        "    X_test = X_test.reshape(X_test.shape[0], 1, X_train.shape[1], X_train.shape[2])\n",
        "    input_shape = (1, X_train.shape[1], X_train.shape[2])\n",
        "else: # channels_last\n",
        "    X_train = X_train.reshape(X_train.shape[0], X_train.shape[1], X_train.shape[2], 1)\n",
        "    X_test = X_test.reshape(X_test.shape[0], X_train.shape[1], X_train.shape[2], 1)\n",
        "    input_shape = (X_train.shape[1], X_train.shape[2], 1)\n",
        " ```\n",
        " "
      ]
    },
    {
      "cell_type": "code",
      "execution_count": 151,
      "metadata": {
        "id": "Iz7s9gTEcQDQ"
      },
      "outputs": [],
      "source": [
        "from keras import backend as K\n",
        "if K.image_data_format() == 'channels_first':\n",
        "    X_train = X_train.reshape(X_train.shape[0], 1, *X_train.shape[1], X_train.shape[2])\n",
        "    X_test = X_test.reshape(X_test.shape[0], 1, X_train.shape[1], X_train.shape[2])\n",
        "    input_shape = (1, X_train.shape[1], X_train.shape[2])\n",
        "else: # channels_last\n",
        "    X_train = X_train.reshape(X_train.shape[0], X_train.shape[1], X_train.shape[2], 3)\n",
        "    X_test = X_test.reshape(X_test.shape[0], X_train.shape[1], X_train.shape[2], 3)\n",
        "    input_shape = (X_train.shape[1], X_train.shape[2], 3)"
      ]
    },
    {
      "cell_type": "markdown",
      "metadata": {
        "id": "C_wFFlj0gNpP"
      },
      "source": [
        "#### Przygotowanie sieci\n",
        "\n",
        "We wszystkich Conv2D zrobimy kernel 3x3 i aktywację 'relu'.\n",
        "We wszystkich MaxPooling2D robimy pool_size 2x2\n",
        "\n",
        "Zróbmy sobie taki model (może być Sequential): \n",
        "- Na wejściu Conv2D (musimy podać input_shape - mamy go w zmiennej input_shape)\n",
        "- MaxPooling2D\n",
        "- Conv2D, 32 filtry\n",
        "- MaxPooling2D\n",
        "- Flatten (spłaszczamy dane do 1-wymiarowego wektora)\n",
        "- [Dense (czyli tzw. fully connected)](https://keras.io/layers/core/), 128 units, activation [relu](https://cs-cheatsheet.readthedocs.io/en/latest/_images/activation_functions.png)\n",
        "- Na wyjściu Dense, units tyle, co klas, [aktywacja softmax](https://qph.fs.quoracdn.net/main-qimg-fda2f008df90ed5d7b6aff89b881e1ac)\n",
        "\n",
        "Na pewno przydadzą się te importy: \n",
        "```python\n",
        "from keras.models import Sequential\n",
        "from keras.layers import Dense, Flatten\n",
        "from keras.layers.convolutional import Conv2D, MaxPooling2D\n",
        "```"
      ]
    },
    {
      "cell_type": "code",
      "execution_count": 152,
      "metadata": {
        "colab": {
          "base_uri": "https://localhost:8080/"
        },
        "id": "JLL64i0Ditf3",
        "outputId": "71eb9d0d-cd51-4126-da63-33f83d537108"
      },
      "outputs": [
        {
          "data": {
            "text/plain": [
              "array([[0., 0., 0., 0., 0., 0., 0., 0., 0., 0., 0., 0., 0., 0., 0., 0.,\n",
              "        0., 0., 0., 0., 0., 0., 0., 0., 0., 0., 0., 0., 1., 0., 0., 0.,\n",
              "        0., 0., 0., 0., 0., 0., 0., 0., 0., 0., 0., 0., 0., 0., 0., 0.,\n",
              "        0., 0., 0., 0., 0., 0., 0., 0., 0., 0., 0., 0., 0., 0., 0., 0.,\n",
              "        0., 0., 0., 0., 0., 0., 0., 0., 0., 0., 0., 0., 0., 0., 0., 0.,\n",
              "        0., 0., 0., 0., 0., 0., 0., 0., 0., 0., 0., 0., 0., 0., 0., 0.,\n",
              "        0., 0., 0., 0.],\n",
              "       [0., 0., 0., 0., 0., 0., 0., 0., 0., 0., 0., 0., 0., 0., 0., 0.,\n",
              "        0., 0., 0., 0., 0., 0., 0., 0., 0., 0., 0., 0., 0., 0., 0., 0.,\n",
              "        0., 0., 0., 0., 0., 1., 0., 0., 0., 0., 0., 0., 0., 0., 0., 0.,\n",
              "        0., 0., 0., 0., 0., 0., 0., 0., 0., 0., 0., 0., 0., 0., 0., 0.,\n",
              "        0., 0., 0., 0., 0., 0., 0., 0., 0., 0., 0., 0., 0., 0., 0., 0.,\n",
              "        0., 0., 0., 0., 0., 0., 0., 0., 0., 0., 0., 0., 0., 0., 0., 0.,\n",
              "        0., 0., 0., 0.],\n",
              "       [0., 0., 0., 0., 0., 0., 0., 0., 0., 0., 0., 0., 0., 0., 0., 0.,\n",
              "        0., 0., 0., 0., 0., 0., 0., 0., 0., 0., 0., 0., 0., 0., 0., 0.,\n",
              "        0., 0., 0., 0., 0., 0., 0., 0., 0., 0., 0., 0., 0., 0., 0., 0.,\n",
              "        0., 0., 0., 0., 0., 0., 0., 0., 0., 0., 0., 0., 0., 0., 0., 0.,\n",
              "        0., 0., 0., 0., 0., 1., 0., 0., 0., 0., 0., 0., 0., 0., 0., 0.,\n",
              "        0., 0., 0., 0., 0., 0., 0., 0., 0., 0., 0., 0., 0., 0., 0., 0.,\n",
              "        0., 0., 0., 0.],\n",
              "       [0., 0., 0., 0., 0., 0., 0., 0., 0., 0., 0., 0., 0., 0., 1., 0.,\n",
              "        0., 0., 0., 0., 0., 0., 0., 0., 0., 0., 0., 0., 0., 0., 0., 0.,\n",
              "        0., 0., 0., 0., 0., 0., 0., 0., 0., 0., 0., 0., 0., 0., 0., 0.,\n",
              "        0., 0., 0., 0., 0., 0., 0., 0., 0., 0., 0., 0., 0., 0., 0., 0.,\n",
              "        0., 0., 0., 0., 0., 0., 0., 0., 0., 0., 0., 0., 0., 0., 0., 0.,\n",
              "        0., 0., 0., 0., 0., 0., 0., 0., 0., 0., 0., 0., 0., 0., 0., 0.,\n",
              "        0., 0., 0., 0.],\n",
              "       [0., 0., 0., 0., 1., 0., 0., 0., 0., 0., 0., 0., 0., 0., 0., 0.,\n",
              "        0., 0., 0., 0., 0., 0., 0., 0., 0., 0., 0., 0., 0., 0., 0., 0.,\n",
              "        0., 0., 0., 0., 0., 0., 0., 0., 0., 0., 0., 0., 0., 0., 0., 0.,\n",
              "        0., 0., 0., 0., 0., 0., 0., 0., 0., 0., 0., 0., 0., 0., 0., 0.,\n",
              "        0., 0., 0., 0., 0., 0., 0., 0., 0., 0., 0., 0., 0., 0., 0., 0.,\n",
              "        0., 0., 0., 0., 0., 0., 0., 0., 0., 0., 0., 0., 0., 0., 0., 0.,\n",
              "        0., 0., 0., 0.],\n",
              "       [0., 0., 0., 0., 0., 0., 0., 0., 0., 0., 0., 0., 0., 0., 0., 0.,\n",
              "        0., 0., 0., 0., 0., 0., 0., 0., 0., 0., 0., 0., 0., 0., 0., 0.,\n",
              "        0., 0., 0., 0., 0., 0., 0., 0., 0., 0., 0., 0., 0., 0., 0., 0.,\n",
              "        0., 0., 0., 0., 0., 0., 0., 0., 0., 0., 0., 0., 0., 0., 0., 0.,\n",
              "        0., 0., 0., 0., 0., 1., 0., 0., 0., 0., 0., 0., 0., 0., 0., 0.,\n",
              "        0., 0., 0., 0., 0., 0., 0., 0., 0., 0., 0., 0., 0., 0., 0., 0.,\n",
              "        0., 0., 0., 0.],\n",
              "       [0., 0., 0., 1., 0., 0., 0., 0., 0., 0., 0., 0., 0., 0., 0., 0.,\n",
              "        0., 0., 0., 0., 0., 0., 0., 0., 0., 0., 0., 0., 0., 0., 0., 0.,\n",
              "        0., 0., 0., 0., 0., 0., 0., 0., 0., 0., 0., 0., 0., 0., 0., 0.,\n",
              "        0., 0., 0., 0., 0., 0., 0., 0., 0., 0., 0., 0., 0., 0., 0., 0.,\n",
              "        0., 0., 0., 0., 0., 0., 0., 0., 0., 0., 0., 0., 0., 0., 0., 0.,\n",
              "        0., 0., 0., 0., 0., 0., 0., 0., 0., 0., 0., 0., 0., 0., 0., 0.,\n",
              "        0., 0., 0., 0.],\n",
              "       [0., 0., 0., 0., 0., 0., 0., 0., 0., 0., 0., 0., 0., 0., 0., 0.,\n",
              "        0., 0., 0., 0., 0., 0., 0., 0., 0., 0., 0., 0., 0., 0., 0., 0.,\n",
              "        0., 0., 0., 1., 0., 0., 0., 0., 0., 0., 0., 0., 0., 0., 0., 0.,\n",
              "        0., 0., 0., 0., 0., 0., 0., 0., 0., 0., 0., 0., 0., 0., 0., 0.,\n",
              "        0., 0., 0., 0., 0., 0., 0., 0., 0., 0., 0., 0., 0., 0., 0., 0.,\n",
              "        0., 0., 0., 0., 0., 0., 0., 0., 0., 0., 0., 0., 0., 0., 0., 0.,\n",
              "        0., 0., 0., 0.],\n",
              "       [0., 0., 0., 0., 0., 0., 0., 0., 0., 0., 0., 0., 0., 0., 0., 0.,\n",
              "        0., 0., 0., 0., 0., 0., 0., 0., 0., 0., 0., 0., 0., 0., 0., 0.,\n",
              "        0., 0., 0., 0., 0., 0., 0., 0., 0., 0., 0., 0., 0., 0., 0., 0.,\n",
              "        0., 0., 0., 0., 0., 0., 0., 0., 0., 0., 0., 0., 0., 0., 0., 0.,\n",
              "        1., 0., 0., 0., 0., 0., 0., 0., 0., 0., 0., 0., 0., 0., 0., 0.,\n",
              "        0., 0., 0., 0., 0., 0., 0., 0., 0., 0., 0., 0., 0., 0., 0., 0.,\n",
              "        0., 0., 0., 0.],\n",
              "       [0., 0., 0., 0., 0., 0., 0., 0., 0., 0., 0., 0., 0., 0., 0., 0.,\n",
              "        0., 0., 0., 0., 0., 0., 0., 0., 0., 0., 0., 0., 0., 0., 0., 0.,\n",
              "        0., 0., 0., 0., 0., 0., 0., 0., 0., 0., 0., 0., 0., 0., 0., 0.,\n",
              "        0., 0., 0., 0., 0., 0., 0., 0., 0., 0., 0., 0., 0., 0., 0., 0.,\n",
              "        1., 0., 0., 0., 0., 0., 0., 0., 0., 0., 0., 0., 0., 0., 0., 0.,\n",
              "        0., 0., 0., 0., 0., 0., 0., 0., 0., 0., 0., 0., 0., 0., 0., 0.,\n",
              "        0., 0., 0., 0.]], dtype=float32)"
            ]
          },
          "execution_count": 152,
          "metadata": {},
          "output_type": "execute_result"
        }
      ],
      "source": [
        "Y_train[0:10]"
      ]
    },
    {
      "cell_type": "code",
      "execution_count": 153,
      "metadata": {
        "id": "L9_nnUIchprg"
      },
      "outputs": [],
      "source": [
        "from keras.models import Sequential\n",
        "from keras.layers import Dense, Flatten\n",
        "from keras.layers.convolutional import Conv2D, MaxPooling2D\n",
        "\n",
        "model_basic = Sequential([\n",
        "  Conv2D(32, kernel_size=(3, 3), activation='relu', input_shape=input_shape),\n",
        "  MaxPooling2D(pool_size=(2,2)), \n",
        "  Conv2D(32, kernel_size=(3,3), activation='relu'),\n",
        "  MaxPooling2D(pool_size=(2,2)), \n",
        "  Flatten(), # tutaj 2-wymiarowe, wielo kanalowe 'obrazki' staja sie wektorem\n",
        "  Dense(128, activation='relu'),\n",
        "  Dense(100, activation='softmax')\n",
        "])"
      ]
    },
    {
      "cell_type": "markdown",
      "metadata": {
        "id": "m4w8gGsElbVG"
      },
      "source": [
        "Mamy obiekt 'model', teraz musimy uruchomić metodę 'compile', która przygotuje nas do treningu. Spróbujmy loss 'categorical_crossentropy', optimizer 'adam'. Argument metric przyjmuje tablicę stringów, będziemy chcieli 'accuracy'. "
      ]
    },
    {
      "cell_type": "code",
      "execution_count": 154,
      "metadata": {
        "id": "3ki1a29Zl65r"
      },
      "outputs": [],
      "source": [
        "model_basic.compile(loss='categorical_crossentropy', optimizer='adam', metrics=['accuracy'])"
      ]
    },
    {
      "cell_type": "markdown",
      "metadata": {
        "id": "7DEM-xKbmFNO"
      },
      "source": [
        "#### Trening\n",
        "Podobnie jak w scikit-learn uruchamiamy metodę fit, podając jej nasze dane treningowe i etykiety w postaci one-hot.  \n",
        "\n",
        "20 epok, batch_size np. 128 lub 256  "
      ]
    },
    {
      "cell_type": "code",
      "execution_count": 155,
      "metadata": {},
      "outputs": [
        {
          "data": {
            "text/plain": [
              "(10000, 100)"
            ]
          },
          "execution_count": 155,
          "metadata": {},
          "output_type": "execute_result"
        }
      ],
      "source": [
        "y_validation.shape"
      ]
    },
    {
      "cell_type": "code",
      "execution_count": 156,
      "metadata": {},
      "outputs": [
        {
          "data": {
            "text/plain": [
              "(40000, 100)"
            ]
          },
          "execution_count": 156,
          "metadata": {},
          "output_type": "execute_result"
        }
      ],
      "source": [
        "Y_train.shape"
      ]
    },
    {
      "cell_type": "code",
      "execution_count": 157,
      "metadata": {},
      "outputs": [
        {
          "data": {
            "text/plain": [
              "(40000, 32, 32, 3)"
            ]
          },
          "execution_count": 157,
          "metadata": {},
          "output_type": "execute_result"
        }
      ],
      "source": [
        "X_train.shape\n"
      ]
    },
    {
      "cell_type": "code",
      "execution_count": 158,
      "metadata": {},
      "outputs": [
        {
          "data": {
            "text/plain": [
              "(10000, 32, 32, 3)"
            ]
          },
          "execution_count": 158,
          "metadata": {},
          "output_type": "execute_result"
        }
      ],
      "source": [
        "X_validation.shape\n"
      ]
    },
    {
      "cell_type": "code",
      "execution_count": 159,
      "metadata": {
        "colab": {
          "base_uri": "https://localhost:8080/"
        },
        "id": "m1DvkEW2JOA5",
        "outputId": "1ab78f0c-69ac-4d52-c297-cda26d92f7ac"
      },
      "outputs": [
        {
          "name": "stdout",
          "output_type": "stream",
          "text": [
            "Epoch 1/40\n",
            "157/157 [==============================] - 12s 72ms/step - loss: 4.1794 - accuracy: 0.0717 - val_loss: 382.9813 - val_accuracy: 0.1212\n",
            "Epoch 2/40\n",
            "157/157 [==============================] - 11s 73ms/step - loss: 3.5637 - accuracy: 0.1702 - val_loss: 562.5929 - val_accuracy: 0.1115\n",
            "Epoch 3/40\n",
            "157/157 [==============================] - 11s 72ms/step - loss: 3.3028 - accuracy: 0.2160 - val_loss: 540.7767 - val_accuracy: 0.1415\n",
            "Epoch 4/40\n",
            "157/157 [==============================] - 11s 73ms/step - loss: 3.1249 - accuracy: 0.2488 - val_loss: 638.0408 - val_accuracy: 0.1356\n",
            "Epoch 5/40\n",
            "157/157 [==============================] - 11s 72ms/step - loss: 2.9916 - accuracy: 0.2752 - val_loss: 627.7822 - val_accuracy: 0.1422\n",
            "Epoch 6/40\n",
            "157/157 [==============================] - 11s 73ms/step - loss: 2.8599 - accuracy: 0.2989 - val_loss: 685.3001 - val_accuracy: 0.1359\n",
            "Epoch 7/40\n",
            "157/157 [==============================] - 11s 73ms/step - loss: 2.7803 - accuracy: 0.3167 - val_loss: 570.2074 - val_accuracy: 0.1650\n",
            "Epoch 8/40\n",
            "157/157 [==============================] - 11s 72ms/step - loss: 2.6902 - accuracy: 0.3354 - val_loss: 679.3391 - val_accuracy: 0.1526\n",
            "Epoch 9/40\n",
            "157/157 [==============================] - 11s 72ms/step - loss: 2.6061 - accuracy: 0.3493 - val_loss: 643.6932 - val_accuracy: 0.1606\n",
            "Epoch 10/40\n",
            "157/157 [==============================] - 11s 73ms/step - loss: 2.5505 - accuracy: 0.3650 - val_loss: 549.8435 - val_accuracy: 0.1857\n",
            "Epoch 11/40\n",
            "157/157 [==============================] - 11s 73ms/step - loss: 2.4902 - accuracy: 0.3756 - val_loss: 596.6045 - val_accuracy: 0.1852\n",
            "Epoch 12/40\n",
            "157/157 [==============================] - 11s 73ms/step - loss: 2.4389 - accuracy: 0.3870 - val_loss: 619.6420 - val_accuracy: 0.1845\n",
            "Epoch 13/40\n",
            "157/157 [==============================] - 11s 73ms/step - loss: 2.3911 - accuracy: 0.3976 - val_loss: 612.0170 - val_accuracy: 0.1882\n",
            "Epoch 14/40\n",
            "157/157 [==============================] - 11s 72ms/step - loss: 2.3596 - accuracy: 0.4037 - val_loss: 542.7206 - val_accuracy: 0.2136\n",
            "Epoch 15/40\n",
            "157/157 [==============================] - 11s 73ms/step - loss: 2.3152 - accuracy: 0.4135 - val_loss: 542.6572 - val_accuracy: 0.2152\n",
            "Epoch 16/40\n",
            "157/157 [==============================] - 12s 74ms/step - loss: 2.2774 - accuracy: 0.4200 - val_loss: 609.0524 - val_accuracy: 0.1950\n",
            "Epoch 17/40\n",
            "157/157 [==============================] - 12s 75ms/step - loss: 2.2391 - accuracy: 0.4279 - val_loss: 644.1714 - val_accuracy: 0.1792\n",
            "Epoch 18/40\n",
            "157/157 [==============================] - 12s 78ms/step - loss: 2.2097 - accuracy: 0.4351 - val_loss: 580.4592 - val_accuracy: 0.1960\n",
            "Epoch 19/40\n",
            "157/157 [==============================] - 12s 74ms/step - loss: 2.1724 - accuracy: 0.4446 - val_loss: 662.5632 - val_accuracy: 0.1848\n",
            "Epoch 20/40\n",
            "157/157 [==============================] - 12s 73ms/step - loss: 2.1431 - accuracy: 0.4488 - val_loss: 538.7681 - val_accuracy: 0.2166\n",
            "Epoch 21/40\n",
            "157/157 [==============================] - 11s 73ms/step - loss: 2.1041 - accuracy: 0.4566 - val_loss: 641.6396 - val_accuracy: 0.1888\n",
            "Epoch 22/40\n",
            "157/157 [==============================] - 11s 70ms/step - loss: 2.0748 - accuracy: 0.4660 - val_loss: 585.5312 - val_accuracy: 0.2073\n",
            "Epoch 23/40\n",
            "157/157 [==============================] - 11s 71ms/step - loss: 2.0440 - accuracy: 0.4698 - val_loss: 639.4178 - val_accuracy: 0.1891\n",
            "Epoch 24/40\n",
            "157/157 [==============================] - 11s 72ms/step - loss: 2.0151 - accuracy: 0.4794 - val_loss: 686.0740 - val_accuracy: 0.1692\n",
            "Epoch 25/40\n",
            "157/157 [==============================] - 11s 70ms/step - loss: 1.9975 - accuracy: 0.4808 - val_loss: 618.4971 - val_accuracy: 0.2005\n",
            "Epoch 26/40\n",
            "157/157 [==============================] - 11s 71ms/step - loss: 1.9576 - accuracy: 0.4889 - val_loss: 627.3735 - val_accuracy: 0.1996\n",
            "Epoch 27/40\n",
            "157/157 [==============================] - 12s 74ms/step - loss: 1.9413 - accuracy: 0.4924 - val_loss: 683.9189 - val_accuracy: 0.1781\n",
            "Epoch 28/40\n",
            "157/157 [==============================] - 11s 70ms/step - loss: 1.9093 - accuracy: 0.5004 - val_loss: 634.4105 - val_accuracy: 0.1996\n",
            "Epoch 29/40\n",
            "157/157 [==============================] - 11s 70ms/step - loss: 1.8948 - accuracy: 0.5018 - val_loss: 644.6549 - val_accuracy: 0.1960\n",
            "Epoch 30/40\n",
            "157/157 [==============================] - 11s 71ms/step - loss: 1.8585 - accuracy: 0.5098 - val_loss: 721.6734 - val_accuracy: 0.1775\n",
            "Epoch 31/40\n",
            "157/157 [==============================] - 11s 71ms/step - loss: 1.8331 - accuracy: 0.5193 - val_loss: 653.8500 - val_accuracy: 0.2062\n",
            "Epoch 32/40\n",
            "157/157 [==============================] - 11s 70ms/step - loss: 1.8097 - accuracy: 0.5205 - val_loss: 687.5930 - val_accuracy: 0.1939\n",
            "Epoch 33/40\n",
            "157/157 [==============================] - 11s 71ms/step - loss: 1.7996 - accuracy: 0.5226 - val_loss: 651.1081 - val_accuracy: 0.2084\n",
            "Epoch 34/40\n",
            "157/157 [==============================] - 11s 70ms/step - loss: 1.7705 - accuracy: 0.5308 - val_loss: 637.9100 - val_accuracy: 0.2032\n",
            "Epoch 35/40\n",
            "157/157 [==============================] - 11s 71ms/step - loss: 1.7466 - accuracy: 0.5364 - val_loss: 694.4828 - val_accuracy: 0.1901\n",
            "Epoch 36/40\n",
            "157/157 [==============================] - 11s 70ms/step - loss: 1.7229 - accuracy: 0.5433 - val_loss: 673.1647 - val_accuracy: 0.2073\n",
            "Epoch 37/40\n",
            "157/157 [==============================] - 11s 70ms/step - loss: 1.7063 - accuracy: 0.5455 - val_loss: 704.5803 - val_accuracy: 0.1909\n",
            "Epoch 38/40\n",
            "157/157 [==============================] - 11s 71ms/step - loss: 1.6861 - accuracy: 0.5511 - val_loss: 691.0410 - val_accuracy: 0.2041\n",
            "Epoch 39/40\n",
            "157/157 [==============================] - 11s 70ms/step - loss: 1.6702 - accuracy: 0.5530 - val_loss: 739.1171 - val_accuracy: 0.1930\n",
            "Epoch 40/40\n",
            "157/157 [==============================] - 11s 70ms/step - loss: 1.6499 - accuracy: 0.5574 - val_loss: 701.0076 - val_accuracy: 0.2053\n"
          ]
        },
        {
          "data": {
            "text/plain": [
              "<keras.callbacks.History at 0x19c1db6bbe0>"
            ]
          },
          "execution_count": 159,
          "metadata": {},
          "output_type": "execute_result"
        }
      ],
      "source": [
        "model_basic.fit(X_train, Y_train, epochs=100, batch_size=256, validation_data=(X_validation,y_validation))"
      ]
    },
    {
      "cell_type": "markdown",
      "metadata": {
        "id": "fgxalzmim4Hl"
      },
      "source": [
        "#### Ewaluacja\n",
        "Zobaczmy, jak nasz model sobie radzi: model.evaluate()"
      ]
    },
    {
      "cell_type": "code",
      "execution_count": 160,
      "metadata": {
        "colab": {
          "base_uri": "https://localhost:8080/"
        },
        "id": "HDCHLqc4m4qX",
        "outputId": "16f77572-f19f-4e9f-8ebc-7c445823ec41"
      },
      "outputs": [
        {
          "name": "stdout",
          "output_type": "stream",
          "text": [
            "313/313 [==============================] - 1s 4ms/step - loss: 2.9390 - accuracy: 0.3431\n"
          ]
        }
      ],
      "source": [
        "scores = model_basic.evaluate(X_test, Y_test)"
      ]
    },
    {
      "cell_type": "code",
      "execution_count": 161,
      "metadata": {
        "colab": {
          "base_uri": "https://localhost:8080/"
        },
        "id": "zZ55SBiWkr3y",
        "outputId": "b0dba25f-7e6d-4e0f-a016-6c3f211a639b"
      },
      "outputs": [
        {
          "name": "stdout",
          "output_type": "stream",
          "text": [
            "0.34310001134872437\n"
          ]
        }
      ],
      "source": [
        "print(scores[1])"
      ]
    },
    {
      "cell_type": "markdown",
      "metadata": {
        "id": "dUYwh9zjrp6-"
      },
      "source": [
        "Przyjrzyjmy się konkretnym przypadkom: model.predict_classes, zapiszmy sobie do wektora y_pred"
      ]
    },
    {
      "cell_type": "code",
      "execution_count": 162,
      "metadata": {
        "colab": {
          "base_uri": "https://localhost:8080/"
        },
        "id": "dvck7YSXpUbk",
        "outputId": "22f10176-442a-4d37-b975-e1e583bff03a"
      },
      "outputs": [
        {
          "name": "stdout",
          "output_type": "stream",
          "text": [
            "[30 31  3 51 71 38 38  4 71 83 87 91 81 69 40 43 92 97 70 53]\n",
            "[[49]\n",
            " [33]\n",
            " [72]\n",
            " [51]\n",
            " [71]\n",
            " [92]\n",
            " [15]\n",
            " [14]\n",
            " [23]\n",
            " [ 0]\n",
            " [71]\n",
            " [75]\n",
            " [81]\n",
            " [69]\n",
            " [40]\n",
            " [43]\n",
            " [92]\n",
            " [97]\n",
            " [70]\n",
            " [53]]\n"
          ]
        }
      ],
      "source": [
        "y_pred = model_basic.predict(X_test)\n",
        "y_pred = np.argmax(y_pred, axis=1)\n",
        "print(y_pred[:20])\n",
        "print(y_test[:20])"
      ]
    },
    {
      "cell_type": "markdown",
      "metadata": {
        "id": "3psthgTBsqq5"
      },
      "source": [
        "Zobaczmy, na których instancjach testowych sobie nie radzi. Możemy na przykład porównać y_pred z y_test (operator !=). W wyciągnięciu indeksów pomyłkowych instancji pomoże nam funkcja numpy nonzero. Zapiszmy sobie te indeksy do zmiennej false_pred i wypiszmy jej zawartość. "
      ]
    },
    {
      "cell_type": "code",
      "execution_count": 163,
      "metadata": {
        "colab": {
          "base_uri": "https://localhost:8080/"
        },
        "id": "PRCzkluipzN9",
        "outputId": "5a657b5a-981e-4915-8ad8-f2c565fc69ac"
      },
      "outputs": [
        {
          "name": "stdout",
          "output_type": "stream",
          "text": [
            "[0 0 0 0 0 0 0 0 0 0]\n"
          ]
        }
      ],
      "source": [
        "false_pred = np.nonzero(y_pred != y_test)[0]\n",
        "print(false_pred[0:10])"
      ]
    },
    {
      "cell_type": "markdown",
      "metadata": {
        "id": "gXOAhzBuuwA_"
      },
      "source": [
        "Teraz narysujmy sobie te cyfry, np 9 pierwszych. Możemy użyć kodu z wcześniejszego ćwiczenia, tylko: \n",
        "- ponieważ przerabialiśmy dane treningowe, wczytajmy je jeszcze raz\n",
        "- rysujemy elementy zbioru testowego o indeksach z wektora false_pred"
      ]
    },
    {
      "cell_type": "code",
      "execution_count": 164,
      "metadata": {
        "colab": {
          "base_uri": "https://localhost:8080/",
          "height": 297
        },
        "id": "S4e3_jY9satJ",
        "outputId": "7d54aeeb-8244-4b46-c5b2-c9e7275805d1"
      },
      "outputs": [
        {
          "data": {
            "image/png": "[encoded data removed]",
            "text/plain": [
              "<Figure size 432x288 with 9 Axes>"
            ]
          },
          "metadata": {
            "needs_background": "light"
          },
          "output_type": "display_data"
        }
      ],
      "source": [
        "import matplotlib.pyplot as plt\n",
        "\n",
        "for i in range(9):\n",
        "  instance_index = false_pred[i] # indeks instancji do narysowania\n",
        "  plt.subplot(3, 3, i + 1)\n",
        "  plt.tight_layout()\n",
        "  plt.imshow(X_test[instance_index].reshape(X_train.shape[1], X_train.shape[2],X_train.shape[3] ), cmap='gray')\n",
        "  plt.title(\"l:{} p:{}\".format(y_test[instance_index], y_pred[instance_index]))\n",
        "\n"
      ]
    },
    {
      "cell_type": "markdown",
      "metadata": {
        "id": "v__1lKTRrJ9J"
      },
      "source": [
        "## Instructions\n",
        "Powtórz eksperyment z pierwszego notatnika (w którym klasyfikowaliśmy MNIST używając SVM i CNN) na zbiorze danych CIFAR-10: https://keras.io/datasets/\n",
        "\n",
        "Najpierw przeprowadź klasyfikację za pomocą sieci, które stworzyliśmy na zajęciach - trzeba je dostosować, bo zdjęcia w CIFAR są w RGB, czyli mają 3 kanały.\n",
        "\n",
        "Następnie wydziel zbiór walidacyjny i dodaj early stopping (https://keras.io/api/callbacks/early_stopping/)\n",
        "\n",
        "Kolejnym krokiem jest próba poprawienia wyniku. Spróbuj wprowadzić modyfikacje (np. dodawanie, usuwanie lub modyfikacja warstw Conv2D, Dense, Pooling, dodanie Dropoutu, modyfikacja hiperparametrów, itd.) do sieci, które mogłyby poprawić jej skuteczność. Stwórz co najmniej 3 takie sieci i opisz wprowadzone w nich zmiany.\n",
        "\n",
        "Dla chętnych: jakby ktoś chciałby się bardziej pobawić sieciami, można spróbować dodać jeszcze data augmentation i zrobić porównanie treningu z augmentation i bez.\n",
        "\n",
        "Wrzuć plik .ipynb ze swoimi eksperymentami i opisami stworzonych sieci.\n",
        "\n",
        "W razie pytań lub wąpliwości, proszę pisać: lukasz.wilczynski@pjwstk.edu.pl\n",
        "My work"
      ]
    },
    {
      "cell_type": "markdown",
      "metadata": {},
      "source": [
        "## Dodawanie Early stopping\n",
        "Dodajemy early stopping dla tej samej sieci co poprzednio"
      ]
    },
    {
      "cell_type": "code",
      "execution_count": 165,
      "metadata": {
        "id": "fEfVO_KEnFrf"
      },
      "outputs": [],
      "source": [
        "from keras.callbacks import EarlyStopping\n",
        "model_basic_es = Sequential([\n",
        "  Conv2D(32, kernel_size=(3, 3), activation='relu', input_shape=input_shape),\n",
        "  MaxPooling2D(pool_size=(2,2)), \n",
        "  Conv2D(32, kernel_size=(3,3), activation='relu'),\n",
        "  MaxPooling2D(pool_size=(2,2)), \n",
        "  Flatten(), # tutaj 2-wymiarowe, wielo kanalowe 'obrazki' staja sie wektorem\n",
        "  Dense(128, activation='relu'),\n",
        "  Dense(100, activation='softmax')\n",
        "])\n",
        "model_basic_es.compile(loss='categorical_crossentropy', optimizer='adam', metrics=['accuracy'])\n",
        "es = EarlyStopping(\n",
        "    monitor=\"accuracy\",\n",
        "    # min_delta=0,\n",
        "    patience=5,\n",
        "    # verbose=0,\n",
        "    # mode=\"auto\",\n",
        "    # baseline=None,\n",
        "    # restore_best_weights=False,\n",
        ")"
      ]
    },
    {
      "cell_type": "code",
      "execution_count": 166,
      "metadata": {},
      "outputs": [
        {
          "name": "stdout",
          "output_type": "stream",
          "text": [
            "Epoch 1/100\n",
            "157/157 [==============================] - 11s 70ms/step - loss: 4.1504 - accuracy: 0.0749 - val_loss: 436.0551 - val_accuracy: 0.0942\n",
            "Epoch 2/100\n",
            "157/157 [==============================] - 11s 69ms/step - loss: 3.5471 - accuracy: 0.1734 - val_loss: 538.4494 - val_accuracy: 0.1161\n",
            "Epoch 3/100\n",
            "157/157 [==============================] - 11s 69ms/step - loss: 3.2523 - accuracy: 0.2241 - val_loss: 640.8627 - val_accuracy: 0.1183\n",
            "Epoch 4/100\n",
            "157/157 [==============================] - 11s 70ms/step - loss: 3.0505 - accuracy: 0.2602 - val_loss: 682.8391 - val_accuracy: 0.1245\n",
            "Epoch 5/100\n",
            "157/157 [==============================] - 11s 69ms/step - loss: 2.9034 - accuracy: 0.2900 - val_loss: 638.2606 - val_accuracy: 0.1417\n",
            "Epoch 6/100\n",
            "157/157 [==============================] - 11s 69ms/step - loss: 2.7879 - accuracy: 0.3141 - val_loss: 745.8521 - val_accuracy: 0.1235\n",
            "Epoch 7/100\n",
            "157/157 [==============================] - 11s 69ms/step - loss: 2.6935 - accuracy: 0.3309 - val_loss: 666.9407 - val_accuracy: 0.1521\n",
            "Epoch 8/100\n",
            "157/157 [==============================] - 11s 70ms/step - loss: 2.6203 - accuracy: 0.3505 - val_loss: 599.7407 - val_accuracy: 0.1759\n",
            "Epoch 9/100\n",
            "157/157 [==============================] - 11s 72ms/step - loss: 2.5471 - accuracy: 0.3643 - val_loss: 520.4415 - val_accuracy: 0.2030\n",
            "Epoch 10/100\n",
            "157/157 [==============================] - 11s 72ms/step - loss: 2.4762 - accuracy: 0.3780 - val_loss: 619.1348 - val_accuracy: 0.1730\n",
            "Epoch 11/100\n",
            "157/157 [==============================] - 11s 72ms/step - loss: 2.4238 - accuracy: 0.3868 - val_loss: 662.1627 - val_accuracy: 0.1601\n",
            "Epoch 12/100\n",
            "157/157 [==============================] - 12s 74ms/step - loss: 2.3574 - accuracy: 0.4031 - val_loss: 609.1807 - val_accuracy: 0.1836\n",
            "Epoch 13/100\n",
            "157/157 [==============================] - 11s 72ms/step - loss: 2.3148 - accuracy: 0.4133 - val_loss: 649.8176 - val_accuracy: 0.1759\n",
            "Epoch 14/100\n",
            "157/157 [==============================] - 11s 72ms/step - loss: 2.2607 - accuracy: 0.4215 - val_loss: 636.0682 - val_accuracy: 0.1828\n",
            "Epoch 15/100\n",
            "157/157 [==============================] - 11s 72ms/step - loss: 2.2096 - accuracy: 0.4335 - val_loss: 722.5038 - val_accuracy: 0.1672\n",
            "Epoch 16/100\n",
            "157/157 [==============================] - 11s 72ms/step - loss: 2.1672 - accuracy: 0.4430 - val_loss: 616.3889 - val_accuracy: 0.1955\n",
            "Epoch 17/100\n",
            "157/157 [==============================] - 12s 74ms/step - loss: 2.1281 - accuracy: 0.4505 - val_loss: 624.4034 - val_accuracy: 0.1963\n",
            "Epoch 18/100\n",
            "157/157 [==============================] - 12s 77ms/step - loss: 2.0822 - accuracy: 0.4619 - val_loss: 653.7091 - val_accuracy: 0.1782\n",
            "Epoch 19/100\n",
            "157/157 [==============================] - 12s 75ms/step - loss: 2.0371 - accuracy: 0.4701 - val_loss: 610.1455 - val_accuracy: 0.2006\n",
            "Epoch 20/100\n",
            "157/157 [==============================] - 11s 72ms/step - loss: 1.9999 - accuracy: 0.4812 - val_loss: 658.4824 - val_accuracy: 0.1867\n",
            "Epoch 21/100\n",
            "157/157 [==============================] - 12s 77ms/step - loss: 1.9693 - accuracy: 0.4853 - val_loss: 671.3779 - val_accuracy: 0.1941\n",
            "Epoch 22/100\n",
            "157/157 [==============================] - 13s 80ms/step - loss: 1.9273 - accuracy: 0.4953 - val_loss: 691.4544 - val_accuracy: 0.1902\n",
            "Epoch 23/100\n",
            "157/157 [==============================] - 13s 81ms/step - loss: 1.9037 - accuracy: 0.5002 - val_loss: 675.1536 - val_accuracy: 0.1873\n",
            "Epoch 24/100\n",
            "157/157 [==============================] - 17s 106ms/step - loss: 1.8656 - accuracy: 0.5093 - val_loss: 686.4006 - val_accuracy: 0.1903\n",
            "Epoch 25/100\n",
            "157/157 [==============================] - 17s 108ms/step - loss: 1.8362 - accuracy: 0.5142 - val_loss: 682.9592 - val_accuracy: 0.2037\n",
            "Epoch 26/100\n",
            "157/157 [==============================] - 16s 104ms/step - loss: 1.8029 - accuracy: 0.5238 - val_loss: 645.9338 - val_accuracy: 0.2093\n",
            "Epoch 27/100\n",
            "157/157 [==============================] - 16s 100ms/step - loss: 1.7736 - accuracy: 0.5305 - val_loss: 717.6409 - val_accuracy: 0.1841\n",
            "Epoch 28/100\n",
            "157/157 [==============================] - 15s 96ms/step - loss: 1.7543 - accuracy: 0.5320 - val_loss: 719.2750 - val_accuracy: 0.1903\n",
            "Epoch 29/100\n",
            "157/157 [==============================] - 17s 107ms/step - loss: 1.7182 - accuracy: 0.5428 - val_loss: 721.2217 - val_accuracy: 0.1852\n",
            "Epoch 30/100\n",
            "157/157 [==============================] - 16s 99ms/step - loss: 1.6932 - accuracy: 0.5468 - val_loss: 668.1248 - val_accuracy: 0.2123\n",
            "Epoch 31/100\n",
            "157/157 [==============================] - 16s 100ms/step - loss: 1.6670 - accuracy: 0.5538 - val_loss: 736.4619 - val_accuracy: 0.2018\n",
            "Epoch 32/100\n",
            "157/157 [==============================] - 13s 85ms/step - loss: 1.6359 - accuracy: 0.5595 - val_loss: 729.3416 - val_accuracy: 0.2048\n",
            "Epoch 33/100\n",
            "157/157 [==============================] - 12s 74ms/step - loss: 1.6086 - accuracy: 0.5677 - val_loss: 682.7610 - val_accuracy: 0.2173\n",
            "Epoch 34/100\n",
            "157/157 [==============================] - 12s 74ms/step - loss: 1.5793 - accuracy: 0.5738 - val_loss: 799.4439 - val_accuracy: 0.1832\n",
            "Epoch 35/100\n",
            "157/157 [==============================] - 12s 73ms/step - loss: 1.5635 - accuracy: 0.5776 - val_loss: 744.5336 - val_accuracy: 0.2086\n",
            "Epoch 36/100\n",
            "157/157 [==============================] - 12s 73ms/step - loss: 1.5408 - accuracy: 0.5835 - val_loss: 770.5405 - val_accuracy: 0.2026\n",
            "Epoch 37/100\n",
            "157/157 [==============================] - 12s 73ms/step - loss: 1.5125 - accuracy: 0.5925 - val_loss: 782.2733 - val_accuracy: 0.1961\n",
            "Epoch 38/100\n",
            "157/157 [==============================] - 12s 73ms/step - loss: 1.4862 - accuracy: 0.5967 - val_loss: 806.4004 - val_accuracy: 0.1925\n",
            "Epoch 39/100\n",
            "157/157 [==============================] - 12s 74ms/step - loss: 1.4780 - accuracy: 0.5970 - val_loss: 783.1389 - val_accuracy: 0.2049\n",
            "Epoch 40/100\n",
            "157/157 [==============================] - 11s 72ms/step - loss: 1.4456 - accuracy: 0.6054 - val_loss: 846.5803 - val_accuracy: 0.1859\n",
            "Epoch 41/100\n",
            "157/157 [==============================] - 11s 71ms/step - loss: 1.4315 - accuracy: 0.6087 - val_loss: 791.2267 - val_accuracy: 0.2049\n",
            "Epoch 42/100\n",
            "157/157 [==============================] - 12s 75ms/step - loss: 1.3953 - accuracy: 0.6222 - val_loss: 840.2198 - val_accuracy: 0.1946\n",
            "Epoch 43/100\n",
            "157/157 [==============================] - 11s 72ms/step - loss: 1.3755 - accuracy: 0.6230 - val_loss: 801.6239 - val_accuracy: 0.2066\n",
            "Epoch 44/100\n",
            "157/157 [==============================] - 12s 74ms/step - loss: 1.3530 - accuracy: 0.6282 - val_loss: 844.8587 - val_accuracy: 0.2086\n",
            "Epoch 45/100\n",
            "157/157 [==============================] - 11s 72ms/step - loss: 1.3447 - accuracy: 0.6304 - val_loss: 936.9194 - val_accuracy: 0.1815\n",
            "Epoch 46/100\n",
            "157/157 [==============================] - 11s 72ms/step - loss: 1.3180 - accuracy: 0.6403 - val_loss: 947.1417 - val_accuracy: 0.1803\n",
            "Epoch 47/100\n",
            "157/157 [==============================] - 11s 72ms/step - loss: 1.3043 - accuracy: 0.6392 - val_loss: 866.4832 - val_accuracy: 0.2035\n",
            "Epoch 48/100\n",
            "157/157 [==============================] - 12s 73ms/step - loss: 1.2799 - accuracy: 0.6472 - val_loss: 878.0642 - val_accuracy: 0.2114\n",
            "Epoch 49/100\n",
            "157/157 [==============================] - 11s 72ms/step - loss: 1.2711 - accuracy: 0.6462 - val_loss: 872.7611 - val_accuracy: 0.2119\n",
            "Epoch 50/100\n",
            "157/157 [==============================] - 11s 72ms/step - loss: 1.2438 - accuracy: 0.6541 - val_loss: 920.2977 - val_accuracy: 0.1999\n",
            "Epoch 51/100\n",
            "157/157 [==============================] - 11s 71ms/step - loss: 1.2283 - accuracy: 0.6585 - val_loss: 977.3407 - val_accuracy: 0.1883\n",
            "Epoch 52/100\n",
            "157/157 [==============================] - 11s 71ms/step - loss: 1.2069 - accuracy: 0.6640 - val_loss: 960.9707 - val_accuracy: 0.1925\n",
            "Epoch 53/100\n",
            "157/157 [==============================] - 11s 72ms/step - loss: 1.1893 - accuracy: 0.6684 - val_loss: 963.4780 - val_accuracy: 0.2058\n",
            "Epoch 54/100\n",
            "157/157 [==============================] - 11s 71ms/step - loss: 1.1734 - accuracy: 0.6736 - val_loss: 974.9285 - val_accuracy: 0.1993\n",
            "Epoch 55/100\n",
            "157/157 [==============================] - 11s 69ms/step - loss: 1.1582 - accuracy: 0.6758 - val_loss: 942.5079 - val_accuracy: 0.2107\n",
            "Epoch 56/100\n",
            "157/157 [==============================] - 11s 70ms/step - loss: 1.1393 - accuracy: 0.6812 - val_loss: 1018.7154 - val_accuracy: 0.1952\n",
            "Epoch 57/100\n",
            "157/157 [==============================] - 11s 70ms/step - loss: 1.1285 - accuracy: 0.6816 - val_loss: 1096.4259 - val_accuracy: 0.1818\n",
            "Epoch 58/100\n",
            "157/157 [==============================] - 11s 70ms/step - loss: 1.1149 - accuracy: 0.6865 - val_loss: 1052.3173 - val_accuracy: 0.1933\n",
            "Epoch 59/100\n",
            "157/157 [==============================] - 11s 70ms/step - loss: 1.0964 - accuracy: 0.6935 - val_loss: 1019.7934 - val_accuracy: 0.2003\n",
            "Epoch 60/100\n",
            "157/157 [==============================] - 11s 69ms/step - loss: 1.0726 - accuracy: 0.6989 - val_loss: 1068.3287 - val_accuracy: 0.1941\n",
            "Epoch 61/100\n",
            "157/157 [==============================] - 11s 70ms/step - loss: 1.0560 - accuracy: 0.7028 - val_loss: 1086.8004 - val_accuracy: 0.1945\n",
            "Epoch 62/100\n",
            "157/157 [==============================] - 11s 69ms/step - loss: 1.0527 - accuracy: 0.7016 - val_loss: 1127.6464 - val_accuracy: 0.1849\n",
            "Epoch 63/100\n",
            "157/157 [==============================] - 11s 68ms/step - loss: 1.0399 - accuracy: 0.7071 - val_loss: 1132.0195 - val_accuracy: 0.1952\n",
            "Epoch 64/100\n",
            "157/157 [==============================] - 11s 68ms/step - loss: 1.0265 - accuracy: 0.7064 - val_loss: 1102.9161 - val_accuracy: 0.1976\n",
            "Epoch 65/100\n",
            "157/157 [==============================] - 11s 68ms/step - loss: 1.0059 - accuracy: 0.7153 - val_loss: 1138.1349 - val_accuracy: 0.1932\n",
            "Epoch 66/100\n",
            "157/157 [==============================] - 11s 68ms/step - loss: 0.9908 - accuracy: 0.7191 - val_loss: 1151.9735 - val_accuracy: 0.1967\n",
            "Epoch 67/100\n",
            "157/157 [==============================] - 11s 68ms/step - loss: 0.9677 - accuracy: 0.7254 - val_loss: 1226.0728 - val_accuracy: 0.1865\n",
            "Epoch 68/100\n",
            "157/157 [==============================] - 11s 68ms/step - loss: 0.9597 - accuracy: 0.7276 - val_loss: 1226.2898 - val_accuracy: 0.1921\n",
            "Epoch 69/100\n",
            "157/157 [==============================] - 11s 69ms/step - loss: 0.9488 - accuracy: 0.7279 - val_loss: 1177.0201 - val_accuracy: 0.2005\n",
            "Epoch 70/100\n",
            "157/157 [==============================] - 11s 68ms/step - loss: 0.9327 - accuracy: 0.7349 - val_loss: 1220.2769 - val_accuracy: 0.1954\n",
            "Epoch 71/100\n",
            "157/157 [==============================] - 12s 78ms/step - loss: 0.9153 - accuracy: 0.7410 - val_loss: 1262.2999 - val_accuracy: 0.1917\n",
            "Epoch 72/100\n",
            "157/157 [==============================] - 12s 74ms/step - loss: 0.9042 - accuracy: 0.7408 - val_loss: 1252.6953 - val_accuracy: 0.1917\n",
            "Epoch 73/100\n",
            "157/157 [==============================] - 11s 70ms/step - loss: 0.8863 - accuracy: 0.7477 - val_loss: 1306.2452 - val_accuracy: 0.1871\n",
            "Epoch 74/100\n",
            "157/157 [==============================] - 11s 73ms/step - loss: 0.8873 - accuracy: 0.7459 - val_loss: 1314.8379 - val_accuracy: 0.1884\n",
            "Epoch 75/100\n",
            "157/157 [==============================] - 12s 75ms/step - loss: 0.8723 - accuracy: 0.7490 - val_loss: 1294.6104 - val_accuracy: 0.1957\n",
            "Epoch 76/100\n",
            "157/157 [==============================] - 12s 76ms/step - loss: 0.8525 - accuracy: 0.7572 - val_loss: 1297.9492 - val_accuracy: 0.1954\n",
            "Epoch 77/100\n",
            "157/157 [==============================] - 11s 69ms/step - loss: 0.8474 - accuracy: 0.7555 - val_loss: 1398.5806 - val_accuracy: 0.1831\n",
            "Epoch 78/100\n",
            "157/157 [==============================] - 11s 69ms/step - loss: 0.8272 - accuracy: 0.7620 - val_loss: 1348.2618 - val_accuracy: 0.1940\n",
            "Epoch 79/100\n",
            "157/157 [==============================] - 11s 69ms/step - loss: 0.8160 - accuracy: 0.7679 - val_loss: 1446.9819 - val_accuracy: 0.1781\n",
            "Epoch 80/100\n",
            "157/157 [==============================] - 11s 70ms/step - loss: 0.8076 - accuracy: 0.7659 - val_loss: 1427.4337 - val_accuracy: 0.1885\n",
            "Epoch 81/100\n",
            "157/157 [==============================] - 11s 70ms/step - loss: 0.8096 - accuracy: 0.7652 - val_loss: 1390.4854 - val_accuracy: 0.1876\n",
            "Epoch 82/100\n",
            "157/157 [==============================] - 11s 69ms/step - loss: 0.7909 - accuracy: 0.7710 - val_loss: 1465.5476 - val_accuracy: 0.1897\n",
            "Epoch 83/100\n",
            "157/157 [==============================] - 11s 69ms/step - loss: 0.7771 - accuracy: 0.7757 - val_loss: 1462.1161 - val_accuracy: 0.1882\n",
            "Epoch 84/100\n",
            "157/157 [==============================] - 11s 69ms/step - loss: 0.7622 - accuracy: 0.7781 - val_loss: 1519.3571 - val_accuracy: 0.1878\n",
            "Epoch 85/100\n",
            "157/157 [==============================] - 11s 69ms/step - loss: 0.7695 - accuracy: 0.7750 - val_loss: 1489.1293 - val_accuracy: 0.1891\n",
            "Epoch 86/100\n",
            "157/157 [==============================] - 11s 69ms/step - loss: 0.7399 - accuracy: 0.7867 - val_loss: 1529.6848 - val_accuracy: 0.1924\n",
            "Epoch 87/100\n",
            "157/157 [==============================] - 11s 69ms/step - loss: 0.7382 - accuracy: 0.7847 - val_loss: 1536.2196 - val_accuracy: 0.1847\n",
            "Epoch 88/100\n",
            "157/157 [==============================] - 11s 69ms/step - loss: 0.7269 - accuracy: 0.7883 - val_loss: 1549.2440 - val_accuracy: 0.1925\n",
            "Epoch 89/100\n",
            "157/157 [==============================] - 11s 69ms/step - loss: 0.7205 - accuracy: 0.7869 - val_loss: 1587.6285 - val_accuracy: 0.1823\n",
            "Epoch 90/100\n",
            "157/157 [==============================] - 11s 69ms/step - loss: 0.6994 - accuracy: 0.7952 - val_loss: 1602.4977 - val_accuracy: 0.1868\n",
            "Epoch 91/100\n",
            "157/157 [==============================] - 11s 69ms/step - loss: 0.6855 - accuracy: 0.7997 - val_loss: 1646.0902 - val_accuracy: 0.1815\n",
            "Epoch 92/100\n",
            "157/157 [==============================] - 11s 69ms/step - loss: 0.6778 - accuracy: 0.8010 - val_loss: 1671.9634 - val_accuracy: 0.1819\n",
            "Epoch 93/100\n",
            "157/157 [==============================] - 11s 69ms/step - loss: 0.6626 - accuracy: 0.8094 - val_loss: 1731.3778 - val_accuracy: 0.1772\n",
            "Epoch 94/100\n",
            "157/157 [==============================] - 11s 69ms/step - loss: 0.6650 - accuracy: 0.8037 - val_loss: 1698.6707 - val_accuracy: 0.1847\n",
            "Epoch 95/100\n",
            "157/157 [==============================] - 11s 69ms/step - loss: 0.6515 - accuracy: 0.8085 - val_loss: 1721.5018 - val_accuracy: 0.1826\n",
            "Epoch 96/100\n",
            "157/157 [==============================] - 11s 69ms/step - loss: 0.6487 - accuracy: 0.8082 - val_loss: 1761.7324 - val_accuracy: 0.1826\n",
            "Epoch 97/100\n",
            "157/157 [==============================] - 11s 69ms/step - loss: 0.6288 - accuracy: 0.8169 - val_loss: 1754.0906 - val_accuracy: 0.1857\n",
            "Epoch 98/100\n",
            "157/157 [==============================] - 11s 69ms/step - loss: 0.6225 - accuracy: 0.8178 - val_loss: 1777.3474 - val_accuracy: 0.1870\n",
            "Epoch 99/100\n",
            "157/157 [==============================] - 11s 69ms/step - loss: 0.6139 - accuracy: 0.8192 - val_loss: 1790.5814 - val_accuracy: 0.1890\n",
            "Epoch 100/100\n",
            "157/157 [==============================] - 11s 70ms/step - loss: 0.6109 - accuracy: 0.8180 - val_loss: 1858.2764 - val_accuracy: 0.1807\n"
          ]
        }
      ],
      "source": [
        "history_basic = model_basic_es.fit(X_train, Y_train, epochs=100, batch_size=256, validation_data=(X_validation,y_validation), callbacks = [es])"
      ]
    },
    {
      "cell_type": "markdown",
      "metadata": {},
      "source": [
        "## Sieć nr. 1 - głębsza\n"
      ]
    },
    {
      "cell_type": "code",
      "execution_count": 167,
      "metadata": {},
      "outputs": [
        {
          "name": "stdout",
          "output_type": "stream",
          "text": [
            "Model: \"sequential_31\"\n",
            "_________________________________________________________________\n",
            " Layer (type)                Output Shape              Param #   \n",
            "=================================================================\n",
            " conv2d_90 (Conv2D)          (None, 32, 32, 32)        896       \n",
            "                                                                 \n",
            " max_pooling2d_77 (MaxPoolin  (None, 16, 16, 32)       0         \n",
            " g2D)                                                            \n",
            "                                                                 \n",
            " conv2d_91 (Conv2D)          (None, 16, 16, 32)        9248      \n",
            "                                                                 \n",
            " max_pooling2d_78 (MaxPoolin  (None, 8, 8, 32)         0         \n",
            " g2D)                                                            \n",
            "                                                                 \n",
            " conv2d_92 (Conv2D)          (None, 8, 8, 32)          9248      \n",
            "                                                                 \n",
            " max_pooling2d_79 (MaxPoolin  (None, 4, 4, 32)         0         \n",
            " g2D)                                                            \n",
            "                                                                 \n",
            " conv2d_93 (Conv2D)          (None, 4, 4, 32)          9248      \n",
            "                                                                 \n",
            " max_pooling2d_80 (MaxPoolin  (None, 2, 2, 32)         0         \n",
            " g2D)                                                            \n",
            "                                                                 \n",
            " conv2d_94 (Conv2D)          (None, 2, 2, 32)          9248      \n",
            "                                                                 \n",
            " flatten_31 (Flatten)        (None, 128)               0         \n",
            "                                                                 \n",
            " dense_62 (Dense)            (None, 128)               16512     \n",
            "                                                                 \n",
            " dense_63 (Dense)            (None, 100)               12900     \n",
            "                                                                 \n",
            "=================================================================\n",
            "Total params: 67,300\n",
            "Trainable params: 67,300\n",
            "Non-trainable params: 0\n",
            "_________________________________________________________________\n"
          ]
        }
      ],
      "source": [
        "model_1 = Sequential([\n",
        "  Conv2D(32, kernel_size=(3, 3), activation='relu', padding=\"same\", input_shape=input_shape),\n",
        "  MaxPooling2D(pool_size=(2,2)), \n",
        "  Conv2D(32, kernel_size=(3,3), padding=\"same\", activation='relu'),\n",
        "  MaxPooling2D(pool_size=(2,2)), \n",
        "  Conv2D(32, kernel_size=(3,3),  padding=\"same\",activation='relu'),\n",
        "  MaxPooling2D(pool_size=(2,2)), \n",
        "  Conv2D(32, kernel_size=(3,3),  padding=\"same\",activation='relu'),\n",
        "  MaxPooling2D(pool_size=(2,2)), \n",
        "  Conv2D(32, kernel_size=(3,3),  padding=\"same\",activation='relu'),\n",
        "  Flatten(), # tutaj 2-wymiarowe, wielo kanalowe 'obrazki' staja sie wektorem\n",
        "  Dense(128, activation='relu'),\n",
        "  Dense(100, activation='softmax')\n",
        "])\n",
        "model_1.compile(loss='categorical_crossentropy', optimizer='adam', metrics=['accuracy'])\n",
        "model_1.summary()"
      ]
    },
    {
      "cell_type": "code",
      "execution_count": 168,
      "metadata": {},
      "outputs": [
        {
          "name": "stdout",
          "output_type": "stream",
          "text": [
            "Epoch 1/200\n",
            "157/157 [==============================] - 16s 99ms/step - loss: 4.3368 - accuracy: 0.0364 - val_loss: 288.2696 - val_accuracy: 0.0653\n",
            "Epoch 2/200\n",
            "157/157 [==============================] - 15s 96ms/step - loss: 3.9187 - accuracy: 0.0948 - val_loss: 334.1183 - val_accuracy: 0.1080\n",
            "Epoch 3/200\n",
            "157/157 [==============================] - 15s 96ms/step - loss: 3.6007 - accuracy: 0.1513 - val_loss: 514.6060 - val_accuracy: 0.0972\n",
            "Epoch 4/200\n",
            "157/157 [==============================] - 15s 95ms/step - loss: 3.3855 - accuracy: 0.1849 - val_loss: 556.9309 - val_accuracy: 0.0995\n",
            "Epoch 5/200\n",
            "157/157 [==============================] - 15s 96ms/step - loss: 3.2520 - accuracy: 0.2060 - val_loss: 543.7029 - val_accuracy: 0.1091\n",
            "Epoch 6/200\n",
            "157/157 [==============================] - 15s 96ms/step - loss: 3.1611 - accuracy: 0.2254 - val_loss: 484.9601 - val_accuracy: 0.1188\n",
            "Epoch 7/200\n",
            "157/157 [==============================] - 15s 96ms/step - loss: 3.0505 - accuracy: 0.2475 - val_loss: 515.7579 - val_accuracy: 0.1225\n",
            "Epoch 8/200\n",
            "157/157 [==============================] - 15s 96ms/step - loss: 2.9796 - accuracy: 0.2611 - val_loss: 467.0620 - val_accuracy: 0.1382\n",
            "Epoch 9/200\n",
            "157/157 [==============================] - 15s 96ms/step - loss: 2.9045 - accuracy: 0.2769 - val_loss: 532.5433 - val_accuracy: 0.1237\n",
            "Epoch 10/200\n",
            "157/157 [==============================] - 15s 96ms/step - loss: 2.8375 - accuracy: 0.2880 - val_loss: 474.9646 - val_accuracy: 0.1465\n",
            "Epoch 11/200\n",
            "157/157 [==============================] - 15s 96ms/step - loss: 2.7872 - accuracy: 0.2983 - val_loss: 454.5932 - val_accuracy: 0.1384\n",
            "Epoch 12/200\n",
            "157/157 [==============================] - 15s 96ms/step - loss: 2.7203 - accuracy: 0.3122 - val_loss: 534.6442 - val_accuracy: 0.1290\n",
            "Epoch 13/200\n",
            "157/157 [==============================] - 15s 96ms/step - loss: 2.6826 - accuracy: 0.3190 - val_loss: 483.2892 - val_accuracy: 0.1510\n",
            "Epoch 14/200\n",
            "157/157 [==============================] - 15s 96ms/step - loss: 2.6327 - accuracy: 0.3302 - val_loss: 491.7848 - val_accuracy: 0.1498\n",
            "Epoch 15/200\n",
            "157/157 [==============================] - 15s 96ms/step - loss: 2.5895 - accuracy: 0.3392 - val_loss: 495.8943 - val_accuracy: 0.1440\n",
            "Epoch 16/200\n",
            "157/157 [==============================] - 15s 96ms/step - loss: 2.5504 - accuracy: 0.3458 - val_loss: 520.9198 - val_accuracy: 0.1510\n",
            "Epoch 17/200\n",
            "157/157 [==============================] - 15s 96ms/step - loss: 2.5118 - accuracy: 0.3551 - val_loss: 504.1717 - val_accuracy: 0.1515\n",
            "Epoch 18/200\n",
            "157/157 [==============================] - 15s 96ms/step - loss: 2.4844 - accuracy: 0.3609 - val_loss: 484.0924 - val_accuracy: 0.1708\n",
            "Epoch 19/200\n",
            "157/157 [==============================] - 15s 96ms/step - loss: 2.4554 - accuracy: 0.3644 - val_loss: 503.5584 - val_accuracy: 0.1558\n",
            "Epoch 20/200\n",
            "157/157 [==============================] - 15s 96ms/step - loss: 2.4144 - accuracy: 0.3735 - val_loss: 525.5375 - val_accuracy: 0.1503\n",
            "Epoch 21/200\n",
            "157/157 [==============================] - 15s 96ms/step - loss: 2.3789 - accuracy: 0.3795 - val_loss: 478.9764 - val_accuracy: 0.1743\n",
            "Epoch 22/200\n",
            "157/157 [==============================] - 15s 96ms/step - loss: 2.3660 - accuracy: 0.3841 - val_loss: 524.0748 - val_accuracy: 0.1426\n",
            "Epoch 23/200\n",
            "157/157 [==============================] - 15s 96ms/step - loss: 2.3232 - accuracy: 0.3938 - val_loss: 488.4058 - val_accuracy: 0.1680\n",
            "Epoch 24/200\n",
            "157/157 [==============================] - 15s 96ms/step - loss: 2.3048 - accuracy: 0.3951 - val_loss: 515.9713 - val_accuracy: 0.1680\n",
            "Epoch 25/200\n",
            "157/157 [==============================] - 15s 96ms/step - loss: 2.2719 - accuracy: 0.4035 - val_loss: 524.0220 - val_accuracy: 0.1628\n",
            "Epoch 26/200\n",
            "157/157 [==============================] - 15s 96ms/step - loss: 2.2443 - accuracy: 0.4063 - val_loss: 533.7962 - val_accuracy: 0.1617\n",
            "Epoch 27/200\n",
            "157/157 [==============================] - 15s 96ms/step - loss: 2.2275 - accuracy: 0.4134 - val_loss: 536.3545 - val_accuracy: 0.1697\n",
            "Epoch 28/200\n",
            "157/157 [==============================] - 15s 95ms/step - loss: 2.2151 - accuracy: 0.4148 - val_loss: 524.4016 - val_accuracy: 0.1639\n",
            "Epoch 29/200\n",
            "157/157 [==============================] - 15s 96ms/step - loss: 2.1856 - accuracy: 0.4200 - val_loss: 541.8175 - val_accuracy: 0.1634\n",
            "Epoch 30/200\n",
            "157/157 [==============================] - 15s 96ms/step - loss: 2.1524 - accuracy: 0.4279 - val_loss: 549.2107 - val_accuracy: 0.1646\n",
            "Epoch 31/200\n",
            "157/157 [==============================] - 15s 96ms/step - loss: 2.1294 - accuracy: 0.4342 - val_loss: 580.6642 - val_accuracy: 0.1465\n",
            "Epoch 32/200\n",
            "157/157 [==============================] - 15s 96ms/step - loss: 2.1043 - accuracy: 0.4397 - val_loss: 478.5435 - val_accuracy: 0.2081\n",
            "Epoch 33/200\n",
            "157/157 [==============================] - 15s 96ms/step - loss: 2.0907 - accuracy: 0.4424 - val_loss: 486.3177 - val_accuracy: 0.1906\n",
            "Epoch 34/200\n",
            "157/157 [==============================] - 15s 96ms/step - loss: 2.0692 - accuracy: 0.4462 - val_loss: 546.9075 - val_accuracy: 0.1693\n",
            "Epoch 35/200\n",
            "157/157 [==============================] - 15s 97ms/step - loss: 2.0408 - accuracy: 0.4523 - val_loss: 597.2808 - val_accuracy: 0.1451\n",
            "Epoch 36/200\n",
            "157/157 [==============================] - 15s 96ms/step - loss: 2.0237 - accuracy: 0.4548 - val_loss: 643.3979 - val_accuracy: 0.1505\n",
            "Epoch 37/200\n",
            "157/157 [==============================] - 15s 97ms/step - loss: 2.0103 - accuracy: 0.4575 - val_loss: 600.4125 - val_accuracy: 0.1582\n",
            "Epoch 38/200\n",
            "157/157 [==============================] - 15s 96ms/step - loss: 1.9925 - accuracy: 0.4618 - val_loss: 559.3229 - val_accuracy: 0.1754\n",
            "Epoch 39/200\n",
            "157/157 [==============================] - 15s 97ms/step - loss: 1.9697 - accuracy: 0.4675 - val_loss: 600.6693 - val_accuracy: 0.1610\n",
            "Epoch 40/200\n",
            "157/157 [==============================] - 15s 96ms/step - loss: 1.9472 - accuracy: 0.4719 - val_loss: 655.0443 - val_accuracy: 0.1404\n",
            "Epoch 41/200\n",
            "157/157 [==============================] - 15s 96ms/step - loss: 1.9316 - accuracy: 0.4721 - val_loss: 643.3889 - val_accuracy: 0.1540\n",
            "Epoch 42/200\n",
            "157/157 [==============================] - 15s 96ms/step - loss: 1.9191 - accuracy: 0.4776 - val_loss: 663.0888 - val_accuracy: 0.1463\n",
            "Epoch 43/200\n",
            "157/157 [==============================] - 15s 96ms/step - loss: 1.9015 - accuracy: 0.4832 - val_loss: 622.8371 - val_accuracy: 0.1614\n",
            "Epoch 44/200\n",
            "157/157 [==============================] - 15s 96ms/step - loss: 1.8747 - accuracy: 0.4875 - val_loss: 701.8339 - val_accuracy: 0.1486\n",
            "Epoch 45/200\n",
            "157/157 [==============================] - 15s 96ms/step - loss: 1.8681 - accuracy: 0.4898 - val_loss: 555.9781 - val_accuracy: 0.1756\n",
            "Epoch 46/200\n",
            "157/157 [==============================] - 15s 97ms/step - loss: 1.8501 - accuracy: 0.4937 - val_loss: 611.4553 - val_accuracy: 0.1646\n",
            "Epoch 47/200\n",
            "157/157 [==============================] - 15s 97ms/step - loss: 1.8277 - accuracy: 0.4989 - val_loss: 725.0339 - val_accuracy: 0.1455\n",
            "Epoch 48/200\n",
            "157/157 [==============================] - 15s 96ms/step - loss: 1.8193 - accuracy: 0.5001 - val_loss: 690.0204 - val_accuracy: 0.1415\n",
            "Epoch 49/200\n",
            "157/157 [==============================] - 15s 97ms/step - loss: 1.7966 - accuracy: 0.5044 - val_loss: 641.5554 - val_accuracy: 0.1628\n",
            "Epoch 50/200\n",
            "157/157 [==============================] - 16s 100ms/step - loss: 1.7882 - accuracy: 0.5070 - val_loss: 681.9058 - val_accuracy: 0.1643\n",
            "Epoch 51/200\n",
            " 38/157 [======>.......................] - ETA: 11s - loss: 1.7299 - accuracy: 0.5212"
          ]
        },
        {
          "ename": "KeyboardInterrupt",
          "evalue": "",
          "output_type": "error",
          "traceback": [
            "\u001b[1;31m---------------------------------------------------------------------------\u001b[0m",
            "\u001b[1;31mKeyboardInterrupt\u001b[0m                         Traceback (most recent call last)",
            "Input \u001b[1;32mIn [168]\u001b[0m, in \u001b[0;36m<module>\u001b[1;34m\u001b[0m\n\u001b[1;32m----> 1\u001b[0m history_1 \u001b[38;5;241m=\u001b[39m \u001b[43mmodel_1\u001b[49m\u001b[38;5;241;43m.\u001b[39;49m\u001b[43mfit\u001b[49m\u001b[43m(\u001b[49m\u001b[43mX_train\u001b[49m\u001b[43m,\u001b[49m\u001b[43m \u001b[49m\u001b[43mY_train\u001b[49m\u001b[43m,\u001b[49m\u001b[43m \u001b[49m\u001b[43mepochs\u001b[49m\u001b[38;5;241;43m=\u001b[39;49m\u001b[38;5;241;43m200\u001b[39;49m\u001b[43m,\u001b[49m\u001b[43m \u001b[49m\u001b[43mbatch_size\u001b[49m\u001b[38;5;241;43m=\u001b[39;49m\u001b[38;5;241;43m256\u001b[39;49m\u001b[43m,\u001b[49m\u001b[43m \u001b[49m\u001b[43mvalidation_data\u001b[49m\u001b[38;5;241;43m=\u001b[39;49m\u001b[43m(\u001b[49m\u001b[43mX_validation\u001b[49m\u001b[43m,\u001b[49m\u001b[43my_validation\u001b[49m\u001b[43m)\u001b[49m\u001b[43m,\u001b[49m\u001b[43m \u001b[49m\u001b[43mcallbacks\u001b[49m\u001b[43m \u001b[49m\u001b[38;5;241;43m=\u001b[39;49m\u001b[43m \u001b[49m\u001b[43m[\u001b[49m\u001b[43mes\u001b[49m\u001b[43m]\u001b[49m\u001b[43m)\u001b[49m\n",
            "File \u001b[1;32mc:\\Users\\kajka\\Documents\\ProgrammingProjects\\PJATK\\Sem3\\ZUM\\Projekty\\Obrazy\\pyenv\\lib\\site-packages\\keras\\utils\\traceback_utils.py:64\u001b[0m, in \u001b[0;36mfilter_traceback.<locals>.error_handler\u001b[1;34m(*args, **kwargs)\u001b[0m\n\u001b[0;32m     62\u001b[0m filtered_tb \u001b[38;5;241m=\u001b[39m \u001b[38;5;28;01mNone\u001b[39;00m\n\u001b[0;32m     63\u001b[0m \u001b[38;5;28;01mtry\u001b[39;00m:\n\u001b[1;32m---> 64\u001b[0m   \u001b[38;5;28;01mreturn\u001b[39;00m fn(\u001b[38;5;241m*\u001b[39margs, \u001b[38;5;241m*\u001b[39m\u001b[38;5;241m*\u001b[39mkwargs)\n\u001b[0;32m     65\u001b[0m \u001b[38;5;28;01mexcept\u001b[39;00m \u001b[38;5;167;01mException\u001b[39;00m \u001b[38;5;28;01mas\u001b[39;00m e:  \u001b[38;5;66;03m# pylint: disable=broad-except\u001b[39;00m\n\u001b[0;32m     66\u001b[0m   filtered_tb \u001b[38;5;241m=\u001b[39m _process_traceback_frames(e\u001b[38;5;241m.\u001b[39m__traceback__)\n",
            "File \u001b[1;32mc:\\Users\\kajka\\Documents\\ProgrammingProjects\\PJATK\\Sem3\\ZUM\\Projekty\\Obrazy\\pyenv\\lib\\site-packages\\keras\\engine\\training.py:1216\u001b[0m, in \u001b[0;36mModel.fit\u001b[1;34m(self, x, y, batch_size, epochs, verbose, callbacks, validation_split, validation_data, shuffle, class_weight, sample_weight, initial_epoch, steps_per_epoch, validation_steps, validation_batch_size, validation_freq, max_queue_size, workers, use_multiprocessing)\u001b[0m\n\u001b[0;32m   1209\u001b[0m \u001b[38;5;28;01mwith\u001b[39;00m tf\u001b[38;5;241m.\u001b[39mprofiler\u001b[38;5;241m.\u001b[39mexperimental\u001b[38;5;241m.\u001b[39mTrace(\n\u001b[0;32m   1210\u001b[0m     \u001b[38;5;124m'\u001b[39m\u001b[38;5;124mtrain\u001b[39m\u001b[38;5;124m'\u001b[39m,\n\u001b[0;32m   1211\u001b[0m     epoch_num\u001b[38;5;241m=\u001b[39mepoch,\n\u001b[0;32m   1212\u001b[0m     step_num\u001b[38;5;241m=\u001b[39mstep,\n\u001b[0;32m   1213\u001b[0m     batch_size\u001b[38;5;241m=\u001b[39mbatch_size,\n\u001b[0;32m   1214\u001b[0m     _r\u001b[38;5;241m=\u001b[39m\u001b[38;5;241m1\u001b[39m):\n\u001b[0;32m   1215\u001b[0m   callbacks\u001b[38;5;241m.\u001b[39mon_train_batch_begin(step)\n\u001b[1;32m-> 1216\u001b[0m   tmp_logs \u001b[38;5;241m=\u001b[39m \u001b[38;5;28;43mself\u001b[39;49m\u001b[38;5;241;43m.\u001b[39;49m\u001b[43mtrain_function\u001b[49m\u001b[43m(\u001b[49m\u001b[43miterator\u001b[49m\u001b[43m)\u001b[49m\n\u001b[0;32m   1217\u001b[0m   \u001b[38;5;28;01mif\u001b[39;00m data_handler\u001b[38;5;241m.\u001b[39mshould_sync:\n\u001b[0;32m   1218\u001b[0m     context\u001b[38;5;241m.\u001b[39masync_wait()\n",
            "File \u001b[1;32mc:\\Users\\kajka\\Documents\\ProgrammingProjects\\PJATK\\Sem3\\ZUM\\Projekty\\Obrazy\\pyenv\\lib\\site-packages\\tensorflow\\python\\util\\traceback_utils.py:150\u001b[0m, in \u001b[0;36mfilter_traceback.<locals>.error_handler\u001b[1;34m(*args, **kwargs)\u001b[0m\n\u001b[0;32m    148\u001b[0m filtered_tb \u001b[38;5;241m=\u001b[39m \u001b[38;5;28;01mNone\u001b[39;00m\n\u001b[0;32m    149\u001b[0m \u001b[38;5;28;01mtry\u001b[39;00m:\n\u001b[1;32m--> 150\u001b[0m   \u001b[38;5;28;01mreturn\u001b[39;00m fn(\u001b[38;5;241m*\u001b[39margs, \u001b[38;5;241m*\u001b[39m\u001b[38;5;241m*\u001b[39mkwargs)\n\u001b[0;32m    151\u001b[0m \u001b[38;5;28;01mexcept\u001b[39;00m \u001b[38;5;167;01mException\u001b[39;00m \u001b[38;5;28;01mas\u001b[39;00m e:\n\u001b[0;32m    152\u001b[0m   filtered_tb \u001b[38;5;241m=\u001b[39m _process_traceback_frames(e\u001b[38;5;241m.\u001b[39m__traceback__)\n",
            "File \u001b[1;32mc:\\Users\\kajka\\Documents\\ProgrammingProjects\\PJATK\\Sem3\\ZUM\\Projekty\\Obrazy\\pyenv\\lib\\site-packages\\tensorflow\\python\\eager\\def_function.py:910\u001b[0m, in \u001b[0;36mFunction.__call__\u001b[1;34m(self, *args, **kwds)\u001b[0m\n\u001b[0;32m    907\u001b[0m compiler \u001b[38;5;241m=\u001b[39m \u001b[38;5;124m\"\u001b[39m\u001b[38;5;124mxla\u001b[39m\u001b[38;5;124m\"\u001b[39m \u001b[38;5;28;01mif\u001b[39;00m \u001b[38;5;28mself\u001b[39m\u001b[38;5;241m.\u001b[39m_jit_compile \u001b[38;5;28;01melse\u001b[39;00m \u001b[38;5;124m\"\u001b[39m\u001b[38;5;124mnonXla\u001b[39m\u001b[38;5;124m\"\u001b[39m\n\u001b[0;32m    909\u001b[0m \u001b[38;5;28;01mwith\u001b[39;00m OptionalXlaContext(\u001b[38;5;28mself\u001b[39m\u001b[38;5;241m.\u001b[39m_jit_compile):\n\u001b[1;32m--> 910\u001b[0m   result \u001b[38;5;241m=\u001b[39m \u001b[38;5;28mself\u001b[39m\u001b[38;5;241m.\u001b[39m_call(\u001b[38;5;241m*\u001b[39margs, \u001b[38;5;241m*\u001b[39m\u001b[38;5;241m*\u001b[39mkwds)\n\u001b[0;32m    912\u001b[0m new_tracing_count \u001b[38;5;241m=\u001b[39m \u001b[38;5;28mself\u001b[39m\u001b[38;5;241m.\u001b[39mexperimental_get_tracing_count()\n\u001b[0;32m    913\u001b[0m without_tracing \u001b[38;5;241m=\u001b[39m (tracing_count \u001b[38;5;241m==\u001b[39m new_tracing_count)\n",
            "File \u001b[1;32mc:\\Users\\kajka\\Documents\\ProgrammingProjects\\PJATK\\Sem3\\ZUM\\Projekty\\Obrazy\\pyenv\\lib\\site-packages\\tensorflow\\python\\eager\\def_function.py:942\u001b[0m, in \u001b[0;36mFunction._call\u001b[1;34m(self, *args, **kwds)\u001b[0m\n\u001b[0;32m    939\u001b[0m   \u001b[38;5;28mself\u001b[39m\u001b[38;5;241m.\u001b[39m_lock\u001b[38;5;241m.\u001b[39mrelease()\n\u001b[0;32m    940\u001b[0m   \u001b[38;5;66;03m# In this case we have created variables on the first call, so we run the\u001b[39;00m\n\u001b[0;32m    941\u001b[0m   \u001b[38;5;66;03m# defunned version which is guaranteed to never create variables.\u001b[39;00m\n\u001b[1;32m--> 942\u001b[0m   \u001b[38;5;28;01mreturn\u001b[39;00m \u001b[38;5;28mself\u001b[39m\u001b[38;5;241m.\u001b[39m_stateless_fn(\u001b[38;5;241m*\u001b[39margs, \u001b[38;5;241m*\u001b[39m\u001b[38;5;241m*\u001b[39mkwds)  \u001b[38;5;66;03m# pylint: disable=not-callable\u001b[39;00m\n\u001b[0;32m    943\u001b[0m \u001b[38;5;28;01melif\u001b[39;00m \u001b[38;5;28mself\u001b[39m\u001b[38;5;241m.\u001b[39m_stateful_fn \u001b[38;5;129;01mis\u001b[39;00m \u001b[38;5;129;01mnot\u001b[39;00m \u001b[38;5;28;01mNone\u001b[39;00m:\n\u001b[0;32m    944\u001b[0m   \u001b[38;5;66;03m# Release the lock early so that multiple threads can perform the call\u001b[39;00m\n\u001b[0;32m    945\u001b[0m   \u001b[38;5;66;03m# in parallel.\u001b[39;00m\n\u001b[0;32m    946\u001b[0m   \u001b[38;5;28mself\u001b[39m\u001b[38;5;241m.\u001b[39m_lock\u001b[38;5;241m.\u001b[39mrelease()\n",
            "File \u001b[1;32mc:\\Users\\kajka\\Documents\\ProgrammingProjects\\PJATK\\Sem3\\ZUM\\Projekty\\Obrazy\\pyenv\\lib\\site-packages\\tensorflow\\python\\eager\\function.py:3130\u001b[0m, in \u001b[0;36mFunction.__call__\u001b[1;34m(self, *args, **kwargs)\u001b[0m\n\u001b[0;32m   3127\u001b[0m \u001b[38;5;28;01mwith\u001b[39;00m \u001b[38;5;28mself\u001b[39m\u001b[38;5;241m.\u001b[39m_lock:\n\u001b[0;32m   3128\u001b[0m   (graph_function,\n\u001b[0;32m   3129\u001b[0m    filtered_flat_args) \u001b[38;5;241m=\u001b[39m \u001b[38;5;28mself\u001b[39m\u001b[38;5;241m.\u001b[39m_maybe_define_function(args, kwargs)\n\u001b[1;32m-> 3130\u001b[0m \u001b[38;5;28;01mreturn\u001b[39;00m \u001b[43mgraph_function\u001b[49m\u001b[38;5;241;43m.\u001b[39;49m\u001b[43m_call_flat\u001b[49m\u001b[43m(\u001b[49m\n\u001b[0;32m   3131\u001b[0m \u001b[43m    \u001b[49m\u001b[43mfiltered_flat_args\u001b[49m\u001b[43m,\u001b[49m\u001b[43m \u001b[49m\u001b[43mcaptured_inputs\u001b[49m\u001b[38;5;241;43m=\u001b[39;49m\u001b[43mgraph_function\u001b[49m\u001b[38;5;241;43m.\u001b[39;49m\u001b[43mcaptured_inputs\u001b[49m\u001b[43m)\u001b[49m\n",
            "File \u001b[1;32mc:\\Users\\kajka\\Documents\\ProgrammingProjects\\PJATK\\Sem3\\ZUM\\Projekty\\Obrazy\\pyenv\\lib\\site-packages\\tensorflow\\python\\eager\\function.py:1959\u001b[0m, in \u001b[0;36mConcreteFunction._call_flat\u001b[1;34m(self, args, captured_inputs, cancellation_manager)\u001b[0m\n\u001b[0;32m   1955\u001b[0m possible_gradient_type \u001b[38;5;241m=\u001b[39m gradients_util\u001b[38;5;241m.\u001b[39mPossibleTapeGradientTypes(args)\n\u001b[0;32m   1956\u001b[0m \u001b[38;5;28;01mif\u001b[39;00m (possible_gradient_type \u001b[38;5;241m==\u001b[39m gradients_util\u001b[38;5;241m.\u001b[39mPOSSIBLE_GRADIENT_TYPES_NONE\n\u001b[0;32m   1957\u001b[0m     \u001b[38;5;129;01mand\u001b[39;00m executing_eagerly):\n\u001b[0;32m   1958\u001b[0m   \u001b[38;5;66;03m# No tape is watching; skip to running the function.\u001b[39;00m\n\u001b[1;32m-> 1959\u001b[0m   \u001b[38;5;28;01mreturn\u001b[39;00m \u001b[38;5;28mself\u001b[39m\u001b[38;5;241m.\u001b[39m_build_call_outputs(\u001b[38;5;28;43mself\u001b[39;49m\u001b[38;5;241;43m.\u001b[39;49m\u001b[43m_inference_function\u001b[49m\u001b[38;5;241;43m.\u001b[39;49m\u001b[43mcall\u001b[49m\u001b[43m(\u001b[49m\n\u001b[0;32m   1960\u001b[0m \u001b[43m      \u001b[49m\u001b[43mctx\u001b[49m\u001b[43m,\u001b[49m\u001b[43m \u001b[49m\u001b[43margs\u001b[49m\u001b[43m,\u001b[49m\u001b[43m \u001b[49m\u001b[43mcancellation_manager\u001b[49m\u001b[38;5;241;43m=\u001b[39;49m\u001b[43mcancellation_manager\u001b[49m\u001b[43m)\u001b[49m)\n\u001b[0;32m   1961\u001b[0m forward_backward \u001b[38;5;241m=\u001b[39m \u001b[38;5;28mself\u001b[39m\u001b[38;5;241m.\u001b[39m_select_forward_and_backward_functions(\n\u001b[0;32m   1962\u001b[0m     args,\n\u001b[0;32m   1963\u001b[0m     possible_gradient_type,\n\u001b[0;32m   1964\u001b[0m     executing_eagerly)\n\u001b[0;32m   1965\u001b[0m forward_function, args_with_tangents \u001b[38;5;241m=\u001b[39m forward_backward\u001b[38;5;241m.\u001b[39mforward()\n",
            "File \u001b[1;32mc:\\Users\\kajka\\Documents\\ProgrammingProjects\\PJATK\\Sem3\\ZUM\\Projekty\\Obrazy\\pyenv\\lib\\site-packages\\tensorflow\\python\\eager\\function.py:598\u001b[0m, in \u001b[0;36m_EagerDefinedFunction.call\u001b[1;34m(self, ctx, args, cancellation_manager)\u001b[0m\n\u001b[0;32m    596\u001b[0m \u001b[38;5;28;01mwith\u001b[39;00m _InterpolateFunctionError(\u001b[38;5;28mself\u001b[39m):\n\u001b[0;32m    597\u001b[0m   \u001b[38;5;28;01mif\u001b[39;00m cancellation_manager \u001b[38;5;129;01mis\u001b[39;00m \u001b[38;5;28;01mNone\u001b[39;00m:\n\u001b[1;32m--> 598\u001b[0m     outputs \u001b[38;5;241m=\u001b[39m \u001b[43mexecute\u001b[49m\u001b[38;5;241;43m.\u001b[39;49m\u001b[43mexecute\u001b[49m\u001b[43m(\u001b[49m\n\u001b[0;32m    599\u001b[0m \u001b[43m        \u001b[49m\u001b[38;5;28;43mstr\u001b[39;49m\u001b[43m(\u001b[49m\u001b[38;5;28;43mself\u001b[39;49m\u001b[38;5;241;43m.\u001b[39;49m\u001b[43msignature\u001b[49m\u001b[38;5;241;43m.\u001b[39;49m\u001b[43mname\u001b[49m\u001b[43m)\u001b[49m\u001b[43m,\u001b[49m\n\u001b[0;32m    600\u001b[0m \u001b[43m        \u001b[49m\u001b[43mnum_outputs\u001b[49m\u001b[38;5;241;43m=\u001b[39;49m\u001b[38;5;28;43mself\u001b[39;49m\u001b[38;5;241;43m.\u001b[39;49m\u001b[43m_num_outputs\u001b[49m\u001b[43m,\u001b[49m\n\u001b[0;32m    601\u001b[0m \u001b[43m        \u001b[49m\u001b[43minputs\u001b[49m\u001b[38;5;241;43m=\u001b[39;49m\u001b[43margs\u001b[49m\u001b[43m,\u001b[49m\n\u001b[0;32m    602\u001b[0m \u001b[43m        \u001b[49m\u001b[43mattrs\u001b[49m\u001b[38;5;241;43m=\u001b[39;49m\u001b[43mattrs\u001b[49m\u001b[43m,\u001b[49m\n\u001b[0;32m    603\u001b[0m \u001b[43m        \u001b[49m\u001b[43mctx\u001b[49m\u001b[38;5;241;43m=\u001b[39;49m\u001b[43mctx\u001b[49m\u001b[43m)\u001b[49m\n\u001b[0;32m    604\u001b[0m   \u001b[38;5;28;01melse\u001b[39;00m:\n\u001b[0;32m    605\u001b[0m     outputs \u001b[38;5;241m=\u001b[39m execute\u001b[38;5;241m.\u001b[39mexecute_with_cancellation(\n\u001b[0;32m    606\u001b[0m         \u001b[38;5;28mstr\u001b[39m(\u001b[38;5;28mself\u001b[39m\u001b[38;5;241m.\u001b[39msignature\u001b[38;5;241m.\u001b[39mname),\n\u001b[0;32m    607\u001b[0m         num_outputs\u001b[38;5;241m=\u001b[39m\u001b[38;5;28mself\u001b[39m\u001b[38;5;241m.\u001b[39m_num_outputs,\n\u001b[1;32m   (...)\u001b[0m\n\u001b[0;32m    610\u001b[0m         ctx\u001b[38;5;241m=\u001b[39mctx,\n\u001b[0;32m    611\u001b[0m         cancellation_manager\u001b[38;5;241m=\u001b[39mcancellation_manager)\n",
            "File \u001b[1;32mc:\\Users\\kajka\\Documents\\ProgrammingProjects\\PJATK\\Sem3\\ZUM\\Projekty\\Obrazy\\pyenv\\lib\\site-packages\\tensorflow\\python\\eager\\execute.py:58\u001b[0m, in \u001b[0;36mquick_execute\u001b[1;34m(op_name, num_outputs, inputs, attrs, ctx, name)\u001b[0m\n\u001b[0;32m     56\u001b[0m \u001b[38;5;28;01mtry\u001b[39;00m:\n\u001b[0;32m     57\u001b[0m   ctx\u001b[38;5;241m.\u001b[39mensure_initialized()\n\u001b[1;32m---> 58\u001b[0m   tensors \u001b[38;5;241m=\u001b[39m \u001b[43mpywrap_tfe\u001b[49m\u001b[38;5;241;43m.\u001b[39;49m\u001b[43mTFE_Py_Execute\u001b[49m\u001b[43m(\u001b[49m\u001b[43mctx\u001b[49m\u001b[38;5;241;43m.\u001b[39;49m\u001b[43m_handle\u001b[49m\u001b[43m,\u001b[49m\u001b[43m \u001b[49m\u001b[43mdevice_name\u001b[49m\u001b[43m,\u001b[49m\u001b[43m \u001b[49m\u001b[43mop_name\u001b[49m\u001b[43m,\u001b[49m\n\u001b[0;32m     59\u001b[0m \u001b[43m                                      \u001b[49m\u001b[43minputs\u001b[49m\u001b[43m,\u001b[49m\u001b[43m \u001b[49m\u001b[43mattrs\u001b[49m\u001b[43m,\u001b[49m\u001b[43m \u001b[49m\u001b[43mnum_outputs\u001b[49m\u001b[43m)\u001b[49m\n\u001b[0;32m     60\u001b[0m \u001b[38;5;28;01mexcept\u001b[39;00m core\u001b[38;5;241m.\u001b[39m_NotOkStatusException \u001b[38;5;28;01mas\u001b[39;00m e:\n\u001b[0;32m     61\u001b[0m   \u001b[38;5;28;01mif\u001b[39;00m name \u001b[38;5;129;01mis\u001b[39;00m \u001b[38;5;129;01mnot\u001b[39;00m \u001b[38;5;28;01mNone\u001b[39;00m:\n",
            "\u001b[1;31mKeyboardInterrupt\u001b[0m: "
          ]
        }
      ],
      "source": [
        "history_1 = model_1.fit(X_train, Y_train, epochs=200, batch_size=256, validation_data=(X_validation,y_validation), callbacks = [es])"
      ]
    },
    {
      "cell_type": "markdown",
      "metadata": {},
      "source": [
        "## Sieć nr. 2 - więcej feature map na jedną warstwę"
      ]
    },
    {
      "cell_type": "code",
      "execution_count": null,
      "metadata": {},
      "outputs": [],
      "source": [
        "model_2 = Sequential([\n",
        "  Conv2D(128, kernel_size=(3, 3), activation='relu', input_shape=input_shape),\n",
        "  MaxPooling2D(pool_size=(2,2)), \n",
        "  Conv2D(128, kernel_size=(3,3), activation='relu'),\n",
        "  MaxPooling2D(pool_size=(2,2)), \n",
        "  Flatten(), # tutaj 2-wymiarowe, wielo kanalowe 'obrazki' staja sie wektorem\n",
        "  Dense(512, activation='relu'),\n",
        "  Dense(100, activation='softmax')\n",
        "])\n",
        "model_2.compile(loss='categorical_crossentropy', optimizer='adam', metrics=['accuracy'])"
      ]
    },
    {
      "cell_type": "code",
      "execution_count": null,
      "metadata": {},
      "outputs": [
        {
          "name": "stdout",
          "output_type": "stream",
          "text": [
            "Epoch 1/100\n",
            "196/196 [==============================] - 53s 269ms/step - loss: 3.8160 - accuracy: 0.1281\n",
            "Epoch 2/100\n",
            "196/196 [==============================] - 52s 265ms/step - loss: 3.0620 - accuracy: 0.2585\n",
            "Epoch 3/100\n",
            "196/196 [==============================] - 51s 258ms/step - loss: 2.7181 - accuracy: 0.3260\n",
            "Epoch 4/100\n",
            "196/196 [==============================] - 50s 257ms/step - loss: 2.4835 - accuracy: 0.3710\n",
            "Epoch 5/100\n",
            "196/196 [==============================] - 50s 257ms/step - loss: 2.2827 - accuracy: 0.4153\n",
            "Epoch 6/100\n",
            "196/196 [==============================] - 50s 257ms/step - loss: 2.1018 - accuracy: 0.4552\n",
            "Epoch 7/100\n",
            "196/196 [==============================] - 51s 258ms/step - loss: 1.9393 - accuracy: 0.4955\n",
            "Epoch 8/100\n",
            "196/196 [==============================] - 51s 258ms/step - loss: 1.7757 - accuracy: 0.5287\n",
            "Epoch 9/100\n",
            "196/196 [==============================] - 51s 258ms/step - loss: 1.6138 - accuracy: 0.5665\n",
            "Epoch 10/100\n",
            "196/196 [==============================] - 50s 258ms/step - loss: 1.4557 - accuracy: 0.6067\n",
            "Epoch 11/100\n",
            "196/196 [==============================] - 51s 258ms/step - loss: 1.3162 - accuracy: 0.6401\n",
            "Epoch 12/100\n",
            "196/196 [==============================] - 51s 258ms/step - loss: 1.1838 - accuracy: 0.6730\n",
            "Epoch 13/100\n",
            "196/196 [==============================] - 51s 261ms/step - loss: 1.0459 - accuracy: 0.7074\n",
            "Epoch 14/100\n",
            "196/196 [==============================] - 51s 258ms/step - loss: 0.9126 - accuracy: 0.7416\n",
            "Epoch 15/100\n",
            "196/196 [==============================] - 51s 258ms/step - loss: 0.7943 - accuracy: 0.7721\n",
            "Epoch 16/100\n",
            "196/196 [==============================] - 51s 260ms/step - loss: 0.6793 - accuracy: 0.8049\n",
            "Epoch 17/100\n",
            "196/196 [==============================] - 51s 258ms/step - loss: 0.5806 - accuracy: 0.8335\n",
            "Epoch 18/100\n",
            "196/196 [==============================] - 51s 258ms/step - loss: 0.4896 - accuracy: 0.8597\n",
            "Epoch 19/100\n",
            "196/196 [==============================] - 50s 257ms/step - loss: 0.3985 - accuracy: 0.8843\n",
            "Epoch 20/100\n",
            "196/196 [==============================] - 51s 258ms/step - loss: 0.3370 - accuracy: 0.9027\n",
            "Epoch 21/100\n",
            "196/196 [==============================] - 51s 260ms/step - loss: 0.2733 - accuracy: 0.9212\n",
            "Epoch 22/100\n",
            "196/196 [==============================] - 51s 258ms/step - loss: 0.2351 - accuracy: 0.9336\n",
            "Epoch 23/100\n",
            "196/196 [==============================] - 50s 258ms/step - loss: 0.1971 - accuracy: 0.9441\n",
            "Epoch 24/100\n",
            "196/196 [==============================] - 50s 257ms/step - loss: 0.1837 - accuracy: 0.9468\n",
            "Epoch 25/100\n",
            "196/196 [==============================] - 51s 258ms/step - loss: 0.1604 - accuracy: 0.9540\n",
            "Epoch 26/100\n",
            "196/196 [==============================] - 51s 258ms/step - loss: 0.1504 - accuracy: 0.9559\n",
            "Epoch 27/100\n",
            "196/196 [==============================] - 51s 258ms/step - loss: 0.1204 - accuracy: 0.9648\n",
            "Epoch 28/100\n",
            "196/196 [==============================] - 50s 258ms/step - loss: 0.1291 - accuracy: 0.9613\n",
            "Epoch 29/100\n",
            "196/196 [==============================] - 50s 257ms/step - loss: 0.1243 - accuracy: 0.9620\n",
            "Epoch 30/100\n",
            "196/196 [==============================] - 54s 274ms/step - loss: 0.1516 - accuracy: 0.9520\n"
          ]
        }
      ],
      "source": [
        "history_2 = model_2.fit(X_train, Y_train, epochs=100, batch_size=256, validation_data=(X_validation,y_validation), callbacks = [es])"
      ]
    },
    {
      "cell_type": "markdown",
      "metadata": {},
      "source": [
        "## Sieć nr. 3 - z dropoutem"
      ]
    },
    {
      "cell_type": "code",
      "execution_count": null,
      "metadata": {},
      "outputs": [],
      "source": [
        "from keras.layers import Dropout\n",
        "model_3 = Sequential([\n",
        "  Conv2D(32, kernel_size=(3, 3), activation='relu', input_shape=input_shape),\n",
        "  MaxPooling2D(pool_size=(2,2)), \n",
        "  Dropout(.2),\n",
        "  Conv2D(32, kernel_size=(3,3), activation='relu'),\n",
        "  MaxPooling2D(pool_size=(2,2)), \n",
        "  Flatten(), # tutaj 2-wymiarowe, wielo kanalowe 'obrazki' staja sie wektorem\n",
        "  Dense(128, activation='relu'),\n",
        "  Dense(100, activation='softmax')\n",
        "])\n",
        "model_3.compile(loss='categorical_crossentropy', optimizer='adam', metrics=['accuracy'])"
      ]
    },
    {
      "cell_type": "code",
      "execution_count": null,
      "metadata": {},
      "outputs": [
        {
          "name": "stdout",
          "output_type": "stream",
          "text": [
            "Epoch 1/100\n",
            "196/196 [==============================] - 14s 73ms/step - loss: 4.1609 - accuracy: 0.0703\n",
            "Epoch 2/100\n",
            "196/196 [==============================] - 14s 73ms/step - loss: 3.6034 - accuracy: 0.1595\n",
            "Epoch 3/100\n",
            "196/196 [==============================] - 14s 73ms/step - loss: 3.3471 - accuracy: 0.2033\n",
            "Epoch 4/100\n",
            "196/196 [==============================] - 14s 73ms/step - loss: 3.1674 - accuracy: 0.2348\n",
            "Epoch 5/100\n",
            "196/196 [==============================] - 14s 73ms/step - loss: 3.0241 - accuracy: 0.2624\n",
            "Epoch 6/100\n",
            "196/196 [==============================] - 14s 73ms/step - loss: 2.9182 - accuracy: 0.2829\n",
            "Epoch 7/100\n",
            "196/196 [==============================] - 14s 73ms/step - loss: 2.8161 - accuracy: 0.3040\n",
            "Epoch 8/100\n",
            "196/196 [==============================] - 14s 73ms/step - loss: 2.7280 - accuracy: 0.3203\n",
            "Epoch 9/100\n",
            "196/196 [==============================] - 14s 73ms/step - loss: 2.6532 - accuracy: 0.3358\n",
            "Epoch 10/100\n",
            "196/196 [==============================] - 14s 73ms/step - loss: 2.5889 - accuracy: 0.3483\n",
            "Epoch 11/100\n",
            "196/196 [==============================] - 14s 73ms/step - loss: 2.5266 - accuracy: 0.3618\n",
            "Epoch 12/100\n",
            "196/196 [==============================] - 14s 73ms/step - loss: 2.4816 - accuracy: 0.3716\n",
            "Epoch 13/100\n",
            "196/196 [==============================] - 14s 73ms/step - loss: 2.4309 - accuracy: 0.3829\n",
            "Epoch 14/100\n",
            "196/196 [==============================] - 14s 72ms/step - loss: 2.3891 - accuracy: 0.3918\n",
            "Epoch 15/100\n",
            "196/196 [==============================] - 14s 73ms/step - loss: 2.3439 - accuracy: 0.4020\n",
            "Epoch 16/100\n",
            "196/196 [==============================] - 14s 73ms/step - loss: 2.3046 - accuracy: 0.4084\n",
            "Epoch 17/100\n",
            "196/196 [==============================] - 14s 73ms/step - loss: 2.2654 - accuracy: 0.4180\n",
            "Epoch 18/100\n",
            "196/196 [==============================] - 14s 73ms/step - loss: 2.2306 - accuracy: 0.4255\n",
            "Epoch 19/100\n",
            "196/196 [==============================] - 14s 73ms/step - loss: 2.2005 - accuracy: 0.4331\n",
            "Epoch 20/100\n",
            "196/196 [==============================] - 14s 73ms/step - loss: 2.1690 - accuracy: 0.4386\n",
            "Epoch 21/100\n",
            "196/196 [==============================] - 14s 73ms/step - loss: 2.1452 - accuracy: 0.4427\n",
            "Epoch 22/100\n",
            "196/196 [==============================] - 14s 73ms/step - loss: 2.1128 - accuracy: 0.4505\n",
            "Epoch 23/100\n",
            "196/196 [==============================] - 14s 72ms/step - loss: 2.0889 - accuracy: 0.4560\n",
            "Epoch 24/100\n",
            "196/196 [==============================] - 14s 73ms/step - loss: 2.0612 - accuracy: 0.4619\n",
            "Epoch 25/100\n",
            "196/196 [==============================] - 14s 73ms/step - loss: 2.0284 - accuracy: 0.4693\n",
            "Epoch 26/100\n",
            "196/196 [==============================] - 14s 73ms/step - loss: 2.0106 - accuracy: 0.4754\n",
            "Epoch 27/100\n",
            "196/196 [==============================] - 14s 73ms/step - loss: 1.9817 - accuracy: 0.4793\n",
            "Epoch 28/100\n",
            "196/196 [==============================] - 14s 73ms/step - loss: 1.9671 - accuracy: 0.4825\n",
            "Epoch 29/100\n",
            "196/196 [==============================] - 14s 73ms/step - loss: 1.9400 - accuracy: 0.4873\n",
            "Epoch 30/100\n",
            "196/196 [==============================] - 14s 73ms/step - loss: 1.9278 - accuracy: 0.4912\n",
            "Epoch 31/100\n",
            "196/196 [==============================] - 14s 73ms/step - loss: 1.9122 - accuracy: 0.4932\n",
            "Epoch 32/100\n",
            "196/196 [==============================] - 14s 73ms/step - loss: 1.8860 - accuracy: 0.5006\n",
            "Epoch 33/100\n",
            "196/196 [==============================] - 14s 73ms/step - loss: 1.8692 - accuracy: 0.5037\n",
            "Epoch 34/100\n",
            "196/196 [==============================] - 14s 73ms/step - loss: 1.8431 - accuracy: 0.5089\n",
            "Epoch 35/100\n",
            "196/196 [==============================] - 14s 73ms/step - loss: 1.8335 - accuracy: 0.5122\n",
            "Epoch 36/100\n",
            "196/196 [==============================] - 14s 72ms/step - loss: 1.8155 - accuracy: 0.5144\n",
            "Epoch 37/100\n",
            "196/196 [==============================] - 14s 73ms/step - loss: 1.8078 - accuracy: 0.5154\n",
            "Epoch 38/100\n",
            "196/196 [==============================] - 15s 75ms/step - loss: 1.7872 - accuracy: 0.5194\n",
            "Epoch 39/100\n",
            "196/196 [==============================] - 14s 73ms/step - loss: 1.7733 - accuracy: 0.5255\n",
            "Epoch 40/100\n",
            "196/196 [==============================] - 14s 73ms/step - loss: 1.7550 - accuracy: 0.5285\n",
            "Epoch 41/100\n",
            "196/196 [==============================] - 14s 73ms/step - loss: 1.7438 - accuracy: 0.5324\n",
            "Epoch 42/100\n",
            "196/196 [==============================] - 14s 73ms/step - loss: 1.7366 - accuracy: 0.5339\n",
            "Epoch 43/100\n",
            "196/196 [==============================] - 14s 73ms/step - loss: 1.7175 - accuracy: 0.5364\n",
            "Epoch 44/100\n",
            "196/196 [==============================] - 14s 73ms/step - loss: 1.7081 - accuracy: 0.5392\n",
            "Epoch 45/100\n",
            "196/196 [==============================] - 14s 74ms/step - loss: 1.6913 - accuracy: 0.5409\n",
            "Epoch 46/100\n",
            "196/196 [==============================] - 14s 72ms/step - loss: 1.6832 - accuracy: 0.5438\n",
            "Epoch 47/100\n",
            "196/196 [==============================] - 14s 72ms/step - loss: 1.6776 - accuracy: 0.5481\n",
            "Epoch 48/100\n",
            "196/196 [==============================] - 14s 72ms/step - loss: 1.6610 - accuracy: 0.5503\n",
            "Epoch 49/100\n",
            "196/196 [==============================] - 14s 72ms/step - loss: 1.6552 - accuracy: 0.5495\n",
            "Epoch 50/100\n",
            "196/196 [==============================] - 14s 72ms/step - loss: 1.6367 - accuracy: 0.5548\n",
            "Epoch 51/100\n",
            "196/196 [==============================] - 14s 72ms/step - loss: 1.6291 - accuracy: 0.5560\n",
            "Epoch 52/100\n",
            "196/196 [==============================] - 14s 72ms/step - loss: 1.6194 - accuracy: 0.5575\n",
            "Epoch 53/100\n",
            "196/196 [==============================] - 14s 72ms/step - loss: 1.6162 - accuracy: 0.5577\n",
            "Epoch 54/100\n",
            "196/196 [==============================] - 14s 72ms/step - loss: 1.6058 - accuracy: 0.5608\n",
            "Epoch 55/100\n",
            "196/196 [==============================] - 14s 72ms/step - loss: 1.6005 - accuracy: 0.5622\n",
            "Epoch 56/100\n",
            "196/196 [==============================] - 14s 72ms/step - loss: 1.5834 - accuracy: 0.5664\n",
            "Epoch 57/100\n",
            "196/196 [==============================] - 14s 72ms/step - loss: 1.5721 - accuracy: 0.5683\n",
            "Epoch 58/100\n",
            "196/196 [==============================] - 14s 72ms/step - loss: 1.5696 - accuracy: 0.5684\n",
            "Epoch 59/100\n",
            "196/196 [==============================] - 14s 72ms/step - loss: 1.5629 - accuracy: 0.5700\n",
            "Epoch 60/100\n",
            "196/196 [==============================] - 14s 72ms/step - loss: 1.5551 - accuracy: 0.5732\n",
            "Epoch 61/100\n",
            "196/196 [==============================] - 14s 72ms/step - loss: 1.5469 - accuracy: 0.5725\n",
            "Epoch 62/100\n",
            "196/196 [==============================] - 14s 72ms/step - loss: 1.5433 - accuracy: 0.5737\n",
            "Epoch 63/100\n",
            "196/196 [==============================] - 14s 72ms/step - loss: 1.5321 - accuracy: 0.5761\n",
            "Epoch 64/100\n",
            "196/196 [==============================] - 14s 72ms/step - loss: 1.5220 - accuracy: 0.5794\n",
            "Epoch 65/100\n",
            "196/196 [==============================] - 14s 74ms/step - loss: 1.5133 - accuracy: 0.5821\n",
            "Epoch 66/100\n",
            "196/196 [==============================] - 14s 72ms/step - loss: 1.5068 - accuracy: 0.5822\n",
            "Epoch 67/100\n",
            "196/196 [==============================] - 14s 72ms/step - loss: 1.5065 - accuracy: 0.5799\n",
            "Epoch 68/100\n",
            "196/196 [==============================] - 14s 72ms/step - loss: 1.4962 - accuracy: 0.5843\n",
            "Epoch 69/100\n",
            "196/196 [==============================] - 14s 72ms/step - loss: 1.4852 - accuracy: 0.5865\n",
            "Epoch 70/100\n",
            "196/196 [==============================] - 14s 72ms/step - loss: 1.4767 - accuracy: 0.5898\n",
            "Epoch 71/100\n",
            "196/196 [==============================] - 14s 72ms/step - loss: 1.4823 - accuracy: 0.5867\n",
            "Epoch 72/100\n",
            "196/196 [==============================] - 14s 72ms/step - loss: 1.4700 - accuracy: 0.5896\n",
            "Epoch 73/100\n",
            "196/196 [==============================] - 14s 72ms/step - loss: 1.4632 - accuracy: 0.5922\n",
            "Epoch 74/100\n",
            "196/196 [==============================] - 14s 72ms/step - loss: 1.4582 - accuracy: 0.5894\n",
            "Epoch 75/100\n",
            "196/196 [==============================] - 14s 72ms/step - loss: 1.4513 - accuracy: 0.5958\n",
            "Epoch 76/100\n",
            "196/196 [==============================] - 14s 72ms/step - loss: 1.4417 - accuracy: 0.5969\n",
            "Epoch 77/100\n",
            "196/196 [==============================] - 14s 71ms/step - loss: 1.4427 - accuracy: 0.5975\n",
            "Epoch 78/100\n",
            "196/196 [==============================] - 14s 71ms/step - loss: 1.4346 - accuracy: 0.5971\n",
            "Epoch 79/100\n",
            "196/196 [==============================] - 14s 71ms/step - loss: 1.4341 - accuracy: 0.5971\n",
            "Epoch 80/100\n",
            "196/196 [==============================] - 15s 75ms/step - loss: 1.4277 - accuracy: 0.5977\n",
            "Epoch 81/100\n",
            "196/196 [==============================] - 15s 74ms/step - loss: 1.4162 - accuracy: 0.6034\n",
            "Epoch 82/100\n",
            "196/196 [==============================] - 14s 74ms/step - loss: 1.4184 - accuracy: 0.5988\n",
            "Epoch 83/100\n",
            "196/196 [==============================] - 15s 75ms/step - loss: 1.4081 - accuracy: 0.6021\n",
            "Epoch 84/100\n",
            "196/196 [==============================] - 14s 74ms/step - loss: 1.4052 - accuracy: 0.6068\n",
            "Epoch 85/100\n",
            "196/196 [==============================] - 15s 76ms/step - loss: 1.3986 - accuracy: 0.6061\n",
            "Epoch 86/100\n",
            "196/196 [==============================] - 15s 76ms/step - loss: 1.3942 - accuracy: 0.6048\n",
            "Epoch 87/100\n",
            "196/196 [==============================] - 14s 74ms/step - loss: 1.3857 - accuracy: 0.6061\n"
          ]
        }
      ],
      "source": [
        "history_3 = model_3.fit(X_train, Y_train, epochs=100, batch_size=256, validation_data=(X_validation,y_validation), callbacks = [es])"
      ]
    },
    {
      "cell_type": "markdown",
      "metadata": {},
      "source": [
        "## Sieć nr. 4 - Data Augmentation"
      ]
    },
    {
      "cell_type": "code",
      "execution_count": 170,
      "metadata": {},
      "outputs": [],
      "source": [
        "model_4 = Sequential([\n",
        "  Conv2D(32, kernel_size=(3, 3), activation='relu', input_shape=input_shape),\n",
        "  MaxPooling2D(pool_size=(2,2)), \n",
        "  Conv2D(32, kernel_size=(3,3), activation='relu'),\n",
        "  MaxPooling2D(pool_size=(2,2)), \n",
        "  Flatten(), # tutaj 2-wymiarowe, wielo kanalowe 'obrazki' staja sie wektorem\n",
        "  Dense(128, activation='relu'),\n",
        "  Dense(100, activation='softmax')\n",
        "])\n",
        "model_4.compile(loss='categorical_crossentropy', optimizer='adam', metrics=['accuracy'])"
      ]
    },
    {
      "cell_type": "code",
      "execution_count": null,
      "metadata": {},
      "outputs": [
        {
          "name": "stdout",
          "output_type": "stream",
          "text": [
            "Epoch 1/100\n",
            "196/196 [==============================] - 15s 76ms/step - loss: 4.1605 - accuracy: 0.0678\n",
            "Epoch 2/100\n",
            "196/196 [==============================] - 15s 77ms/step - loss: 3.6319 - accuracy: 0.1566\n",
            "Epoch 3/100\n",
            "196/196 [==============================] - 15s 76ms/step - loss: 3.3863 - accuracy: 0.1991\n",
            "Epoch 4/100\n",
            "196/196 [==============================] - 15s 76ms/step - loss: 3.1890 - accuracy: 0.2342\n",
            "Epoch 5/100\n",
            "196/196 [==============================] - 15s 76ms/step - loss: 3.0243 - accuracy: 0.2665\n",
            "Epoch 6/100\n",
            "196/196 [==============================] - 15s 76ms/step - loss: 2.8965 - accuracy: 0.2900\n",
            "Epoch 7/100\n",
            "196/196 [==============================] - 15s 76ms/step - loss: 2.7954 - accuracy: 0.3102\n",
            "Epoch 8/100\n",
            "196/196 [==============================] - 15s 76ms/step - loss: 2.7171 - accuracy: 0.3263\n",
            "Epoch 9/100\n",
            "196/196 [==============================] - 15s 77ms/step - loss: 2.6368 - accuracy: 0.3420\n",
            "Epoch 10/100\n",
            "196/196 [==============================] - 15s 76ms/step - loss: 2.5745 - accuracy: 0.3535\n",
            "Epoch 11/100\n",
            "196/196 [==============================] - 15s 76ms/step - loss: 2.5110 - accuracy: 0.3677\n",
            "Epoch 12/100\n",
            "196/196 [==============================] - 15s 76ms/step - loss: 2.4526 - accuracy: 0.3803\n",
            "Epoch 13/100\n",
            "196/196 [==============================] - 15s 76ms/step - loss: 2.4155 - accuracy: 0.3881\n",
            "Epoch 14/100\n",
            "196/196 [==============================] - 15s 76ms/step - loss: 2.3614 - accuracy: 0.3966\n",
            "Epoch 15/100\n",
            "196/196 [==============================] - 15s 76ms/step - loss: 2.3265 - accuracy: 0.4055\n",
            "Epoch 16/100\n",
            "196/196 [==============================] - 15s 75ms/step - loss: 2.2808 - accuracy: 0.4155\n",
            "Epoch 17/100\n",
            "196/196 [==============================] - 15s 77ms/step - loss: 2.2553 - accuracy: 0.4209\n",
            "Epoch 18/100\n",
            "196/196 [==============================] - 15s 74ms/step - loss: 2.2158 - accuracy: 0.4289\n",
            "Epoch 19/100\n",
            "196/196 [==============================] - 14s 73ms/step - loss: 2.1816 - accuracy: 0.4368\n",
            "Epoch 20/100\n",
            "196/196 [==============================] - 15s 74ms/step - loss: 2.1558 - accuracy: 0.4412\n",
            "Epoch 21/100\n",
            "196/196 [==============================] - 15s 75ms/step - loss: 2.1299 - accuracy: 0.4466\n",
            "Epoch 22/100\n",
            "196/196 [==============================] - 14s 74ms/step - loss: 2.1026 - accuracy: 0.4547\n",
            "Epoch 23/100\n",
            "196/196 [==============================] - 15s 75ms/step - loss: 2.0688 - accuracy: 0.4619\n",
            "Epoch 24/100\n",
            "196/196 [==============================] - 14s 73ms/step - loss: 2.0514 - accuracy: 0.4630\n",
            "Epoch 25/100\n",
            "196/196 [==============================] - 15s 75ms/step - loss: 2.0302 - accuracy: 0.4685\n",
            "Epoch 26/100\n",
            "196/196 [==============================] - 15s 77ms/step - loss: 2.0047 - accuracy: 0.4720\n",
            "Epoch 27/100\n",
            "196/196 [==============================] - 15s 77ms/step - loss: 1.9866 - accuracy: 0.4760\n",
            "Epoch 28/100\n",
            "196/196 [==============================] - 15s 77ms/step - loss: 1.9625 - accuracy: 0.4829\n",
            "Epoch 29/100\n",
            "196/196 [==============================] - 15s 77ms/step - loss: 1.9390 - accuracy: 0.4897\n",
            "Epoch 30/100\n",
            "196/196 [==============================] - 15s 78ms/step - loss: 1.9219 - accuracy: 0.4910\n",
            "Epoch 31/100\n",
            "196/196 [==============================] - 15s 77ms/step - loss: 1.9039 - accuracy: 0.4950\n",
            "Epoch 32/100\n",
            "196/196 [==============================] - 15s 76ms/step - loss: 1.8908 - accuracy: 0.4978\n",
            "Epoch 33/100\n",
            "196/196 [==============================] - 14s 73ms/step - loss: 1.8671 - accuracy: 0.5041\n",
            "Epoch 34/100\n",
            "196/196 [==============================] - 14s 73ms/step - loss: 1.8548 - accuracy: 0.5050\n",
            "Epoch 35/100\n",
            "196/196 [==============================] - 15s 76ms/step - loss: 1.8330 - accuracy: 0.5106\n",
            "Epoch 36/100\n",
            "196/196 [==============================] - 15s 76ms/step - loss: 1.8254 - accuracy: 0.5147\n",
            "Epoch 37/100\n",
            "196/196 [==============================] - 15s 75ms/step - loss: 1.8129 - accuracy: 0.5168\n",
            "Epoch 38/100\n",
            "196/196 [==============================] - 15s 75ms/step - loss: 1.7948 - accuracy: 0.5209\n",
            "Epoch 39/100\n",
            "196/196 [==============================] - 15s 75ms/step - loss: 1.7790 - accuracy: 0.5233\n",
            "Epoch 40/100\n",
            "196/196 [==============================] - 14s 74ms/step - loss: 1.7718 - accuracy: 0.5232\n",
            "Epoch 41/100\n",
            "196/196 [==============================] - 14s 73ms/step - loss: 1.7625 - accuracy: 0.5259\n",
            "Epoch 42/100\n",
            "196/196 [==============================] - 14s 72ms/step - loss: 1.7471 - accuracy: 0.5281\n",
            "Epoch 43/100\n",
            "196/196 [==============================] - 15s 75ms/step - loss: 1.7255 - accuracy: 0.5322\n",
            "Epoch 44/100\n",
            "196/196 [==============================] - 14s 74ms/step - loss: 1.7212 - accuracy: 0.5373\n",
            "Epoch 45/100\n",
            "196/196 [==============================] - 14s 71ms/step - loss: 1.7055 - accuracy: 0.5387\n",
            "Epoch 46/100\n",
            "196/196 [==============================] - 14s 71ms/step - loss: 1.6913 - accuracy: 0.5405\n",
            "Epoch 47/100\n",
            "196/196 [==============================] - 14s 71ms/step - loss: 1.6884 - accuracy: 0.5440\n",
            "Epoch 48/100\n",
            "196/196 [==============================] - 14s 71ms/step - loss: 1.6734 - accuracy: 0.5448\n",
            "Epoch 49/100\n",
            "196/196 [==============================] - 14s 71ms/step - loss: 1.6655 - accuracy: 0.5471\n",
            "Epoch 50/100\n",
            "196/196 [==============================] - 14s 71ms/step - loss: 1.6607 - accuracy: 0.5470\n",
            "Epoch 51/100\n",
            "196/196 [==============================] - 14s 71ms/step - loss: 1.6511 - accuracy: 0.5495\n",
            "Epoch 52/100\n",
            "196/196 [==============================] - 14s 71ms/step - loss: 1.6380 - accuracy: 0.5542\n",
            "Epoch 53/100\n",
            "196/196 [==============================] - 14s 71ms/step - loss: 1.6307 - accuracy: 0.5553\n",
            "Epoch 54/100\n",
            "196/196 [==============================] - 14s 71ms/step - loss: 1.6193 - accuracy: 0.5563\n",
            "Epoch 55/100\n",
            "196/196 [==============================] - 14s 71ms/step - loss: 1.6161 - accuracy: 0.5561\n",
            "Epoch 56/100\n",
            "196/196 [==============================] - 14s 71ms/step - loss: 1.6033 - accuracy: 0.5600\n",
            "Epoch 57/100\n",
            "196/196 [==============================] - 14s 71ms/step - loss: 1.5944 - accuracy: 0.5622\n",
            "Epoch 58/100\n",
            "196/196 [==============================] - 14s 71ms/step - loss: 1.5853 - accuracy: 0.5669\n",
            "Epoch 59/100\n",
            "196/196 [==============================] - 14s 71ms/step - loss: 1.5822 - accuracy: 0.5669\n",
            "Epoch 60/100\n",
            "196/196 [==============================] - 14s 72ms/step - loss: 1.5751 - accuracy: 0.5676\n",
            "Epoch 61/100\n",
            "196/196 [==============================] - 14s 71ms/step - loss: 1.5611 - accuracy: 0.5718\n",
            "Epoch 62/100\n",
            "196/196 [==============================] - 14s 71ms/step - loss: 1.5579 - accuracy: 0.5700\n",
            "Epoch 63/100\n",
            "196/196 [==============================] - 14s 71ms/step - loss: 1.5525 - accuracy: 0.5704\n",
            "Epoch 64/100\n",
            "196/196 [==============================] - 14s 71ms/step - loss: 1.5442 - accuracy: 0.5742\n",
            "Epoch 65/100\n",
            "196/196 [==============================] - 14s 71ms/step - loss: 1.5349 - accuracy: 0.5749\n",
            "Epoch 66/100\n",
            "196/196 [==============================] - 14s 71ms/step - loss: 1.5316 - accuracy: 0.5762\n",
            "Epoch 67/100\n",
            "196/196 [==============================] - 14s 71ms/step - loss: 1.5184 - accuracy: 0.5810\n",
            "Epoch 68/100\n",
            "196/196 [==============================] - 14s 71ms/step - loss: 1.5154 - accuracy: 0.5776\n",
            "Epoch 69/100\n",
            "196/196 [==============================] - 14s 73ms/step - loss: 1.5073 - accuracy: 0.5808\n",
            "Epoch 70/100\n",
            "196/196 [==============================] - 15s 78ms/step - loss: 1.5064 - accuracy: 0.5811\n",
            "Epoch 71/100\n",
            "196/196 [==============================] - 15s 78ms/step - loss: 1.4994 - accuracy: 0.5830\n",
            "Epoch 72/100\n",
            "196/196 [==============================] - 15s 75ms/step - loss: 1.4881 - accuracy: 0.5836\n",
            "Epoch 73/100\n",
            "196/196 [==============================] - 15s 76ms/step - loss: 1.4867 - accuracy: 0.5834\n",
            "Epoch 74/100\n",
            "196/196 [==============================] - 14s 74ms/step - loss: 1.4830 - accuracy: 0.5859\n",
            "Epoch 75/100\n",
            "196/196 [==============================] - 14s 74ms/step - loss: 1.4740 - accuracy: 0.5883\n",
            "Epoch 76/100\n",
            "196/196 [==============================] - 15s 75ms/step - loss: 1.4662 - accuracy: 0.5927\n",
            "Epoch 77/100\n",
            "196/196 [==============================] - 15s 77ms/step - loss: 1.4644 - accuracy: 0.5887\n",
            "Epoch 78/100\n",
            "196/196 [==============================] - 15s 75ms/step - loss: 1.4488 - accuracy: 0.5968\n",
            "Epoch 79/100\n",
            "196/196 [==============================] - 15s 77ms/step - loss: 1.4533 - accuracy: 0.5924\n",
            "Epoch 80/100\n",
            "196/196 [==============================] - 15s 75ms/step - loss: 1.4537 - accuracy: 0.5943\n",
            "Epoch 81/100\n",
            "196/196 [==============================] - 15s 74ms/step - loss: 1.4431 - accuracy: 0.5951\n"
          ]
        }
      ],
      "source": [
        "history_4 = model_4.fit(X_train, Y_train, epochs=100, batch_size=256, validation_data=(X_validation,y_validation), callbacks = [es])"
      ]
    },
    {
      "cell_type": "code",
      "execution_count": 172,
      "metadata": {},
      "outputs": [
        {
          "ename": "AttributeError",
          "evalue": "'numpy.ndarray' object has no attribute 'map'",
          "output_type": "error",
          "traceback": [
            "\u001b[1;31m---------------------------------------------------------------------------\u001b[0m",
            "\u001b[1;31mAttributeError\u001b[0m                            Traceback (most recent call last)",
            "Input \u001b[1;32mIn [172]\u001b[0m, in \u001b[0;36m<module>\u001b[1;34m\u001b[0m\n\u001b[0;32m      9\u001b[0m   image \u001b[38;5;241m=\u001b[39m tf\u001b[38;5;241m.\u001b[39mimage\u001b[38;5;241m.\u001b[39mrandom_brightness(image, max_delta\u001b[38;5;241m=\u001b[39m\u001b[38;5;241m0.5\u001b[39m)\n\u001b[0;32m     10\u001b[0m   \u001b[38;5;28;01mreturn\u001b[39;00m image, label\n\u001b[1;32m---> 12\u001b[0m X_train \u001b[38;5;241m=\u001b[39m \u001b[43mX_train\u001b[49m\u001b[38;5;241;43m.\u001b[39;49m\u001b[43mmap\u001b[49m(augment, num_parallel_calls\u001b[38;5;241m=\u001b[39mtf\u001b[38;5;241m.\u001b[39mdata\u001b[38;5;241m.\u001b[39mexperimental\u001b[38;5;241m.\u001b[39mAUTOTUNE)\u001b[38;5;241m.\u001b[39mbatch(batch_size)\u001b[38;5;241m.\u001b[39mprefetch(AUTOTUNE)\n",
            "\u001b[1;31mAttributeError\u001b[0m: 'numpy.ndarray' object has no attribute 'map'"
          ]
        }
      ],
      "source": [
        "import tensorflow as tf\n",
        "\n",
        "IMG_SIZE = 32\n",
        "def augment(image, label):\n",
        "  image = tf.cast(image, tf.float32)\n",
        "  image = tf.image.resize(image, [IMG_SIZE, IMG_SIZE])\n",
        "  image = (image / 255.0)\n",
        "  image = tf.image.random_crop(image, size=[IMG_SIZE, IMG_SIZE, 3])\n",
        "  image = tf.image.random_brightness(image, max_delta=0.5)\n",
        "  return image, label\n",
        "np\n",
        "X_train = X_train.map(augment, num_parallel_calls=tf.data.experimental.AUTOTUNE).batch(batch_size).prefetch(AUTOTUNE)"
      ]
    }
  ],
  "metadata": {
    "accelerator": "GPU",
    "colab": {
      "collapsed_sections": [],
      "name": "ZUM_img_1_22q1.ipynb",
      "provenance": [],
      "toc_visible": true
    },
    "kernelspec": {
      "display_name": "Python 3",
      "name": "python3"
    },
    "language_info": {
      "codemirror_mode": {
        "name": "ipython",
        "version": 3
      },
      "file_extension": ".py",
      "mimetype": "text/x-python",
      "name": "python",
      "nbconvert_exporter": "python",
      "pygments_lexer": "ipython3",
      "version": "3.9.5"
    }
  },
  "nbformat": 4,
  "nbformat_minor": 0
}
